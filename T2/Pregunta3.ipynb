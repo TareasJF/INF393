{
 "cells": [
  {
   "cell_type": "markdown",
   "metadata": {},
   "source": [
    "# 3. Análisis de emociones en tweets"
   ]
  },
  {
   "cell_type": "markdown",
   "metadata": {},
   "source": [
    "**a)** Construya un dataframe con los datos a analizar. Determine cuántas clases existen, cuántos registros por clase y describa el dataset."
   ]
  },
  {
   "cell_type": "code",
   "execution_count": 1,
   "metadata": {},
   "outputs": [
    {
     "data": {
      "text/html": [
       "<div>\n",
       "<style scoped>\n",
       "    .dataframe tbody tr th:only-of-type {\n",
       "        vertical-align: middle;\n",
       "    }\n",
       "\n",
       "    .dataframe tbody tr th {\n",
       "        vertical-align: top;\n",
       "    }\n",
       "\n",
       "    .dataframe thead th {\n",
       "        text-align: right;\n",
       "    }\n",
       "</style>\n",
       "<table border=\"1\" class=\"dataframe\">\n",
       "  <thead>\n",
       "    <tr style=\"text-align: right;\">\n",
       "      <th></th>\n",
       "      <th>tweet_id</th>\n",
       "      <th>sentiment</th>\n",
       "      <th>author</th>\n",
       "      <th>content</th>\n",
       "    </tr>\n",
       "  </thead>\n",
       "  <tbody>\n",
       "    <tr>\n",
       "      <th>0</th>\n",
       "      <td>1956967341</td>\n",
       "      <td>empty</td>\n",
       "      <td>xoshayzers</td>\n",
       "      <td>@tiffanylue i know  i was listenin to bad habi...</td>\n",
       "    </tr>\n",
       "    <tr>\n",
       "      <th>1</th>\n",
       "      <td>1956967666</td>\n",
       "      <td>sadness</td>\n",
       "      <td>wannamama</td>\n",
       "      <td>Layin n bed with a headache  ughhhh...waitin o...</td>\n",
       "    </tr>\n",
       "    <tr>\n",
       "      <th>2</th>\n",
       "      <td>1956967696</td>\n",
       "      <td>sadness</td>\n",
       "      <td>coolfunky</td>\n",
       "      <td>Funeral ceremony...gloomy friday...</td>\n",
       "    </tr>\n",
       "    <tr>\n",
       "      <th>3</th>\n",
       "      <td>1956967789</td>\n",
       "      <td>enthusiasm</td>\n",
       "      <td>czareaquino</td>\n",
       "      <td>wants to hang out with friends SOON!</td>\n",
       "    </tr>\n",
       "    <tr>\n",
       "      <th>4</th>\n",
       "      <td>1956968416</td>\n",
       "      <td>neutral</td>\n",
       "      <td>xkilljoyx</td>\n",
       "      <td>@dannycastillo We want to trade with someone w...</td>\n",
       "    </tr>\n",
       "  </tbody>\n",
       "</table>\n",
       "</div>"
      ],
      "text/plain": [
       "     tweet_id   sentiment       author  \\\n",
       "0  1956967341       empty   xoshayzers   \n",
       "1  1956967666     sadness    wannamama   \n",
       "2  1956967696     sadness    coolfunky   \n",
       "3  1956967789  enthusiasm  czareaquino   \n",
       "4  1956968416     neutral    xkilljoyx   \n",
       "\n",
       "                                             content  \n",
       "0  @tiffanylue i know  i was listenin to bad habi...  \n",
       "1  Layin n bed with a headache  ughhhh...waitin o...  \n",
       "2                Funeral ceremony...gloomy friday...  \n",
       "3               wants to hang out with friends SOON!  \n",
       "4  @dannycastillo We want to trade with someone w...  "
      ]
     },
     "execution_count": 1,
     "metadata": {},
     "output_type": "execute_result"
    }
   ],
   "source": [
    "import pandas as pd\n",
    "tweets = pd.read_csv('./data/text_emotion.csv')\n",
    "tweets.head()"
   ]
  },
  {
   "cell_type": "code",
   "execution_count": 2,
   "metadata": {},
   "outputs": [
    {
     "data": {
      "text/html": [
       "<div>\n",
       "<style scoped>\n",
       "    .dataframe tbody tr th:only-of-type {\n",
       "        vertical-align: middle;\n",
       "    }\n",
       "\n",
       "    .dataframe tbody tr th {\n",
       "        vertical-align: top;\n",
       "    }\n",
       "\n",
       "    .dataframe thead th {\n",
       "        text-align: right;\n",
       "    }\n",
       "</style>\n",
       "<table border=\"1\" class=\"dataframe\">\n",
       "  <thead>\n",
       "    <tr style=\"text-align: right;\">\n",
       "      <th></th>\n",
       "      <th>sentiment</th>\n",
       "      <th>count</th>\n",
       "    </tr>\n",
       "  </thead>\n",
       "  <tbody>\n",
       "    <tr>\n",
       "      <th>0</th>\n",
       "      <td>neutral</td>\n",
       "      <td>8638</td>\n",
       "    </tr>\n",
       "    <tr>\n",
       "      <th>1</th>\n",
       "      <td>worry</td>\n",
       "      <td>8459</td>\n",
       "    </tr>\n",
       "    <tr>\n",
       "      <th>2</th>\n",
       "      <td>happiness</td>\n",
       "      <td>5209</td>\n",
       "    </tr>\n",
       "    <tr>\n",
       "      <th>3</th>\n",
       "      <td>sadness</td>\n",
       "      <td>5165</td>\n",
       "    </tr>\n",
       "    <tr>\n",
       "      <th>4</th>\n",
       "      <td>love</td>\n",
       "      <td>3842</td>\n",
       "    </tr>\n",
       "    <tr>\n",
       "      <th>5</th>\n",
       "      <td>surprise</td>\n",
       "      <td>2187</td>\n",
       "    </tr>\n",
       "    <tr>\n",
       "      <th>6</th>\n",
       "      <td>fun</td>\n",
       "      <td>1776</td>\n",
       "    </tr>\n",
       "    <tr>\n",
       "      <th>7</th>\n",
       "      <td>relief</td>\n",
       "      <td>1526</td>\n",
       "    </tr>\n",
       "    <tr>\n",
       "      <th>8</th>\n",
       "      <td>hate</td>\n",
       "      <td>1323</td>\n",
       "    </tr>\n",
       "    <tr>\n",
       "      <th>9</th>\n",
       "      <td>empty</td>\n",
       "      <td>827</td>\n",
       "    </tr>\n",
       "    <tr>\n",
       "      <th>10</th>\n",
       "      <td>enthusiasm</td>\n",
       "      <td>759</td>\n",
       "    </tr>\n",
       "    <tr>\n",
       "      <th>11</th>\n",
       "      <td>boredom</td>\n",
       "      <td>179</td>\n",
       "    </tr>\n",
       "    <tr>\n",
       "      <th>12</th>\n",
       "      <td>anger</td>\n",
       "      <td>110</td>\n",
       "    </tr>\n",
       "  </tbody>\n",
       "</table>\n",
       "</div>"
      ],
      "text/plain": [
       "     sentiment  count\n",
       "0      neutral   8638\n",
       "1        worry   8459\n",
       "2    happiness   5209\n",
       "3      sadness   5165\n",
       "4         love   3842\n",
       "5     surprise   2187\n",
       "6          fun   1776\n",
       "7       relief   1526\n",
       "8         hate   1323\n",
       "9        empty    827\n",
       "10  enthusiasm    759\n",
       "11     boredom    179\n",
       "12       anger    110"
      ]
     },
     "execution_count": 2,
     "metadata": {},
     "output_type": "execute_result"
    }
   ],
   "source": [
    "clases = pd.DataFrame(tweets['sentiment'].value_counts().reset_index())\n",
    "clases.columns = [\"sentiment\", \"count\"]\n",
    "clases"
   ]
  },
  {
   "cell_type": "markdown",
   "metadata": {},
   "source": [
    "El dataset cuenta con cuatro columnas, las que corresponden a el id del tweet, el autor y el contenido de este, junto con el sentimiento asociado al contenido.\n",
    "Los sentimientos encontrados son 13, contando \"neutral\" como uno de ellos."
   ]
  },
  {
   "cell_type": "markdown",
   "metadata": {},
   "source": [
    "**b)** Construya un conjunto de entrenamiento y otro de pruebas, a través de una máscara aleatoria, para verificar los resultados de los algoritmos."
   ]
  },
  {
   "cell_type": "markdown",
   "metadata": {},
   "source": [
    "La máscara se aplicará después de pre-procesar el dataset y antes de entrenar el clasificador"
   ]
  },
  {
   "cell_type": "markdown",
   "metadata": {},
   "source": [
    "**c)** Implemente y explique un pre-procesamiento para los tweets para dejarlos en un formato estándarizado en el cual se podrán trabajar."
   ]
  },
  {
   "cell_type": "code",
   "execution_count": 3,
   "metadata": {},
   "outputs": [
    {
     "name": "stdout",
     "output_type": "stream",
     "text": [
      "[nltk_data] Downloading package punkt to\n",
      "[nltk_data]     /Users/felipemorales/nltk_data...\n",
      "[nltk_data]   Package punkt is already up-to-date!\n",
      "[nltk_data] Downloading package stopwords to\n",
      "[nltk_data]     /Users/felipemorales/nltk_data...\n",
      "[nltk_data]   Package stopwords is already up-to-date!\n"
     ]
    },
    {
     "data": {
      "text/plain": [
       "True"
      ]
     },
     "execution_count": 3,
     "metadata": {},
     "output_type": "execute_result"
    }
   ],
   "source": [
    "from nltk.stem import PorterStemmer\n",
    "from nltk.tokenize import sent_tokenize, TweetTokenizer\n",
    "from nltk.corpus import stopwords\n",
    "import nltk\n",
    "import re\n",
    "\n",
    "nltk.download('punkt')\n",
    "nltk.download('stopwords')"
   ]
  },
  {
   "cell_type": "code",
   "execution_count": 4,
   "metadata": {},
   "outputs": [
    {
     "data": {
      "text/html": [
       "<div>\n",
       "<style scoped>\n",
       "    .dataframe tbody tr th:only-of-type {\n",
       "        vertical-align: middle;\n",
       "    }\n",
       "\n",
       "    .dataframe tbody tr th {\n",
       "        vertical-align: top;\n",
       "    }\n",
       "\n",
       "    .dataframe thead th {\n",
       "        text-align: right;\n",
       "    }\n",
       "</style>\n",
       "<table border=\"1\" class=\"dataframe\">\n",
       "  <thead>\n",
       "    <tr style=\"text-align: right;\">\n",
       "      <th></th>\n",
       "      <th>tweet_id</th>\n",
       "      <th>sentiment</th>\n",
       "      <th>author</th>\n",
       "      <th>content</th>\n",
       "      <th>norm_content</th>\n",
       "    </tr>\n",
       "  </thead>\n",
       "  <tbody>\n",
       "    <tr>\n",
       "      <th>0</th>\n",
       "      <td>1956967341</td>\n",
       "      <td>empty</td>\n",
       "      <td>xoshayzers</td>\n",
       "      <td>@tiffanylue i know  i was listenin to bad habi...</td>\n",
       "      <td>[know, listenin, bad, habit, earlier, start, f...</td>\n",
       "    </tr>\n",
       "    <tr>\n",
       "      <th>1</th>\n",
       "      <td>1956967666</td>\n",
       "      <td>sadness</td>\n",
       "      <td>wannamama</td>\n",
       "      <td>Layin n bed with a headache  ughhhh...waitin o...</td>\n",
       "      <td>[layin, bed, headach, ughhh, ..., waitin, call...</td>\n",
       "    </tr>\n",
       "    <tr>\n",
       "      <th>2</th>\n",
       "      <td>1956967696</td>\n",
       "      <td>sadness</td>\n",
       "      <td>coolfunky</td>\n",
       "      <td>Funeral ceremony...gloomy friday...</td>\n",
       "      <td>[funer, ceremoni, ..., gloomi, friday, ...]</td>\n",
       "    </tr>\n",
       "    <tr>\n",
       "      <th>3</th>\n",
       "      <td>1956967789</td>\n",
       "      <td>enthusiasm</td>\n",
       "      <td>czareaquino</td>\n",
       "      <td>wants to hang out with friends SOON!</td>\n",
       "      <td>[want, hang, friend, soon]</td>\n",
       "    </tr>\n",
       "    <tr>\n",
       "      <th>4</th>\n",
       "      <td>1956968416</td>\n",
       "      <td>neutral</td>\n",
       "      <td>xkilljoyx</td>\n",
       "      <td>@dannycastillo We want to trade with someone w...</td>\n",
       "      <td>[want, trade, someon, houston, ticket, one]</td>\n",
       "    </tr>\n",
       "  </tbody>\n",
       "</table>\n",
       "</div>"
      ],
      "text/plain": [
       "     tweet_id   sentiment       author  \\\n",
       "0  1956967341       empty   xoshayzers   \n",
       "1  1956967666     sadness    wannamama   \n",
       "2  1956967696     sadness    coolfunky   \n",
       "3  1956967789  enthusiasm  czareaquino   \n",
       "4  1956968416     neutral    xkilljoyx   \n",
       "\n",
       "                                             content  \\\n",
       "0  @tiffanylue i know  i was listenin to bad habi...   \n",
       "1  Layin n bed with a headache  ughhhh...waitin o...   \n",
       "2                Funeral ceremony...gloomy friday...   \n",
       "3               wants to hang out with friends SOON!   \n",
       "4  @dannycastillo We want to trade with someone w...   \n",
       "\n",
       "                                        norm_content  \n",
       "0  [know, listenin, bad, habit, earlier, start, f...  \n",
       "1  [layin, bed, headach, ughhh, ..., waitin, call...  \n",
       "2        [funer, ceremoni, ..., gloomi, friday, ...]  \n",
       "3                         [want, hang, friend, soon]  \n",
       "4        [want, trade, someon, houston, ticket, one]  "
      ]
     },
     "execution_count": 4,
     "metadata": {},
     "output_type": "execute_result"
    }
   ],
   "source": [
    "df = tweets.copy()\n",
    "\n",
    "ps = PorterStemmer()\n",
    "sw = stopwords.words('english')\n",
    "tknzr = TweetTokenizer(strip_handles=True, reduce_len=True)\n",
    "\n",
    "df['norm_content'] = df['content'].apply(lambda x: tknzr.tokenize(x.lower()))\n",
    "df['norm_content'] = df['norm_content'].apply(lambda x: [w for w in x if (w not in sw and len(w)>2)])\n",
    "df['norm_content'] = df['norm_content'].apply(lambda x: [ps.stem(w) for w in x])\n",
    "df.head()"
   ]
  },
  {
   "cell_type": "markdown",
   "metadata": {},
   "source": [
    "Ahora se hace la separación de test - train"
   ]
  },
  {
   "cell_type": "code",
   "execution_count": 5,
   "metadata": {},
   "outputs": [],
   "source": [
    "import numpy as np\n",
    "np.random.seed(14)\n",
    "msk = np.random.rand(len(df)) < 0.8\n",
    "\n",
    "# manual preprocess\n",
    "df_train = df[msk].copy()\n",
    "df_test = df[~msk].copy()\n",
    "\n",
    "# default countvector preprocess\n",
    "df_train_df = df[msk].copy()"
   ]
  },
  {
   "cell_type": "code",
   "execution_count": 6,
   "metadata": {},
   "outputs": [
    {
     "data": {
      "image/png": "[encoded data removed]",
      "text/plain": [
       "<matplotlib.figure.Figure at 0x1124e70b8>"
      ]
     },
     "metadata": {},
     "output_type": "display_data"
    }
   ],
   "source": [
    "import matplotlib.pyplot as plt\n",
    "\n",
    "length = df_train['norm_content'].map(len)\n",
    "\n",
    "plt.figure(figsize=(20,10))\n",
    "plt.hist(length, bins=(max(length)-min(length)+1), align='right')\n",
    "plt.title(\"Tokens count distribution\")\n",
    "plt.xlabel(\"Lenght\")\n",
    "plt.ylabel(\"Frequency\")\n",
    "plt.xticks(np.arange(min(length), max(length)+1, 1))\n",
    "plt.show()"
   ]
  },
  {
   "cell_type": "code",
   "execution_count": 7,
   "metadata": {},
   "outputs": [
    {
     "data": {
      "image/png": "[encoded data removed]",
      "text/plain": [
       "<matplotlib.figure.Figure at 0x1124e7470>"
      ]
     },
     "metadata": {},
     "output_type": "display_data"
    }
   ],
   "source": [
    "length = df_train['norm_content'].map(len)\n",
    "df_train = df_train[np.abs(length-length.mean())<=(3*length.std())] \n",
    "length = df_train['norm_content'].map(len)\n",
    "\n",
    "plt.figure(figsize=(20,10))\n",
    "plt.hist(length, bins=(max(length)-min(length)+1), align='right')\n",
    "plt.title(\"Tokens count distribution\")\n",
    "plt.xlabel(\"Lenght\")\n",
    "plt.ylabel(\"Frequency\")\n",
    "plt.xticks(np.arange(min(length), max(length)+1, 1))\n",
    "plt.show()"
   ]
  },
  {
   "cell_type": "markdown",
   "metadata": {},
   "source": [
    "**d)** Haga una reducción binaria al problema, para trabajarlo como un problema de clasificación de dos clases. Para esto, agrupe las distintas emociones como positivas y negativas (defina un criterio), se recomienda codificar las clases como +1 y −1 respectivamente. Recuerde tener presente que el desbalanceo de los datos puede afectar considerablemente al modelo."
   ]
  },
  {
   "cell_type": "code",
   "execution_count": 8,
   "metadata": {},
   "outputs": [
    {
     "name": "stdout",
     "output_type": "stream",
     "text": [
      " 1    23937\n",
      "-1    16063\n",
      "Name: clase, dtype: int64\n"
     ]
    },
    {
     "data": {
      "text/html": [
       "<div>\n",
       "<style scoped>\n",
       "    .dataframe tbody tr th:only-of-type {\n",
       "        vertical-align: middle;\n",
       "    }\n",
       "\n",
       "    .dataframe tbody tr th {\n",
       "        vertical-align: top;\n",
       "    }\n",
       "\n",
       "    .dataframe thead th {\n",
       "        text-align: right;\n",
       "    }\n",
       "</style>\n",
       "<table border=\"1\" class=\"dataframe\">\n",
       "  <thead>\n",
       "    <tr style=\"text-align: right;\">\n",
       "      <th></th>\n",
       "      <th>tweet_id</th>\n",
       "      <th>sentiment</th>\n",
       "      <th>author</th>\n",
       "      <th>content</th>\n",
       "      <th>norm_content</th>\n",
       "    </tr>\n",
       "  </thead>\n",
       "  <tbody>\n",
       "    <tr>\n",
       "      <th>0</th>\n",
       "      <td>1956967341</td>\n",
       "      <td>empty</td>\n",
       "      <td>xoshayzers</td>\n",
       "      <td>@tiffanylue i know  i was listenin to bad habi...</td>\n",
       "      <td>[know, listenin, bad, habit, earlier, start, f...</td>\n",
       "    </tr>\n",
       "    <tr>\n",
       "      <th>1</th>\n",
       "      <td>1956967666</td>\n",
       "      <td>sadness</td>\n",
       "      <td>wannamama</td>\n",
       "      <td>Layin n bed with a headache  ughhhh...waitin o...</td>\n",
       "      <td>[layin, bed, headach, ughhh, ..., waitin, call...</td>\n",
       "    </tr>\n",
       "    <tr>\n",
       "      <th>2</th>\n",
       "      <td>1956967696</td>\n",
       "      <td>sadness</td>\n",
       "      <td>coolfunky</td>\n",
       "      <td>Funeral ceremony...gloomy friday...</td>\n",
       "      <td>[funer, ceremoni, ..., gloomi, friday, ...]</td>\n",
       "    </tr>\n",
       "    <tr>\n",
       "      <th>3</th>\n",
       "      <td>1956967789</td>\n",
       "      <td>enthusiasm</td>\n",
       "      <td>czareaquino</td>\n",
       "      <td>wants to hang out with friends SOON!</td>\n",
       "      <td>[want, hang, friend, soon]</td>\n",
       "    </tr>\n",
       "    <tr>\n",
       "      <th>4</th>\n",
       "      <td>1956968416</td>\n",
       "      <td>neutral</td>\n",
       "      <td>xkilljoyx</td>\n",
       "      <td>@dannycastillo We want to trade with someone w...</td>\n",
       "      <td>[want, trade, someon, houston, ticket, one]</td>\n",
       "    </tr>\n",
       "  </tbody>\n",
       "</table>\n",
       "</div>"
      ],
      "text/plain": [
       "     tweet_id   sentiment       author  \\\n",
       "0  1956967341       empty   xoshayzers   \n",
       "1  1956967666     sadness    wannamama   \n",
       "2  1956967696     sadness    coolfunky   \n",
       "3  1956967789  enthusiasm  czareaquino   \n",
       "4  1956968416     neutral    xkilljoyx   \n",
       "\n",
       "                                             content  \\\n",
       "0  @tiffanylue i know  i was listenin to bad habi...   \n",
       "1  Layin n bed with a headache  ughhhh...waitin o...   \n",
       "2                Funeral ceremony...gloomy friday...   \n",
       "3               wants to hang out with friends SOON!   \n",
       "4  @dannycastillo We want to trade with someone w...   \n",
       "\n",
       "                                        norm_content  \n",
       "0  [know, listenin, bad, habit, earlier, start, f...  \n",
       "1  [layin, bed, headach, ughhh, ..., waitin, call...  \n",
       "2        [funer, ceremoni, ..., gloomi, friday, ...]  \n",
       "3                         [want, hang, friend, soon]  \n",
       "4        [want, trade, someon, houston, ticket, one]  "
      ]
     },
     "execution_count": 8,
     "metadata": {},
     "output_type": "execute_result"
    }
   ],
   "source": [
    "pos = ['neutral', 'happiness', 'love', 'surprise', 'fun', 'relief', 'enthusiasm']\n",
    "\n",
    "df_train['clase'] = df_train['sentiment'].apply(lambda x: 1 if x in pos else -1)\n",
    "df_train_df['clase'] = df_train_df['sentiment'].apply(lambda x: 1 if x in pos else -1)\n",
    "\n",
    "df_test['clase'] = df_test['sentiment'].apply(lambda x: 1 if x in pos else -1)\n",
    "\n",
    "print(df_train_df['clase'].value_counts()+df_test['clase'].value_counts())\n",
    "df.head()"
   ]
  },
  {
   "cell_type": "markdown",
   "metadata": {},
   "source": [
    "**e)** Construir un clasificador que determine automáticamente la polaridad de un trozo de texto."
   ]
  },
  {
   "cell_type": "code",
   "execution_count": 9,
   "metadata": {},
   "outputs": [],
   "source": [
    "from sklearn.feature_extraction.text import CountVectorizer\n",
    "\n",
    "def echo(args):\n",
    "    return args\n",
    "\n",
    "# Pre-proceso propio\n",
    "vectorizer = CountVectorizer(tokenizer=echo, preprocessor=echo, lowercase=False)\n",
    "X_train = vectorizer.fit_transform(df_train['norm_content'])\n",
    "X_test = vectorizer.transform(df_test['norm_content'])\n",
    "\n",
    "# Pre-proseso por default de CountVectorizer\n",
    "vectorizer_df = CountVectorizer()\n",
    "X_train_df = vectorizer_df.fit_transform(df_train_df['content'])\n",
    "X_test_df = vectorizer_df.transform(df_test['content'])"
   ]
  },
  {
   "cell_type": "markdown",
   "metadata": {},
   "source": [
    "**f)** Entrene y compare al menos 5 de los diferentes clasificadores vistos en clases para clasificación binaria (por ejemplo: Navie Bayes, Multinomial Naive Bayes, LDA, QDA, Regresión logística, SVM y Arboles de decisión) sobre el conjunto de entrenamiento verificando su desempeño sobre ambos conjuntos (entrenamiento y de pruebas), construyendo un gráfico resumen del error de éstos."
   ]
  },
  {
   "cell_type": "code",
   "execution_count": 10,
   "metadata": {},
   "outputs": [],
   "source": [
    "def train(name, model, X_train, y_train, X_test, y_test):\n",
    "    model.fit(X_train, y_train)\n",
    "    score_train = model.score(X_train, y_train)\n",
    "    score_test = model.score(X_test, y_test)\n",
    "    \n",
    "    print(name+\" scores:    \\t train: %.3f \\t test: %.3f\"%(score_train,score_test))\n",
    "\n",
    "    return (name, model, score_train, score_test)"
   ]
  },
  {
   "cell_type": "code",
   "execution_count": 11,
   "metadata": {},
   "outputs": [
    {
     "name": "stdout",
     "output_type": "stream",
     "text": [
      "Naive Bayes scores:    \t train: 0.810 \t test: 0.706\n",
      "Naive Bayes df scores:    \t train: 0.840 \t test: 0.697\n"
     ]
    }
   ],
   "source": [
    "from sklearn.naive_bayes import BernoulliNB\n",
    "naive_bayes = train(\"Naive Bayes\",BernoulliNB(), X_train, df_train['clase'], X_test, df_test['clase'])\n",
    "naive_bayes_df = train(\"Naive Bayes df\",BernoulliNB(), X_train_df, df_train_df['clase'], X_test_df, df_test['clase'])"
   ]
  },
  {
   "cell_type": "code",
   "execution_count": 12,
   "metadata": {},
   "outputs": [
    {
     "name": "stdout",
     "output_type": "stream",
     "text": [
      "Multi Naive Bayes scores:    \t train: 0.821 \t test: 0.709\n",
      "Multi Naive Bayes df scores:    \t train: 0.863 \t test: 0.710\n"
     ]
    }
   ],
   "source": [
    "from sklearn.naive_bayes import MultinomialNB\n",
    "multi_naive_bayes = train(\"Multi Naive Bayes\",MultinomialNB(), X_train, df_train['clase'], X_test, df_test['clase'])\n",
    "multi_naive_bayes_df = train(\"Multi Naive Bayes df\", MultinomialNB(), X_train_df, df_train_df['clase'], X_test_df, df_test['clase'])"
   ]
  },
  {
   "cell_type": "code",
   "execution_count": 13,
   "metadata": {},
   "outputs": [
    {
     "name": "stdout",
     "output_type": "stream",
     "text": [
      "LogisticRegression scores:    \t train: 0.834 \t test: 0.713\n",
      "LogisticRegression df scores:    \t train: 0.884 \t test: 0.718\n"
     ]
    }
   ],
   "source": [
    "from sklearn.linear_model import LogisticRegression\n",
    "logistic = train(\"LogisticRegression\",LogisticRegression(), X_train, df_train['clase'], X_test, df_test['clase'])\n",
    "logistic_df = train(\"LogisticRegression df\",LogisticRegression(), X_train_df, df_train_df['clase'], X_test_df, df_test['clase'])"
   ]
  },
  {
   "cell_type": "code",
   "execution_count": 14,
   "metadata": {},
   "outputs": [
    {
     "name": "stdout",
     "output_type": "stream",
     "text": [
      "DecisionTree scores:    \t train: 0.992 \t test: 0.635\n",
      "DecisionTree df scores:    \t train: 0.999 \t test: 0.657\n"
     ]
    }
   ],
   "source": [
    "from sklearn.tree import DecisionTreeClassifier\n",
    "decision_tree = train(\"DecisionTree\",DecisionTreeClassifier(), X_train, df_train['clase'], X_test, df_test['clase'])\n",
    "decision_tree_df = train(\"DecisionTree df\",DecisionTreeClassifier(), X_train_df, df_train_df['clase'], X_test_df, df_test['clase'])"
   ]
  },
  {
   "cell_type": "code",
   "execution_count": 15,
   "metadata": {},
   "outputs": [
    {
     "name": "stdout",
     "output_type": "stream",
     "text": [
      "SGD scores:    \t train: 0.804 \t test: 0.712\n",
      "SGD df scores:    \t train: 0.820 \t test: 0.703\n"
     ]
    }
   ],
   "source": [
    "from sklearn.linear_model import SGDClassifier\n",
    "gradient_descent = train(\"SGD\",SGDClassifier(max_iter=5,tol=None), X_train, df_train['clase'], X_test, df_test['clase'])\n",
    "gradient_descent_df = train(\"SGD df\",SGDClassifier(max_iter=5,tol=None), X_train_df, df_train_df['clase'], X_test_df, df_test['clase'])"
   ]
  },
  {
   "cell_type": "code",
   "execution_count": 16,
   "metadata": {},
   "outputs": [],
   "source": [
    "import matplotlib.pyplot as plt\n",
    "def plot_scores(title,models):\n",
    "    N = len(models)\n",
    "    ind = np.arange(N)  # the x locations for the groups\n",
    "    width = 0.45         # the width of the bars\n",
    "\n",
    "    fig, ax = plt.subplots()\n",
    "\n",
    "    test_scores = list(m[2] for m in models)\n",
    "    train_scores = list(m[3] for m in models)\n",
    "\n",
    "    rects1 = ax.bar(ind, test_scores, width, color='#00b1ff')\n",
    "    rects1b = ax.bar(ind+width, train_scores, width, color='#0070ff')\n",
    "\n",
    "    # add some text for labels, title and axes ticks\n",
    "    ax.set_ylabel('Score')\n",
    "    ax.set_title(title)\n",
    "    ax.set_xticks(ind + width/2)\n",
    "    ax.set_xticklabels((m[0] for m in models),fontsize='xx-small')\n",
    "\n",
    "    ax.legend((rects1[0], rects1b[0]), ('Train', 'Test'), loc='lower right')\n",
    "\n",
    "\n",
    "    def autolabel(rects):\n",
    "        for rect in rects:\n",
    "            height = rect.get_height()\n",
    "            ax.text(rect.get_x() + rect.get_width()/2., height,\n",
    "                    '%.1f%%' % (100*height),\n",
    "                    ha='center', va='bottom', fontsize='x-small')\n",
    "\n",
    "    autolabel(rects1)\n",
    "    autolabel(rects1b)\n",
    "    fig.set_dpi(170)\n",
    "\n",
    "    plt.show()"
   ]
  },
  {
   "cell_type": "code",
   "execution_count": 17,
   "metadata": {},
   "outputs": [
    {
     "data": {
      "image/png": "[encoded data removed]",
      "text/plain": [
       "<matplotlib.figure.Figure at 0x111f85828>"
      ]
     },
     "metadata": {},
     "output_type": "display_data"
    },
    {
     "data": {
      "image/png": "[encoded data removed]",
      "text/plain": [
       "<matplotlib.figure.Figure at 0x111f857b8>"
      ]
     },
     "metadata": {},
     "output_type": "display_data"
    }
   ],
   "source": [
    "plot_scores(\"Pre-procesamiento manual\",[naive_bayes, multi_naive_bayes, logistic, decision_tree, gradient_descent])\n",
    "plot_scores(\"Pre-procesamiento automático\",[naive_bayes_df, multi_naive_bayes_df, logistic_df, decision_tree_df, gradient_descent_df])"
   ]
  },
  {
   "cell_type": "markdown",
   "metadata": {},
   "source": [
    "Cabe notar que modelos como _SVM_, _LDA_ y _QDA_ no fueron posibles de estudiar debido a que las operaciones entre matrices que estos necesitan son muy complicadas, probocando que el cálculo fuera muy largo o simplemente matando el kernel de python."
   ]
  },
  {
   "cell_type": "markdown",
   "metadata": {},
   "source": [
    "**g)** Utilice y explique las métricas que calcula la función classification report de la librería sklearn. En base a las distintas métricas calculadas ¿Cuáles clasificadores son los que mejor se comportan?"
   ]
  },
  {
   "cell_type": "code",
   "execution_count": 18,
   "metadata": {},
   "outputs": [],
   "source": [
    "from sklearn.metrics import classification_report\n",
    "def score_report(model, X, y):\n",
    "    name = model[0]\n",
    "    acc_tr = model[2]\n",
    "    acc_test = model[3]\n",
    "    print(\"Scores for \"+name+\":\")\n",
    "    print(\"\\tTraining Accuracy: %f\"%(acc_tr))\n",
    "    print(\"\\tTest Accuracy: %f\"%(acc_test))\n",
    "    print(\"\\tDetailed Analysis Testing Results ...\")\n",
    "    print(classification_report(y, model[1].predict(X), target_names=['+','-']))\n",
    "    print(\"\")"
   ]
  },
  {
   "cell_type": "code",
   "execution_count": 19,
   "metadata": {},
   "outputs": [
    {
     "name": "stdout",
     "output_type": "stream",
     "text": [
      "Scores for Naive Bayes:\n",
      "\tTraining Accuracy: 0.810066\n",
      "\tTest Accuracy: 0.705809\n",
      "\tDetailed Analysis Testing Results ...\n",
      "             precision    recall  f1-score   support\n",
      "\n",
      "          +       0.69      0.49      0.57      3218\n",
      "          -       0.71      0.85      0.78      4804\n",
      "\n",
      "avg / total       0.70      0.71      0.69      8022\n",
      "\n",
      "\n",
      "Scores for Multi Naive Bayes:\n",
      "\tTraining Accuracy: 0.821491\n",
      "\tTest Accuracy: 0.708676\n",
      "\tDetailed Analysis Testing Results ...\n",
      "             precision    recall  f1-score   support\n",
      "\n",
      "          +       0.65      0.58      0.62      3218\n",
      "          -       0.74      0.79      0.77      4804\n",
      "\n",
      "avg / total       0.70      0.71      0.71      8022\n",
      "\n",
      "\n",
      "Scores for LogisticRegression:\n",
      "\tTraining Accuracy: 0.834262\n",
      "\tTest Accuracy: 0.712914\n",
      "\tDetailed Analysis Testing Results ...\n",
      "             precision    recall  f1-score   support\n",
      "\n",
      "          +       0.68      0.54      0.60      3218\n",
      "          -       0.73      0.83      0.78      4804\n",
      "\n",
      "avg / total       0.71      0.71      0.71      8022\n",
      "\n",
      "\n",
      "Scores for DecisionTree:\n",
      "\tTraining Accuracy: 0.992269\n",
      "\tTest Accuracy: 0.635004\n",
      "\tDetailed Analysis Testing Results ...\n",
      "             precision    recall  f1-score   support\n",
      "\n",
      "          +       0.55      0.54      0.54      3218\n",
      "          -       0.69      0.70      0.70      4804\n",
      "\n",
      "avg / total       0.63      0.64      0.63      8022\n",
      "\n",
      "\n",
      "Scores for SGD:\n",
      "\tTraining Accuracy: 0.803524\n",
      "\tTest Accuracy: 0.712291\n",
      "\tDetailed Analysis Testing Results ...\n",
      "             precision    recall  f1-score   support\n",
      "\n",
      "          +       0.67      0.56      0.61      3218\n",
      "          -       0.73      0.82      0.77      4804\n",
      "\n",
      "avg / total       0.71      0.71      0.71      8022\n",
      "\n",
      "\n"
     ]
    }
   ],
   "source": [
    "score_report(naive_bayes, X_test, df_test['clase'])\n",
    "score_report(multi_naive_bayes, X_test, df_test['clase'])\n",
    "score_report(logistic, X_test, df_test['clase'])\n",
    "score_report(decision_tree, X_test, df_test['clase'])\n",
    "score_report(gradient_descent, X_test, df_test['clase'])"
   ]
  },
  {
   "cell_type": "markdown",
   "metadata": {},
   "source": [
    "**_f1-score_** puede ser interpretado como el promedio poderado de _precision_ y _recall_, siendo 0 y 1 los puntajes mínimos y máximos respectivamente.\n",
    "\n",
    "**_precision_** está definido por $\\frac{tp}{tp+fp}$, donde $tp$ y $fp$ son la cantidad de verdaderos y falsos positivos respectivamente, es decir, _precision_ denota la habilidad del clasificador de no etiquetar una muestra que es negativa como positiva.\n",
    "\n",
    "**_recall_** está definido por $\\frac{tp}{tp+fn}$, donde $fn$ es el número de falsos negativos. _recall_ denota la habilidad del clasificador de etiquetar todas las muestras positivas como positiva. \n",
    "\n",
    "**_support_** corresponde al número de ocurrencias de cada clase."
   ]
  },
  {
   "cell_type": "markdown",
   "metadata": {},
   "source": [
    "**h)** [Opcional] Visualice las predicciones de algún modelo generativo (probabilístico) definido anteriormente, tomando un subconjunto aleatorio de tweets de pruebas y explorando las probabilidades que asigna el clasificador a cada clase."
   ]
  },
  {
   "cell_type": "code",
   "execution_count": 20,
   "metadata": {},
   "outputs": [
    {
     "name": "stdout",
     "output_type": "stream",
     "text": [
      "Negative \t Positive \t Tweet\n",
      "[ 0.53040671  0.46959329] \t On my way to work wish I had more days off\n",
      "[ 0.18207364  0.81792636] \t @AprilAMiller Its 5:30 in the evening, sunset time\n",
      "[ 0.30955208  0.69044792] \t @mamapigeon I be ok, you?\n",
      "[ 0.18337336  0.81662664] \t watchin family guy\n",
      "[ 0.14601211  0.85398789] \t @BeSharp wow, great to know a piece of software ensures our timely project delivery  #ProductNamingRulez\n",
      "[ 0.15249489  0.84750511] \t @rachky @taltalush Yes. I am secure in my masculinity.\n",
      "[ 0.08708965  0.91291035] \t @issacfourth haha dork .. That sounds so yummy .. Share!\n",
      "[ 0.19411533  0.80588467] \t @cowmage  read something happy?\n",
      "[ 0.85669033  0.14330967] \t Ugh just got out of work i think i'm a dang taxi for ppl but i just can't say no!!!!  o well its my fault\n",
      "[ 0.72362249  0.27637751] \t @yourself_onfire I think Letitia is still trying to upload the digital, they were having problems before. I am sure she will let us know\n",
      "[ 0.63851208  0.36148792] \t http://twitpic.com/675u6 - Square B - she is sad because she wasn't there and now she's, well, square  (crocheted bee with poly fibe ...\n",
      "[ 0.44404071  0.55595929] \t after a great day at work with the kids, disappointment with my roof decal\n",
      "[ 0.03214784  0.96785216] \t Hello to all my new followers..    say hi @ me so i can say its nice to meet you too!\n",
      "[ 0.54329582  0.45670418] \t Its 1:11am and both my girls are still up! .. im so tired ..\n",
      "[ 0.37418277  0.62581723] \t @LaBellaBYTCH wassup with u this morning.\n"
     ]
    }
   ],
   "source": [
    "import random\n",
    "random.seed(14)\n",
    "test_pred = logistic[1].predict_proba(X_test)\n",
    "spl = random.sample(range(len(test_pred)), 15)\n",
    "\n",
    "print(\"Negative \\t Positive \\t Tweet\")\n",
    "for i in spl:\n",
    "    print(test_pred[i],\"\\t\",df_test.reset_index()['content'][i])"
   ]
  },
  {
   "cell_type": "markdown",
   "metadata": {},
   "source": [
    "**i)** Ahora deberá extender el problema a las múltiples clases que tiene presente (las distintas emociones), es decir, su trabajo será el de predecir una de las distintas emociones de cada _tweet_. Para esto utilice el mismo pre-procesamiento realizado en el punto c) y las características generadas mediante las técnicas en el punto e). Recuerde que tendrá que codificar las distintas clases como valores numéricos enteros."
   ]
  },
  {
   "cell_type": "code",
   "execution_count": 21,
   "metadata": {
    "scrolled": false
   },
   "outputs": [
    {
     "data": {
      "text/html": [
       "<div>\n",
       "<style scoped>\n",
       "    .dataframe tbody tr th:only-of-type {\n",
       "        vertical-align: middle;\n",
       "    }\n",
       "\n",
       "    .dataframe tbody tr th {\n",
       "        vertical-align: top;\n",
       "    }\n",
       "\n",
       "    .dataframe thead th {\n",
       "        text-align: right;\n",
       "    }\n",
       "</style>\n",
       "<table border=\"1\" class=\"dataframe\">\n",
       "  <thead>\n",
       "    <tr style=\"text-align: right;\">\n",
       "      <th></th>\n",
       "      <th>tweet_id</th>\n",
       "      <th>sentiment</th>\n",
       "      <th>author</th>\n",
       "      <th>content</th>\n",
       "      <th>norm_content</th>\n",
       "      <th>clase</th>\n",
       "      <th>sentiment_class</th>\n",
       "    </tr>\n",
       "  </thead>\n",
       "  <tbody>\n",
       "    <tr>\n",
       "      <th>0</th>\n",
       "      <td>1956967341</td>\n",
       "      <td>empty</td>\n",
       "      <td>xoshayzers</td>\n",
       "      <td>@tiffanylue i know  i was listenin to bad habi...</td>\n",
       "      <td>[know, listenin, bad, habit, earlier, start, f...</td>\n",
       "      <td>-1</td>\n",
       "      <td>-4</td>\n",
       "    </tr>\n",
       "    <tr>\n",
       "      <th>1</th>\n",
       "      <td>1956967666</td>\n",
       "      <td>sadness</td>\n",
       "      <td>wannamama</td>\n",
       "      <td>Layin n bed with a headache  ughhhh...waitin o...</td>\n",
       "      <td>[layin, bed, headach, ughhh, ..., waitin, call...</td>\n",
       "      <td>-1</td>\n",
       "      <td>-2</td>\n",
       "    </tr>\n",
       "    <tr>\n",
       "      <th>3</th>\n",
       "      <td>1956967789</td>\n",
       "      <td>enthusiasm</td>\n",
       "      <td>czareaquino</td>\n",
       "      <td>wants to hang out with friends SOON!</td>\n",
       "      <td>[want, hang, friend, soon]</td>\n",
       "      <td>1</td>\n",
       "      <td>6</td>\n",
       "    </tr>\n",
       "    <tr>\n",
       "      <th>4</th>\n",
       "      <td>1956968416</td>\n",
       "      <td>neutral</td>\n",
       "      <td>xkilljoyx</td>\n",
       "      <td>@dannycastillo We want to trade with someone w...</td>\n",
       "      <td>[want, trade, someon, houston, ticket, one]</td>\n",
       "      <td>1</td>\n",
       "      <td>0</td>\n",
       "    </tr>\n",
       "    <tr>\n",
       "      <th>6</th>\n",
       "      <td>1956968487</td>\n",
       "      <td>sadness</td>\n",
       "      <td>ShansBee</td>\n",
       "      <td>I should be sleep, but im not! thinking about ...</td>\n",
       "      <td>[sleep, think, old, friend, want, he', marri, ...</td>\n",
       "      <td>-1</td>\n",
       "      <td>-2</td>\n",
       "    </tr>\n",
       "  </tbody>\n",
       "</table>\n",
       "</div>"
      ],
      "text/plain": [
       "     tweet_id   sentiment       author  \\\n",
       "0  1956967341       empty   xoshayzers   \n",
       "1  1956967666     sadness    wannamama   \n",
       "3  1956967789  enthusiasm  czareaquino   \n",
       "4  1956968416     neutral    xkilljoyx   \n",
       "6  1956968487     sadness     ShansBee   \n",
       "\n",
       "                                             content  \\\n",
       "0  @tiffanylue i know  i was listenin to bad habi...   \n",
       "1  Layin n bed with a headache  ughhhh...waitin o...   \n",
       "3               wants to hang out with friends SOON!   \n",
       "4  @dannycastillo We want to trade with someone w...   \n",
       "6  I should be sleep, but im not! thinking about ...   \n",
       "\n",
       "                                        norm_content  clase  sentiment_class  \n",
       "0  [know, listenin, bad, habit, earlier, start, f...     -1               -4  \n",
       "1  [layin, bed, headach, ughhh, ..., waitin, call...     -1               -2  \n",
       "3                         [want, hang, friend, soon]      1                6  \n",
       "4        [want, trade, someon, houston, ticket, one]      1                0  \n",
       "6  [sleep, think, old, friend, want, he', marri, ...     -1               -2  "
      ]
     },
     "execution_count": 21,
     "metadata": {},
     "output_type": "execute_result"
    }
   ],
   "source": [
    "clases['value']=[0,-1,1,-2,2,3,4,5,-3,-4,6,-5,-6]\n",
    "sent = list(clases['sentiment'])\n",
    "sent_v = list(clases['value'])\n",
    "df_train['sentiment_class'] = df_train['sentiment'].apply(lambda x: sent_v[sent.index(x)])\n",
    "df_test['sentiment_class'] = df_test['sentiment'].apply(lambda x: sent_v[sent.index(x)])\n",
    "\n",
    "df_train.head()"
   ]
  },
  {
   "cell_type": "code",
   "execution_count": 22,
   "metadata": {},
   "outputs": [
    {
     "ename": "SyntaxError",
     "evalue": "invalid syntax (<ipython-input-22-e543873f8e3d>, line 1)",
     "output_type": "error",
     "traceback": [
      "\u001b[0;36m  File \u001b[0;32m\"<ipython-input-22-e543873f8e3d>\"\u001b[0;36m, line \u001b[0;32m1\u001b[0m\n\u001b[0;31m    **j)** Utilice los clasificadores que son extendidos por defecto a múltiples clases para detectar emociones en cada _tweet_, muestre sus desempeños a través del error de pruebas en un gráfico resumen.\u001b[0m\n\u001b[0m     ^\u001b[0m\n\u001b[0;31mSyntaxError\u001b[0m\u001b[0;31m:\u001b[0m invalid syntax\n"
     ]
    }
   ],
   "source": [
    "**j)** Utilice los clasificadores que son extendidos por defecto a múltiples clases para detectar emociones en cada _tweet_, muestre sus desempeños a través del error de pruebas en un gráfico resumen."
   ]
  },
  {
   "cell_type": "code",
   "execution_count": null,
   "metadata": {},
   "outputs": [],
   "source": [
    "dt = train(\"DecisionTree\",DecisionTreeClassifier(), X_train, df_train['sentiment_class'], X_test, df_test['sentiment_class'])\n",
    "mnb = train(\"MultinomialNB\",MultinomialNB(), X_train, df_train['sentiment_class'], X_test, df_test['sentiment_class'])\n",
    "#mlp = train(\"Multi-layer Perceptron\",MLPClassifier(), X_train, df_train['sentiment_class'], X_test, df_test['sentiment_class'])"
   ]
  },
  {
   "cell_type": "markdown",
   "metadata": {},
   "source": [
    "Gráfico en item **m)**"
   ]
  },
  {
   "cell_type": "markdown",
   "metadata": {},
   "source": [
    "**k)** Utilice clasificadores binarios que pueden ser extendidos a través de otras técnicas, tal como One vs One y One vs All/Rest."
   ]
  },
  {
   "cell_type": "code",
   "execution_count": null,
   "metadata": {},
   "outputs": [],
   "source": [
    "from sklearn.multiclass import OneVsRestClassifier\n",
    "from sklearn.multiclass import OneVsOneClassifier\n",
    "\n",
    "nb_ovo = train(\"Naive Bayes OVO\",OneVsOneClassifier(BernoulliNB()), X_train, df_train['sentiment_class'], X_test, df_test['sentiment_class'])\n",
    "nb_ovr = train(\"Naive Bayes OVR\",OneVsRestClassifier(BernoulliNB()), X_train, df_train['sentiment_class'], X_test, df_test['sentiment_class'])"
   ]
  },
  {
   "cell_type": "markdown",
   "metadata": {},
   "source": [
    "**l)** Para el caso de la Regresión Logística compare sus dos métodos para ser extendidos a múltiples clases. Uno a través de One vs Rest y otro definiendo que la variable a predecir se distribuye Multinomial."
   ]
  },
  {
   "cell_type": "code",
   "execution_count": null,
   "metadata": {},
   "outputs": [],
   "source": [
    "lr_mtn = train(\"Log. Reg. Multi\",LogisticRegression(), X_train, df_train['sentiment_class'], X_test, df_test['sentiment_class'])\n",
    "lr_ovr = train(\"Log. Reg. OVR\",OneVsRestClassifier(LogisticRegression()), X_train, df_train['sentiment_class'], X_test, df_test['sentiment_class'])"
   ]
  },
  {
   "cell_type": "markdown",
   "metadata": {},
   "source": [
    "**m)** Compare los resultados entre los clasificadores extendidos por defecto y los binarios que son extendidos mediante otras técnicas, construya una tabla o gráfico resumen. Los clasificadores que mejor se comportan en el caso binario ¿Siguen teniendo ese desempeño en múltiples clases?"
   ]
  },
  {
   "cell_type": "code",
   "execution_count": null,
   "metadata": {},
   "outputs": [],
   "source": [
    "plot_scores(\"Modelos Multi-clase\",[dt, mnb, nb_ovo, nb_ovr, lr_mtn, lr_ovr])"
   ]
  },
  {
   "cell_type": "markdown",
   "metadata": {},
   "source": [
    "Aquí nuevamente la regresión logística vuelve a obtener un score por sobre las otras técnicas, aúnque la diferencia es decimal.\n",
    "\n",
    "Como se puede notar a simple vista, las diferencias de desempeño que hay entre la clasificación binaria y la multiclase es muy grande, esto puede ser debido principalmente a que la cantidad de datos que se posee no es suficiente para la multiclase, ya que por ejemplo para los tweets clasificados como _empty_, _enthusiasm_, _boredom_, y _anger_ se tienen entre 900 y 100 muestras, lo que hace que las predicciones sean muy poco \"educadas\", resultando en los errores mostrados. Esto no ocurre en el caso binario, ya que cada clase tiene al menos 16.000 muestras, siendo así un dataset aceptable para el experimento."
   ]
  },
  {
   "cell_type": "code",
   "execution_count": null,
   "metadata": {},
   "outputs": [],
   "source": []
  }
 ],
 "metadata": {
  "kernelspec": {
   "display_name": "Python 3",
   "language": "python",
   "name": "python3"
  },
  "language_info": {
   "codemirror_mode": {
    "name": "ipython",
    "version": 3
   },
   "file_extension": ".py",
   "mimetype": "text/x-python",
   "name": "python",
   "nbconvert_exporter": "python",
   "pygments_lexer": "ipython3",
   "version": "3.6.2"
  }
 },
 "nbformat": 4,
 "nbformat_minor": 2
}
