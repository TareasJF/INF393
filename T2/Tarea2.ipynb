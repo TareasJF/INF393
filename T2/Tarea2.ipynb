{
 "cells": [
  {
   "cell_type": "markdown",
   "metadata": {},
   "source": [
    "# 1. Tipos de fronteras en Clasificación"
   ]
  },
  {
   "cell_type": "markdown",
   "metadata": {},
   "source": [
    "Generación de los conjuntos"
   ]
  },
  {
   "cell_type": "code",
   "execution_count": null,
   "metadata": {},
   "outputs": [],
   "source": [
    "from sklearn.utils import check_random_state\n",
    "import numpy as np\n",
    "\n",
    "n_samples=500\n",
    "mean = (0,-4)\n",
    "C = np.array([[0.3, 0.1], [0.1, 1.5]])\n",
    "np.random.seed(14)\n",
    "datos1 = np.random.multivariate_normal(mean, C, n_samples)\n",
    "outer_circ_x = np.cos(np.linspace(0, np.pi, n_samples))*3\n",
    "outer_circ_y = np.sin(np.linspace(0, np.pi, n_samples))*3\n",
    "datos2 = np.vstack((outer_circ_x,outer_circ_y)).T\n",
    "\n",
    "generator = check_random_state(64)\n",
    "datos2 += generator.normal(scale=0.3, size=datos2.shape)"
   ]
  },
  {
   "cell_type": "markdown",
   "metadata": {},
   "source": [
    "**a)** Construya el conjunto de datos (dataset) común con los dos conjuntos generados. Luego se realiza un shift desde el conjunto 2 al 1, esto se puede ver en la imagen anterior, donde el conjunto de color naranjo (media luna) tiene puntos azules a la derecha pertenecientes al otro conjunto, esto es con el mismo propósito de trabajar con un dataset no ideal. Determine cuántos registros contiene cada conjunto y visualícelos.\n"
   ]
  },
  {
   "cell_type": "code",
   "execution_count": null,
   "metadata": {},
   "outputs": [],
   "source": [
    "import matplotlib.pyplot as plt\n",
    "\n",
    "X = np.concatenate((datos1, datos2), axis=0)\n",
    "n = 20 #ruido/noise\n",
    "y1 = np.zeros(datos1.shape[0]+n)\n",
    "y2 = np.ones(datos2.shape[0]-n)\n",
    "y = np.concatenate((y1,y2),axis=0)\n",
    "\n",
    "def visualize_border(model,x,y,title=\"\"):\n",
    "    fig = plt.figure(figsize=(12,6))\n",
    "    plt.scatter(x[:,0], x[:,1], s=50, c=y, cmap=plt.cm.winter)\n",
    "    h = .02 # step size in the mesh\n",
    "    x_min, x_max = x[:, 0].min() - 1, x[:, 0].max() + 1\n",
    "    y_min, y_max = x[:, 1].min() - 1, x[:, 1].max() + 1\n",
    "    xx, yy = np.meshgrid(np.arange(x_min, x_max, h),np.arange(y_min, y_max, h))\n",
    "    Z = model.predict(np.c_[xx.ravel(), yy.ravel()])\n",
    "    Z = Z.reshape(xx.shape)\n",
    "    plt.contour(xx, yy, Z, cmap=plt.cm.Paired)\n",
    "    plt.title(title)\n",
    "    plt.show()"
   ]
  },
  {
   "cell_type": "markdown",
   "metadata": {},
   "source": [
    "**(b)** Entrene el clasificador Linear Discriminant Analysis (LDA) y visualice la frontera de decisión que define este algoritmo. Analice cualitativamente lo que observa."
   ]
  },
  {
   "cell_type": "code",
   "execution_count": null,
   "metadata": {},
   "outputs": [],
   "source": [
    "from sklearn.discriminant_analysis import LinearDiscriminantAnalysis as LDA\n",
    "model_LDA = LDA()\n",
    "model_LDA.fit(X,y)\n",
    "visualize_border(model_LDA,X,y,\"LDAs\")"
   ]
  },
  {
   "cell_type": "markdown",
   "metadata": {},
   "source": [
    "**c)** Entrene el clasificador Quadratic Discriminant Analysis (QDA) y visualice la frontera de decisión que define este algoritmo. Analice cualitativamente lo que observa y compare con LDA, en qué difieren y en qué se asemejan ¿Qué distribucién de probabilidad asumen cada uno?"
   ]
  },
  {
   "cell_type": "code",
   "execution_count": null,
   "metadata": {},
   "outputs": [],
   "source": [
    "from sklearn.discriminant_analysis import QuadraticDiscriminantAnalysis as QDA\n",
    "model_QDA = QDA()\n",
    "model_QDA.fit(X,y)\n",
    "visualize_border(model_QDA,X,y,\"QDA\")"
   ]
  },
  {
   "cell_type": "markdown",
   "metadata": {},
   "source": [
    "**d)** Compare cuantitativamente los clasificadores LDA Y QDA en este dataset sintético mediante la métrica de error de clasificación."
   ]
  },
  {
   "cell_type": "code",
   "execution_count": null,
   "metadata": {},
   "outputs": [],
   "source": [
    "from sklearn.metrics import accuracy_score\n",
    "\n",
    "y_pred_LDA = model_LDA.predict(X)\n",
    "y_pred_QDA = model_QDA.predict(X)\n",
    "print(\"Miss Classification Loss for LDA: %f\"%(1-accuracy_score(y, y_pred_LDA)))\n",
    "print(\"Miss Classification Loss for QDA: %f\"%(1-accuracy_score(y, y_pred_QDA)))"
   ]
  },
  {
   "cell_type": "markdown",
   "metadata": {},
   "source": [
    "**e)** Construya una función que entrene/ajuste un modelo de Regresión Logística Regularizado (utilizando como penalizador la norma $l_2$), experimente con distintos valores del parámetro de regularización mediante el gráfico interactivo. Explique el significado y efecto esperado de este parámetro. Analice cualitativamente lo observado."
   ]
  },
  {
   "cell_type": "code",
   "execution_count": null,
   "metadata": {},
   "outputs": [],
   "source": [
    "from ipywidgets import interactive\n",
    "def visualize_border_interactive(param):\n",
    "    model = train_model(param)\n",
    "    visualize_border(model,X,y)\n",
    "\n",
    "from sklearn.linear_model import LogisticRegression as LR\n",
    "def train_model(param):\n",
    "    model=LR() #define your model\n",
    "    model.set_params(C=param,penalty='l2')\n",
    "    model.fit(X,y)\n",
    "    return model\n",
    "\n",
    "p_min = 0.001\n",
    "p_max = 1\n",
    "interactive(visualize_border_interactive,param=(p_min,p_max, 0.001))"
   ]
  },
  {
   "cell_type": "code",
   "execution_count": null,
   "metadata": {},
   "outputs": [],
   "source": []
  },
  {
   "cell_type": "code",
   "execution_count": null,
   "metadata": {},
   "outputs": [],
   "source": []
  },
  {
   "cell_type": "markdown",
   "metadata": {},
   "source": [
    "# 2. Análisis de audios como datos brutos"
   ]
  },
  {
   "cell_type": "markdown",
   "metadata": {},
   "source": [
    "# 3. Análisis de emociones en tweets"
   ]
  },
  {
   "cell_type": "markdown",
   "metadata": {},
   "source": [
    "**a)** Construya un dataframe con los datos a analizar. Determine cuántas clases existen, cuántos registros por clase y describa el dataset."
   ]
  },
  {
   "cell_type": "code",
   "execution_count": 1,
   "metadata": {},
   "outputs": [
    {
     "data": {
      "text/html": [
       "<div>\n",
       "<style scoped>\n",
       "    .dataframe tbody tr th:only-of-type {\n",
       "        vertical-align: middle;\n",
       "    }\n",
       "\n",
       "    .dataframe tbody tr th {\n",
       "        vertical-align: top;\n",
       "    }\n",
       "\n",
       "    .dataframe thead th {\n",
       "        text-align: right;\n",
       "    }\n",
       "</style>\n",
       "<table border=\"1\" class=\"dataframe\">\n",
       "  <thead>\n",
       "    <tr style=\"text-align: right;\">\n",
       "      <th></th>\n",
       "      <th>tweet_id</th>\n",
       "      <th>sentiment</th>\n",
       "      <th>author</th>\n",
       "      <th>content</th>\n",
       "    </tr>\n",
       "  </thead>\n",
       "  <tbody>\n",
       "    <tr>\n",
       "      <th>0</th>\n",
       "      <td>1956967341</td>\n",
       "      <td>empty</td>\n",
       "      <td>xoshayzers</td>\n",
       "      <td>@tiffanylue i know  i was listenin to bad habi...</td>\n",
       "    </tr>\n",
       "    <tr>\n",
       "      <th>1</th>\n",
       "      <td>1956967666</td>\n",
       "      <td>sadness</td>\n",
       "      <td>wannamama</td>\n",
       "      <td>Layin n bed with a headache  ughhhh...waitin o...</td>\n",
       "    </tr>\n",
       "    <tr>\n",
       "      <th>2</th>\n",
       "      <td>1956967696</td>\n",
       "      <td>sadness</td>\n",
       "      <td>coolfunky</td>\n",
       "      <td>Funeral ceremony...gloomy friday...</td>\n",
       "    </tr>\n",
       "    <tr>\n",
       "      <th>3</th>\n",
       "      <td>1956967789</td>\n",
       "      <td>enthusiasm</td>\n",
       "      <td>czareaquino</td>\n",
       "      <td>wants to hang out with friends SOON!</td>\n",
       "    </tr>\n",
       "    <tr>\n",
       "      <th>4</th>\n",
       "      <td>1956968416</td>\n",
       "      <td>neutral</td>\n",
       "      <td>xkilljoyx</td>\n",
       "      <td>@dannycastillo We want to trade with someone w...</td>\n",
       "    </tr>\n",
       "  </tbody>\n",
       "</table>\n",
       "</div>"
      ],
      "text/plain": [
       "     tweet_id   sentiment       author  \\\n",
       "0  1956967341       empty   xoshayzers   \n",
       "1  1956967666     sadness    wannamama   \n",
       "2  1956967696     sadness    coolfunky   \n",
       "3  1956967789  enthusiasm  czareaquino   \n",
       "4  1956968416     neutral    xkilljoyx   \n",
       "\n",
       "                                             content  \n",
       "0  @tiffanylue i know  i was listenin to bad habi...  \n",
       "1  Layin n bed with a headache  ughhhh...waitin o...  \n",
       "2                Funeral ceremony...gloomy friday...  \n",
       "3               wants to hang out with friends SOON!  \n",
       "4  @dannycastillo We want to trade with someone w...  "
      ]
     },
     "execution_count": 1,
     "metadata": {},
     "output_type": "execute_result"
    }
   ],
   "source": [
    "import pandas as pd\n",
    "tweets = pd.read_csv('./data/text_emotion.csv')\n",
    "tweets.head()"
   ]
  },
  {
   "cell_type": "code",
   "execution_count": 2,
   "metadata": {},
   "outputs": [
    {
     "data": {
      "text/html": [
       "<div>\n",
       "<style scoped>\n",
       "    .dataframe tbody tr th:only-of-type {\n",
       "        vertical-align: middle;\n",
       "    }\n",
       "\n",
       "    .dataframe tbody tr th {\n",
       "        vertical-align: top;\n",
       "    }\n",
       "\n",
       "    .dataframe thead th {\n",
       "        text-align: right;\n",
       "    }\n",
       "</style>\n",
       "<table border=\"1\" class=\"dataframe\">\n",
       "  <thead>\n",
       "    <tr style=\"text-align: right;\">\n",
       "      <th></th>\n",
       "      <th>sentiment</th>\n",
       "      <th>count</th>\n",
       "    </tr>\n",
       "  </thead>\n",
       "  <tbody>\n",
       "    <tr>\n",
       "      <th>0</th>\n",
       "      <td>neutral</td>\n",
       "      <td>8638</td>\n",
       "    </tr>\n",
       "    <tr>\n",
       "      <th>1</th>\n",
       "      <td>worry</td>\n",
       "      <td>8459</td>\n",
       "    </tr>\n",
       "    <tr>\n",
       "      <th>2</th>\n",
       "      <td>happiness</td>\n",
       "      <td>5209</td>\n",
       "    </tr>\n",
       "    <tr>\n",
       "      <th>3</th>\n",
       "      <td>sadness</td>\n",
       "      <td>5165</td>\n",
       "    </tr>\n",
       "    <tr>\n",
       "      <th>4</th>\n",
       "      <td>love</td>\n",
       "      <td>3842</td>\n",
       "    </tr>\n",
       "    <tr>\n",
       "      <th>5</th>\n",
       "      <td>surprise</td>\n",
       "      <td>2187</td>\n",
       "    </tr>\n",
       "    <tr>\n",
       "      <th>6</th>\n",
       "      <td>fun</td>\n",
       "      <td>1776</td>\n",
       "    </tr>\n",
       "    <tr>\n",
       "      <th>7</th>\n",
       "      <td>relief</td>\n",
       "      <td>1526</td>\n",
       "    </tr>\n",
       "    <tr>\n",
       "      <th>8</th>\n",
       "      <td>hate</td>\n",
       "      <td>1323</td>\n",
       "    </tr>\n",
       "    <tr>\n",
       "      <th>9</th>\n",
       "      <td>empty</td>\n",
       "      <td>827</td>\n",
       "    </tr>\n",
       "    <tr>\n",
       "      <th>10</th>\n",
       "      <td>enthusiasm</td>\n",
       "      <td>759</td>\n",
       "    </tr>\n",
       "    <tr>\n",
       "      <th>11</th>\n",
       "      <td>boredom</td>\n",
       "      <td>179</td>\n",
       "    </tr>\n",
       "    <tr>\n",
       "      <th>12</th>\n",
       "      <td>anger</td>\n",
       "      <td>110</td>\n",
       "    </tr>\n",
       "  </tbody>\n",
       "</table>\n",
       "</div>"
      ],
      "text/plain": [
       "     sentiment  count\n",
       "0      neutral   8638\n",
       "1        worry   8459\n",
       "2    happiness   5209\n",
       "3      sadness   5165\n",
       "4         love   3842\n",
       "5     surprise   2187\n",
       "6          fun   1776\n",
       "7       relief   1526\n",
       "8         hate   1323\n",
       "9        empty    827\n",
       "10  enthusiasm    759\n",
       "11     boredom    179\n",
       "12       anger    110"
      ]
     },
     "execution_count": 2,
     "metadata": {},
     "output_type": "execute_result"
    }
   ],
   "source": [
    "clases = pd.DataFrame(tweets['sentiment'].value_counts().reset_index())\n",
    "clases.columns = [\"sentiment\", \"count\"]\n",
    "clases"
   ]
  },
  {
   "cell_type": "markdown",
   "metadata": {},
   "source": [
    "El dataset cuenta con cuatro columnas, las que corresponden a el id del tweet, el autor y el contenido de este, junto con el sentimiento asociado al contenido.\n",
    "Los sentimientos encontrados son 13, contando \"neutral\" como uno de ellos."
   ]
  },
  {
   "cell_type": "markdown",
   "metadata": {},
   "source": [
    "**b)** Construya un conjunto de entrenamiento y otro de pruebas, a través de una máscara aleatoria, para verificar los resultados de los algoritmos."
   ]
  },
  {
   "cell_type": "markdown",
   "metadata": {},
   "source": [
    "La máscara se aplicará después de pre-procesar el dataset y antes de entrenar el clasificador"
   ]
  },
  {
   "cell_type": "markdown",
   "metadata": {},
   "source": [
    "**c)** Implemente y explique un pre-procesamiento para los tweets para dejarlos en un formato estándarizado en el cual se podrán trabajar."
   ]
  },
  {
   "cell_type": "code",
   "execution_count": 3,
   "metadata": {},
   "outputs": [
    {
     "name": "stdout",
     "output_type": "stream",
     "text": [
      "[nltk_data] Downloading package punkt to /home/jupy/nltk_data...\n",
      "[nltk_data]   Package punkt is already up-to-date!\n",
      "[nltk_data] Downloading package stopwords to /home/jupy/nltk_data...\n",
      "[nltk_data]   Package stopwords is already up-to-date!\n"
     ]
    },
    {
     "data": {
      "text/plain": [
       "True"
      ]
     },
     "execution_count": 3,
     "metadata": {},
     "output_type": "execute_result"
    }
   ],
   "source": [
    "from nltk.stem import PorterStemmer\n",
    "from nltk.tokenize import sent_tokenize, TweetTokenizer\n",
    "from nltk.corpus import stopwords\n",
    "import nltk\n",
    "import re\n",
    "\n",
    "nltk.download('punkt')\n",
    "nltk.download('stopwords')"
   ]
  },
  {
   "cell_type": "code",
   "execution_count": 5,
   "metadata": {},
   "outputs": [
    {
     "data": {
      "text/html": [
       "<div>\n",
       "<style scoped>\n",
       "    .dataframe tbody tr th:only-of-type {\n",
       "        vertical-align: middle;\n",
       "    }\n",
       "\n",
       "    .dataframe tbody tr th {\n",
       "        vertical-align: top;\n",
       "    }\n",
       "\n",
       "    .dataframe thead th {\n",
       "        text-align: right;\n",
       "    }\n",
       "</style>\n",
       "<table border=\"1\" class=\"dataframe\">\n",
       "  <thead>\n",
       "    <tr style=\"text-align: right;\">\n",
       "      <th></th>\n",
       "      <th>tweet_id</th>\n",
       "      <th>sentiment</th>\n",
       "      <th>author</th>\n",
       "      <th>content</th>\n",
       "      <th>norm_content</th>\n",
       "    </tr>\n",
       "  </thead>\n",
       "  <tbody>\n",
       "    <tr>\n",
       "      <th>0</th>\n",
       "      <td>1956967341</td>\n",
       "      <td>empty</td>\n",
       "      <td>xoshayzers</td>\n",
       "      <td>@tiffanylue i know  i was listenin to bad habi...</td>\n",
       "      <td>[know, listenin, bad, habit, earlier, start, f...</td>\n",
       "    </tr>\n",
       "    <tr>\n",
       "      <th>1</th>\n",
       "      <td>1956967666</td>\n",
       "      <td>sadness</td>\n",
       "      <td>wannamama</td>\n",
       "      <td>Layin n bed with a headache  ughhhh...waitin o...</td>\n",
       "      <td>[layin, bed, headach, ughhh, ..., waitin, call...</td>\n",
       "    </tr>\n",
       "    <tr>\n",
       "      <th>2</th>\n",
       "      <td>1956967696</td>\n",
       "      <td>sadness</td>\n",
       "      <td>coolfunky</td>\n",
       "      <td>Funeral ceremony...gloomy friday...</td>\n",
       "      <td>[funer, ceremoni, ..., gloomi, friday, ...]</td>\n",
       "    </tr>\n",
       "    <tr>\n",
       "      <th>3</th>\n",
       "      <td>1956967789</td>\n",
       "      <td>enthusiasm</td>\n",
       "      <td>czareaquino</td>\n",
       "      <td>wants to hang out with friends SOON!</td>\n",
       "      <td>[want, hang, friend, soon]</td>\n",
       "    </tr>\n",
       "    <tr>\n",
       "      <th>4</th>\n",
       "      <td>1956968416</td>\n",
       "      <td>neutral</td>\n",
       "      <td>xkilljoyx</td>\n",
       "      <td>@dannycastillo We want to trade with someone w...</td>\n",
       "      <td>[want, trade, someon, houston, ticket, one]</td>\n",
       "    </tr>\n",
       "  </tbody>\n",
       "</table>\n",
       "</div>"
      ],
      "text/plain": [
       "     tweet_id   sentiment       author  \\\n",
       "0  1956967341       empty   xoshayzers   \n",
       "1  1956967666     sadness    wannamama   \n",
       "2  1956967696     sadness    coolfunky   \n",
       "3  1956967789  enthusiasm  czareaquino   \n",
       "4  1956968416     neutral    xkilljoyx   \n",
       "\n",
       "                                             content  \\\n",
       "0  @tiffanylue i know  i was listenin to bad habi...   \n",
       "1  Layin n bed with a headache  ughhhh...waitin o...   \n",
       "2                Funeral ceremony...gloomy friday...   \n",
       "3               wants to hang out with friends SOON!   \n",
       "4  @dannycastillo We want to trade with someone w...   \n",
       "\n",
       "                                        norm_content  \n",
       "0  [know, listenin, bad, habit, earlier, start, f...  \n",
       "1  [layin, bed, headach, ughhh, ..., waitin, call...  \n",
       "2        [funer, ceremoni, ..., gloomi, friday, ...]  \n",
       "3                         [want, hang, friend, soon]  \n",
       "4        [want, trade, someon, houston, ticket, one]  "
      ]
     },
     "execution_count": 5,
     "metadata": {},
     "output_type": "execute_result"
    }
   ],
   "source": [
    "df = tweets.copy()\n",
    "\n",
    "ps = PorterStemmer()\n",
    "sw = stopwords.words('english')\n",
    "tknzr = TweetTokenizer(strip_handles=True, reduce_len=True)\n",
    "\n",
    "df['norm_content'] = df['content'].apply(lambda x: tknzr.tokenize(x.lower()))\n",
    "df['norm_content'] = df['norm_content'].apply(lambda x: [w for w in x if (w not in sw and len(w)>2)])\n",
    "df['norm_content'] = df['norm_content'].apply(lambda x: [ps.stem(w) for w in x])\n",
    "df.head()"
   ]
  },
  {
   "cell_type": "markdown",
   "metadata": {},
   "source": [
    "Ahora se hace la separación de test - train"
   ]
  },
  {
   "cell_type": "code",
   "execution_count": 6,
   "metadata": {},
   "outputs": [],
   "source": [
    "import numpy as np\n",
    "np.random.seed(14)\n",
    "msk = np.random.rand(len(df)) < 0.8\n",
    "\n",
    "# manual preprocess\n",
    "df_train = df[msk].copy()\n",
    "df_test = df[~msk].copy()\n",
    "\n",
    "# default countvector preprocess\n",
    "df_train_df = df[msk].copy()"
   ]
  },
  {
   "cell_type": "code",
   "execution_count": 7,
   "metadata": {},
   "outputs": [
    {
     "data": {
      "image/png": "[encoded data removed]",
      "text/plain": [
       "<matplotlib.figure.Figure at 0x7f5f83abfc50>"
      ]
     },
     "metadata": {},
     "output_type": "display_data"
    }
   ],
   "source": [
    "import matplotlib.pyplot as plt\n",
    "plt.figure(figsize=(20,10))\n",
    "gaussian_numbers = df_train['norm_content'].map(len)\n",
    "plt.hist(gaussian_numbers, bins=20, normed=True)\n",
    "plt.title(\"Tokens count distribution\")\n",
    "plt.xlabel(\"Lenght\")\n",
    "plt.ylabel(\"Relative Frequency\")\n",
    "plt.show()"
   ]
  },
  {
   "cell_type": "code",
   "execution_count": 8,
   "metadata": {},
   "outputs": [
    {
     "data": {
      "text/html": [
       "<div>\n",
       "<style scoped>\n",
       "    .dataframe tbody tr th:only-of-type {\n",
       "        vertical-align: middle;\n",
       "    }\n",
       "\n",
       "    .dataframe tbody tr th {\n",
       "        vertical-align: top;\n",
       "    }\n",
       "\n",
       "    .dataframe thead th {\n",
       "        text-align: right;\n",
       "    }\n",
       "</style>\n",
       "<table border=\"1\" class=\"dataframe\">\n",
       "  <thead>\n",
       "    <tr style=\"text-align: right;\">\n",
       "      <th></th>\n",
       "      <th>tweet_id</th>\n",
       "      <th>sentiment</th>\n",
       "      <th>author</th>\n",
       "      <th>content</th>\n",
       "      <th>norm_content</th>\n",
       "    </tr>\n",
       "  </thead>\n",
       "  <tbody>\n",
       "    <tr>\n",
       "      <th>0</th>\n",
       "      <td>1956967341</td>\n",
       "      <td>empty</td>\n",
       "      <td>xoshayzers</td>\n",
       "      <td>@tiffanylue i know  i was listenin to bad habi...</td>\n",
       "      <td>[know, listenin, bad, habit, earlier, start, f...</td>\n",
       "    </tr>\n",
       "    <tr>\n",
       "      <th>1</th>\n",
       "      <td>1956967666</td>\n",
       "      <td>sadness</td>\n",
       "      <td>wannamama</td>\n",
       "      <td>Layin n bed with a headache  ughhhh...waitin o...</td>\n",
       "      <td>[layin, bed, headach, ughhh, ..., waitin, call...</td>\n",
       "    </tr>\n",
       "    <tr>\n",
       "      <th>3</th>\n",
       "      <td>1956967789</td>\n",
       "      <td>enthusiasm</td>\n",
       "      <td>czareaquino</td>\n",
       "      <td>wants to hang out with friends SOON!</td>\n",
       "      <td>[want, hang, friend, soon]</td>\n",
       "    </tr>\n",
       "    <tr>\n",
       "      <th>4</th>\n",
       "      <td>1956968416</td>\n",
       "      <td>neutral</td>\n",
       "      <td>xkilljoyx</td>\n",
       "      <td>@dannycastillo We want to trade with someone w...</td>\n",
       "      <td>[want, trade, someon, houston, ticket, one]</td>\n",
       "    </tr>\n",
       "    <tr>\n",
       "      <th>6</th>\n",
       "      <td>1956968487</td>\n",
       "      <td>sadness</td>\n",
       "      <td>ShansBee</td>\n",
       "      <td>I should be sleep, but im not! thinking about ...</td>\n",
       "      <td>[sleep, think, old, friend, want, he', marri, ...</td>\n",
       "    </tr>\n",
       "  </tbody>\n",
       "</table>\n",
       "</div>"
      ],
      "text/plain": [
       "     tweet_id   sentiment       author  \\\n",
       "0  1956967341       empty   xoshayzers   \n",
       "1  1956967666     sadness    wannamama   \n",
       "3  1956967789  enthusiasm  czareaquino   \n",
       "4  1956968416     neutral    xkilljoyx   \n",
       "6  1956968487     sadness     ShansBee   \n",
       "\n",
       "                                             content  \\\n",
       "0  @tiffanylue i know  i was listenin to bad habi...   \n",
       "1  Layin n bed with a headache  ughhhh...waitin o...   \n",
       "3               wants to hang out with friends SOON!   \n",
       "4  @dannycastillo We want to trade with someone w...   \n",
       "6  I should be sleep, but im not! thinking about ...   \n",
       "\n",
       "                                        norm_content  \n",
       "0  [know, listenin, bad, habit, earlier, start, f...  \n",
       "1  [layin, bed, headach, ughhh, ..., waitin, call...  \n",
       "3                         [want, hang, friend, soon]  \n",
       "4        [want, trade, someon, houston, ticket, one]  \n",
       "6  [sleep, think, old, friend, want, he', marri, ...  "
      ]
     },
     "execution_count": 8,
     "metadata": {},
     "output_type": "execute_result"
    }
   ],
   "source": [
    "df_train = df_train[df_train['norm_content'].map(len) > 1]\n",
    "df_train = df_train[df_train['norm_content'].map(len) < 14]\n",
    "df_train.head()"
   ]
  },
  {
   "cell_type": "markdown",
   "metadata": {},
   "source": [
    "**d)** Haga una reducción binaria al problema, para trabajarlo como un problema de clasificación de dos clases. Para esto, agrupe las distintas emociones como positivas y negativas (defina un criterio), se recomienda codificar las clases como +1 y −1 respectivamente. Recuerde tener presente que el desbalanceo de los datos puede afectar considerablemente al modelo."
   ]
  },
  {
   "cell_type": "code",
   "execution_count": 9,
   "metadata": {},
   "outputs": [
    {
     "name": "stdout",
     "output_type": "stream",
     "text": [
      " 1    23937\n",
      "-1    16063\n",
      "Name: clase, dtype: int64\n"
     ]
    },
    {
     "data": {
      "text/html": [
       "<div>\n",
       "<style scoped>\n",
       "    .dataframe tbody tr th:only-of-type {\n",
       "        vertical-align: middle;\n",
       "    }\n",
       "\n",
       "    .dataframe tbody tr th {\n",
       "        vertical-align: top;\n",
       "    }\n",
       "\n",
       "    .dataframe thead th {\n",
       "        text-align: right;\n",
       "    }\n",
       "</style>\n",
       "<table border=\"1\" class=\"dataframe\">\n",
       "  <thead>\n",
       "    <tr style=\"text-align: right;\">\n",
       "      <th></th>\n",
       "      <th>tweet_id</th>\n",
       "      <th>sentiment</th>\n",
       "      <th>author</th>\n",
       "      <th>content</th>\n",
       "      <th>norm_content</th>\n",
       "    </tr>\n",
       "  </thead>\n",
       "  <tbody>\n",
       "    <tr>\n",
       "      <th>0</th>\n",
       "      <td>1956967341</td>\n",
       "      <td>empty</td>\n",
       "      <td>xoshayzers</td>\n",
       "      <td>@tiffanylue i know  i was listenin to bad habi...</td>\n",
       "      <td>[know, listenin, bad, habit, earlier, start, f...</td>\n",
       "    </tr>\n",
       "    <tr>\n",
       "      <th>1</th>\n",
       "      <td>1956967666</td>\n",
       "      <td>sadness</td>\n",
       "      <td>wannamama</td>\n",
       "      <td>Layin n bed with a headache  ughhhh...waitin o...</td>\n",
       "      <td>[layin, bed, headach, ughhh, ..., waitin, call...</td>\n",
       "    </tr>\n",
       "    <tr>\n",
       "      <th>2</th>\n",
       "      <td>1956967696</td>\n",
       "      <td>sadness</td>\n",
       "      <td>coolfunky</td>\n",
       "      <td>Funeral ceremony...gloomy friday...</td>\n",
       "      <td>[funer, ceremoni, ..., gloomi, friday, ...]</td>\n",
       "    </tr>\n",
       "    <tr>\n",
       "      <th>3</th>\n",
       "      <td>1956967789</td>\n",
       "      <td>enthusiasm</td>\n",
       "      <td>czareaquino</td>\n",
       "      <td>wants to hang out with friends SOON!</td>\n",
       "      <td>[want, hang, friend, soon]</td>\n",
       "    </tr>\n",
       "    <tr>\n",
       "      <th>4</th>\n",
       "      <td>1956968416</td>\n",
       "      <td>neutral</td>\n",
       "      <td>xkilljoyx</td>\n",
       "      <td>@dannycastillo We want to trade with someone w...</td>\n",
       "      <td>[want, trade, someon, houston, ticket, one]</td>\n",
       "    </tr>\n",
       "  </tbody>\n",
       "</table>\n",
       "</div>"
      ],
      "text/plain": [
       "     tweet_id   sentiment       author  \\\n",
       "0  1956967341       empty   xoshayzers   \n",
       "1  1956967666     sadness    wannamama   \n",
       "2  1956967696     sadness    coolfunky   \n",
       "3  1956967789  enthusiasm  czareaquino   \n",
       "4  1956968416     neutral    xkilljoyx   \n",
       "\n",
       "                                             content  \\\n",
       "0  @tiffanylue i know  i was listenin to bad habi...   \n",
       "1  Layin n bed with a headache  ughhhh...waitin o...   \n",
       "2                Funeral ceremony...gloomy friday...   \n",
       "3               wants to hang out with friends SOON!   \n",
       "4  @dannycastillo We want to trade with someone w...   \n",
       "\n",
       "                                        norm_content  \n",
       "0  [know, listenin, bad, habit, earlier, start, f...  \n",
       "1  [layin, bed, headach, ughhh, ..., waitin, call...  \n",
       "2        [funer, ceremoni, ..., gloomi, friday, ...]  \n",
       "3                         [want, hang, friend, soon]  \n",
       "4        [want, trade, someon, houston, ticket, one]  "
      ]
     },
     "execution_count": 9,
     "metadata": {},
     "output_type": "execute_result"
    }
   ],
   "source": [
    "pos = ['neutral', 'happiness', 'love', 'surprise', 'fun', 'relief', 'enthusiasm']\n",
    "\n",
    "df_train['clase'] = df_train['sentiment'].apply(lambda x: 1 if x in pos else -1)\n",
    "df_train_df['clase'] = df_train_df['sentiment'].apply(lambda x: 1 if x in pos else -1)\n",
    "\n",
    "df_test['clase'] = df_test['sentiment'].apply(lambda x: 1 if x in pos else -1)\n",
    "\n",
    "print(df_train_df['clase'].value_counts()+df_test['clase'].value_counts())\n",
    "df.head()"
   ]
  },
  {
   "cell_type": "markdown",
   "metadata": {},
   "source": [
    "**e)** Construir un clasificador que determine automáticamente la polaridad de un trozo de texto."
   ]
  },
  {
   "cell_type": "code",
   "execution_count": 10,
   "metadata": {},
   "outputs": [],
   "source": [
    "from sklearn.feature_extraction.text import CountVectorizer\n",
    "\n",
    "def echo(args):\n",
    "    return args\n",
    "\n",
    "# Pre-proceso propio\n",
    "vectorizer = CountVectorizer(tokenizer=echo, preprocessor=echo, lowercase=False)\n",
    "X_train = vectorizer.fit_transform(df_train['norm_content'])\n",
    "X_test = vectorizer.transform(df_test['norm_content'])\n",
    "\n",
    "# Pre-proseso por default de CountVectorizer\n",
    "vectorizer_df = CountVectorizer()\n",
    "X_train_df = vectorizer_df.fit_transform(df_train_df['content'])\n",
    "X_test_df = vectorizer_df.transform(df_test['content'])"
   ]
  },
  {
   "cell_type": "markdown",
   "metadata": {},
   "source": [
    "**f)** Entrene y compare al menos 5 de los diferentes clasificadores vistos en clases para clasificación binaria (por ejemplo: Navie Bayes, Multinomial Naive Bayes, LDA, QDA, Regresión logística, SVM y Arboles de decisión) sobre el conjunto de entrenamiento verificando su desempeño sobre ambos conjuntos (entrenamiento y de pruebas), construyendo un gráfico resumen del error de éstos."
   ]
  },
  {
   "cell_type": "code",
   "execution_count": 11,
   "metadata": {},
   "outputs": [],
   "source": [
    "def train(model, X_train, y_train, X_test, y_test):\n",
    "    model.fit(X_train, y_train)\n",
    "    score_train = model.score(X_train, y_train)\n",
    "    score_test = model.score(X_test, y_test)\n",
    "    return (model, score_train, score_test)"
   ]
  },
  {
   "cell_type": "code",
   "execution_count": 12,
   "metadata": {},
   "outputs": [
    {
     "name": "stdout",
     "output_type": "stream",
     "text": [
      "Naive Bayes scores:    \t train: 0.820 \t test: 0.708\n",
      "Naive Bayes df scores: \t train: 0.840 \t test: 0.697\n"
     ]
    }
   ],
   "source": [
    "from sklearn.naive_bayes import BernoulliNB\n",
    "naive_bayes = train(BernoulliNB(), X_train, df_train['clase'], X_test, df_test['clase'])\n",
    "naive_bayes_df = train(BernoulliNB(), X_train_df, df_train_df['clase'], X_test_df, df_test['clase'])\n",
    "\n",
    "print(\"Naive Bayes scores:    \\t train: %.3f \\t test: %.3f\"%(naive_bayes[1],naive_bayes[2]))\n",
    "print(\"Naive Bayes df scores: \\t train: %.3f \\t test: %.3f\"%(naive_bayes_df[1],naive_bayes_df[2]))"
   ]
  },
  {
   "cell_type": "code",
   "execution_count": 13,
   "metadata": {},
   "outputs": [
    {
     "name": "stdout",
     "output_type": "stream",
     "text": [
      "Multi Naive Bayes scores:    \t train: 0.825 \t test: 0.711\n",
      "Multi Naive Bayes df scores: \t train: 0.863 \t test: 0.710\n"
     ]
    }
   ],
   "source": [
    "from sklearn.naive_bayes import MultinomialNB\n",
    "multi_naive_bayes = train(MultinomialNB(), X_train, df_train['clase'], X_test, df_test['clase'])\n",
    "multi_naive_bayes_df = train(MultinomialNB(), X_train_df, df_train_df['clase'], X_test_df, df_test['clase'])\n",
    "\n",
    "print(\"Multi Naive Bayes scores:    \\t train: %.3f \\t test: %.3f\"%(multi_naive_bayes[1],multi_naive_bayes[2]))\n",
    "print(\"Multi Naive Bayes df scores: \\t train: %.3f \\t test: %.3f\"%(multi_naive_bayes_df[1],multi_naive_bayes_df[2]))"
   ]
  },
  {
   "cell_type": "code",
   "execution_count": 14,
   "metadata": {},
   "outputs": [
    {
     "name": "stdout",
     "output_type": "stream",
     "text": [
      "LogisticRegression scores:    \t train: 0.840 \t test: 0.717\n",
      "LogisticRegression df scores: \t train: 0.884 \t test: 0.718\n"
     ]
    }
   ],
   "source": [
    "from sklearn.linear_model import LogisticRegression\n",
    "logistic = train(LogisticRegression(), X_train, df_train['clase'], X_test, df_test['clase'])\n",
    "logistic_df = train(LogisticRegression(), X_train_df, df_train_df['clase'], X_test_df, df_test['clase'])\n",
    "\n",
    "print(\"LogisticRegression scores:    \\t train: %.3f \\t test: %.3f\"%(logistic[1],logistic[2]))\n",
    "print(\"LogisticRegression df scores: \\t train: %.3f \\t test: %.3f\"%(logistic_df[1],logistic_df[2]))"
   ]
  },
  {
   "cell_type": "code",
   "execution_count": 15,
   "metadata": {},
   "outputs": [
    {
     "name": "stdout",
     "output_type": "stream",
     "text": [
      "DecisionTree scores:    \t train: 0.997 \t test: 0.667\n",
      "DecisionTree df scores: \t train: 0.999 \t test: 0.657\n"
     ]
    }
   ],
   "source": [
    "from sklearn.tree import DecisionTreeClassifier\n",
    "decision_tree = train(DecisionTreeClassifier(), X_train, df_train['clase'], X_test, df_test['clase'])\n",
    "decision_tree_df = train(DecisionTreeClassifier(), X_train_df, df_train_df['clase'], X_test_df, df_test['clase'])\n",
    "\n",
    "print(\"DecisionTree scores:    \\t train: %.3f \\t test: %.3f\"%(decision_tree[1],decision_tree[2]))\n",
    "print(\"DecisionTree df scores: \\t train: %.3f \\t test: %.3f\"%(decision_tree_df[1],decision_tree_df[2]))"
   ]
  },
  {
   "cell_type": "code",
   "execution_count": 16,
   "metadata": {},
   "outputs": [
    {
     "name": "stdout",
     "output_type": "stream",
     "text": [
      "SGD scores:    \t train: 0.809 \t test: 0.713\n",
      "SGD df scores: \t train: 0.820 \t test: 0.703\n"
     ]
    }
   ],
   "source": [
    "from sklearn.linear_model import SGDClassifier\n",
    "gradient_descent = train(SGDClassifier(max_iter=5,tol=None), X_train, df_train['clase'], X_test, df_test['clase'])\n",
    "gradient_descent_df = train(SGDClassifier(max_iter=5,tol=None), X_train_df, df_train_df['clase'], X_test_df, df_test['clase'])\n",
    "\n",
    "print(\"SGD scores:    \\t train: %.3f \\t test: %.3f\"%(gradient_descent[1],gradient_descent[2]))\n",
    "print(\"SGD df scores: \\t train: %.3f \\t test: %.3f\"%(gradient_descent_df[1],gradient_descent_df[2]))"
   ]
  },
  {
   "cell_type": "code",
   "execution_count": 17,
   "metadata": {},
   "outputs": [
    {
     "data": {
      "image/png": "[encoded data removed]",
      "text/plain": [
       "<matplotlib.figure.Figure at 0x7f5f821f0630>"
      ]
     },
     "metadata": {},
     "output_type": "display_data"
    }
   ],
   "source": [
    "import matplotlib.pyplot as plt\n",
    "N = 5\n",
    "ind = np.arange(N)  # the x locations for the groups\n",
    "width = 0.45       # the width of the bars\n",
    "\n",
    "fig, ax = plt.subplots()\n",
    "\n",
    "test_scores = (naive_bayes[1], multi_naive_bayes[1], logistic[1], decision_tree[1], gradient_descent[1])\n",
    "train_scores = (naive_bayes[2], multi_naive_bayes[2], logistic[2], decision_tree[2], gradient_descent[2])\n",
    "\n",
    "rects1 = ax.bar(ind, test_scores, width, color='#00b1ff')\n",
    "rects1b = ax.bar(ind, train_scores, width, color='#0070ff')\n",
    "\n",
    "test_scores_df = (naive_bayes_df[1], multi_naive_bayes_df[1], logistic_df[1], decision_tree_df[1], gradient_descent_df[1])\n",
    "train_scores_df = (naive_bayes_df[2], multi_naive_bayes_df[2], logistic_df[2], decision_tree_df[2], gradient_descent_df[2])\n",
    "\n",
    "rects2 = ax.bar(ind + width, test_scores_df, width, color='#7fffd4')\n",
    "rects2b = ax.bar(ind + width, train_scores_df, width, color='#40e0d0')\n",
    "\n",
    "# add some text for labels, title and axes ticks\n",
    "ax.set_ylabel('Score')\n",
    "ax.set_title('Score por modelo y pre-procesamiento')\n",
    "ax.set_xticks(ind + width / 2)\n",
    "ax.set_xticklabels(('BNB', 'MNB', 'LR', 'DT', 'SDG'))\n",
    "\n",
    "ax.legend((rects1[0], rects1b[0], rects2[0], rects2b[0]), ('Custom train', 'Custom test', 'Default train', 'Default test'), loc='lower right')\n",
    "\n",
    "\n",
    "def autolabel(rects):\n",
    "    for rect in rects:\n",
    "        height = rect.get_height()\n",
    "        ax.text(rect.get_x() + rect.get_width()/2., height,\n",
    "                '%.1f%%' % (100*height),\n",
    "                ha='center', va='bottom', fontsize = 'x-small')\n",
    "\n",
    "autolabel(rects1)\n",
    "autolabel(rects1b)\n",
    "autolabel(rects2)\n",
    "autolabel(rects2b)\n",
    "fig.set_dpi(180)\n",
    "\n",
    "plt.show()"
   ]
  },
  {
   "cell_type": "markdown",
   "metadata": {},
   "source": [
    "**g)** Utilice y explique las métricas que calcula la función classification report de la librería sklearn. En base a las distintas métricas calculadas ¿Cuáles clasificadores son los que mejor se comportan?"
   ]
  },
  {
   "cell_type": "code",
   "execution_count": 18,
   "metadata": {},
   "outputs": [],
   "source": [
    "from sklearn.metrics import classification_report\n",
    "def score_report(model, X, y, name):\n",
    "    acc_tr = model[1]\n",
    "    acc_test = model[2]\n",
    "    print(\"Scores for \"+name+\":\")\n",
    "    print(\"\\tTraining Accuracy: %f\"%(acc_tr))\n",
    "    print(\"\\tTest Accuracy: %f\"%(acc_test))\n",
    "    print(\"\\tDetailed Analysis Testing Results ...\")\n",
    "    print(classification_report(y, model[0].predict(X), target_names=['+','-']))\n",
    "    print(\"\")"
   ]
  },
  {
   "cell_type": "code",
   "execution_count": 19,
   "metadata": {},
   "outputs": [
    {
     "name": "stdout",
     "output_type": "stream",
     "text": [
      "Scores for BNB:\n",
      "\tTraining Accuracy: 0.820020\n",
      "\tTest Accuracy: 0.708427\n",
      "\tDetailed Analysis Testing Results ...\n",
      "             precision    recall  f1-score   support\n",
      "\n",
      "          +       0.68      0.51      0.59      3218\n",
      "          -       0.72      0.84      0.78      4804\n",
      "\n",
      "avg / total       0.70      0.71      0.70      8022\n",
      "\n",
      "\n",
      "Scores for MNB:\n",
      "\tTraining Accuracy: 0.824849\n",
      "\tTest Accuracy: 0.710795\n",
      "\tDetailed Analysis Testing Results ...\n",
      "             precision    recall  f1-score   support\n",
      "\n",
      "          +       0.66      0.59      0.62      3218\n",
      "          -       0.74      0.79      0.77      4804\n",
      "\n",
      "avg / total       0.71      0.71      0.71      8022\n",
      "\n",
      "\n",
      "Scores for LR:\n",
      "\tTraining Accuracy: 0.840174\n",
      "\tTest Accuracy: 0.716779\n",
      "\tDetailed Analysis Testing Results ...\n",
      "             precision    recall  f1-score   support\n",
      "\n",
      "          +       0.68      0.55      0.61      3218\n",
      "          -       0.73      0.83      0.78      4804\n",
      "\n",
      "avg / total       0.71      0.72      0.71      8022\n",
      "\n",
      "\n",
      "Scores for DT:\n",
      "\tTraining Accuracy: 0.997061\n",
      "\tTest Accuracy: 0.667165\n",
      "\tDetailed Analysis Testing Results ...\n",
      "             precision    recall  f1-score   support\n",
      "\n",
      "          +       0.59      0.54      0.57      3218\n",
      "          -       0.71      0.75      0.73      4804\n",
      "\n",
      "avg / total       0.66      0.67      0.66      8022\n",
      "\n",
      "\n",
      "Scores for SGD:\n",
      "\tTraining Accuracy: 0.808894\n",
      "\tTest Accuracy: 0.713288\n",
      "\tDetailed Analysis Testing Results ...\n",
      "             precision    recall  f1-score   support\n",
      "\n",
      "          +       0.68      0.54      0.60      3218\n",
      "          -       0.73      0.83      0.78      4804\n",
      "\n",
      "avg / total       0.71      0.71      0.71      8022\n",
      "\n",
      "\n"
     ]
    }
   ],
   "source": [
    "score_report(naive_bayes, X_test, df_test['clase'], \"BNB\")\n",
    "score_report(multi_naive_bayes, X_test, df_test['clase'], \"MNB\")\n",
    "score_report(logistic, X_test, df_test['clase'], \"LR\")\n",
    "score_report(decision_tree, X_test, df_test['clase'], \"DT\")\n",
    "score_report(gradient_descent, X_test, df_test['clase'], \"SGD\")"
   ]
  },
  {
   "cell_type": "markdown",
   "metadata": {},
   "source": [
    "**h)** [Opcional] Visualice las predicciones de algún modelo generativo (probabilístico) definido anteriormente, tomando un subconjunto aleatorio de tweets de pruebas y explorando las probabilidades que asigna el clasificador a cada clase."
   ]
  },
  {
   "cell_type": "code",
   "execution_count": 20,
   "metadata": {},
   "outputs": [
    {
     "name": "stdout",
     "output_type": "stream",
     "text": [
      "Negative \t Positive \t Tweet\n",
      "[ 0.54433439  0.45566561] \t On my way to work wish I had more days off\n",
      "[ 0.24291292  0.75708708] \t @AprilAMiller Its 5:30 in the evening, sunset time\n",
      "[ 0.30682213  0.69317787] \t @mamapigeon I be ok, you?\n",
      "[ 0.15008159  0.84991841] \t watchin family guy\n",
      "[ 0.09632865  0.90367135] \t @BeSharp wow, great to know a piece of software ensures our timely project delivery  #ProductNamingRulez\n",
      "[ 0.13828671  0.86171329] \t @rachky @taltalush Yes. I am secure in my masculinity.\n",
      "[ 0.14690818  0.85309182] \t @issacfourth haha dork .. That sounds so yummy .. Share!\n",
      "[ 0.17926094  0.82073906] \t @cowmage  read something happy?\n",
      "[ 0.87789237  0.12210763] \t Ugh just got out of work i think i'm a dang taxi for ppl but i just can't say no!!!!  o well its my fault\n",
      "[ 0.75050879  0.24949121] \t @yourself_onfire I think Letitia is still trying to upload the digital, they were having problems before. I am sure she will let us know\n",
      "[ 0.61455133  0.38544867] \t http://twitpic.com/675u6 - Square B - she is sad because she wasn't there and now she's, well, square  (crocheted bee with poly fibe ...\n",
      "[ 0.32238553  0.67761447] \t after a great day at work with the kids, disappointment with my roof decal\n",
      "[ 0.02875858  0.97124142] \t Hello to all my new followers..    say hi @ me so i can say its nice to meet you too!\n",
      "[ 0.57419857  0.42580143] \t Its 1:11am and both my girls are still up! .. im so tired ..\n",
      "[ 0.38174098  0.61825902] \t @LaBellaBYTCH wassup with u this morning.\n"
     ]
    }
   ],
   "source": [
    "import random\n",
    "random.seed(14)\n",
    "test_pred = logistic[0].predict_proba(X_test)\n",
    "spl = random.sample(range(len(test_pred)), 15)\n",
    "\n",
    "print(\"Negative \\t Positive \\t Tweet\")\n",
    "for i in spl:\n",
    "    print(test_pred[i],\"\\t\",df_test.reset_index()['content'][i])"
   ]
  },
  {
   "cell_type": "markdown",
   "metadata": {},
   "source": [
    "**i)** Ahora deberá extender el problema a las múltiples clases que tiene presente (las distintas emociones), es decir, su trabajo será el de predecir una de las distintas emociones de cada _tweet_. Para esto utilice el mismo pre-procesamiento realizado en el punto c) y las características generadas mediante las técnicas en el punto e). Recuerde que tendrá que codificar las distintas clases como valores numéricos enteros."
   ]
  },
  {
   "cell_type": "code",
   "execution_count": null,
   "metadata": {
    "scrolled": true
   },
   "outputs": [],
   "source": [
    "clases['value']=[0,-1,1,-2,2,3,4,5,-3,-4,6,-5,-6]\n",
    "sent = list(clases['sentiment'])\n",
    "sent_v = list(clases['value'])\n",
    "df_train['sentiment_class'] = df_train['sentiment'].apply(lambda x: sent_v[sent.index(x)])\n",
    "df_test['sentiment_class'] = df_test['sentiment'].apply(lambda x: sent_v[sent.index(x)])\n",
    "\n",
    "df_train.head()"
   ]
  },
  {
   "cell_type": "code",
   "execution_count": null,
   "metadata": {},
   "outputs": [],
   "source": [
    "from sklearn.naive_bayes import MultinomialNB\n",
    "multi_naive_bayes = train(MultinomialNB(), X_train, df_train['sentiment'], X_test, df_test['sentiment'])\n",
    "\n",
    "print(\"Multi Naive Bayes scores:    \\t train: %.3f \\t test: %.3f\"%(multi_naive_bayes[1],multi_naive_bayes[2]))"
   ]
  },
  {
   "cell_type": "markdown",
   "metadata": {},
   "source": [
    "**j)** Utilice los clasificadores que son extendidos por defecto a múltiples clases para detectar emociones en cada _tweet_, muestre sus desempeños a través del error de pruebas en un gráfico resumen."
   ]
  },
  {
   "cell_type": "code",
   "execution_count": null,
   "metadata": {},
   "outputs": [],
   "source": []
  },
  {
   "cell_type": "markdown",
   "metadata": {},
   "source": [
    "**k)** Utilice clasificadores binarios que pueden ser extendidos a través de otras técnicas, tal como One vs One y One vs All/Rest."
   ]
  },
  {
   "cell_type": "code",
   "execution_count": null,
   "metadata": {},
   "outputs": [],
   "source": [
    "from sklearn.multiclass import OneVsRestClassifier\n",
    "from sklearn.multiclass import OneVsOneClassifier\n",
    "#example\n",
    "classif = OneVsRestClassifier(model)\n",
    "classif.fit(X, Y)"
   ]
  },
  {
   "cell_type": "markdown",
   "metadata": {},
   "source": [
    "**l)** Para el caso de la Regresión Logística compare sus dos métodos para ser extendidos a múltiples clases. Uno a través de One vs Rest y otro definiendo que la variable a predecir se distribuye Multinomial."
   ]
  },
  {
   "cell_type": "code",
   "execution_count": null,
   "metadata": {},
   "outputs": [],
   "source": []
  },
  {
   "cell_type": "markdown",
   "metadata": {},
   "source": [
    "**m)** Compare los resultados entre los clasificadores extendidos por defecto y los binarios que son extendidos mediante otras técnicas, construya una tabla o gráfico resumen. Los clasificadores que mejor se comportan en el caso binario ¿Siguen teniendo ese desempeño en múltiples clases?"
   ]
  },
  {
   "cell_type": "code",
   "execution_count": null,
   "metadata": {},
   "outputs": [],
   "source": []
  }
 ],
 "metadata": {
  "kernelspec": {
   "display_name": "Python 3",
   "language": "python",
   "name": "python3"
  },
  "language_info": {
   "codemirror_mode": {
    "name": "ipython",
    "version": 3
   },
   "file_extension": ".py",
   "mimetype": "text/x-python",
   "name": "python",
   "nbconvert_exporter": "python",
   "pygments_lexer": "ipython3",
   "version": "3.5.4"
  }
 },
 "nbformat": 4,
 "nbformat_minor": 2
}
