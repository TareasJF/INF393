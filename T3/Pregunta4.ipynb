{
 "cells": [
  {
   "cell_type": "markdown",
   "metadata": {},
   "source": [
    "**a)** Construya una funci´on que cargue todos los datos de entrenamiento y pruebas del problema generando\n",
    "como salida: (i) dos matrices Xtr, Ytr, correspondientes a las im´agenes y etiquetas de entrenamiento,\n",
    "(ii) dos matrices Xt, Yt, correspondientes a las im´agenes y etiquetas de pruebas, y finalmente (iii) dos\n",
    "matrices Xv, Yv, correspondientes a im´agenes y etiquetas que se usar´an como conjunto de validaci´on, es\n",
    "decir para tomar decisiones de dise˜no acerca del modelo. Este ´ultimo conjunto debe ser extra´ıdo desde\n",
    "el conjunto de entrenamiento original y no debe superar las 7000 im´agenes."
   ]
  },
  {
   "cell_type": "code",
   "execution_count": 2,
   "metadata": {},
   "outputs": [],
   "source": [
    "import pandas as pd\n",
    "from sklearn.model_selection import train_test_split\n",
    "def load_data():\n",
    "    train = pd.read_csv('data/sign_mnist_train.csv')\n",
    "    test = pd.read_csv('data/sign_mnist_test.csv')\n",
    "    (train_set, validation_set) = train_test_split(train, test_size=7000, random_state=8500)\n",
    "    \n",
    "    y_tr = train_set['label']\n",
    "    x_tr = train_set.iloc[:, 1:]\n",
    "    \n",
    "    y_t = test['label']\n",
    "    x_t = test.iloc[:, 1:]\n",
    "    \n",
    "    y_v = validation_set['label']\n",
    "    x_v = validation_set.iloc[:, 1:]\n",
    "\n",
    "    return(x_tr,x_v,x_t,y_tr,y_v,y_t)\n",
    "x_tr, x_v, x_t, y_tr, y_v , y_t = load_data()"
   ]
  },
  {
   "cell_type": "markdown",
   "metadata": {},
   "source": [
    "**b)** Construya una funci´on que escale apropiadamente las im´agenes antes de trabajar. Experimente s´olo\n",
    "escalando los datos de acuerdo a la intensidad m´axima de pixel (i.e., dividiendo por 255) y luego\n",
    "centrando y escal´andolos como en actividades anteriores"
   ]
  },
  {
   "cell_type": "code",
   "execution_count": 3,
   "metadata": {},
   "outputs": [],
   "source": [
    "def scale_by_max_pixel(x_set):\n",
    "    return x_set/255\n",
    "\n",
    "\n",
    "# Finish this one!\n",
    "def center_and_scale(x_set):\n",
    "    return x_set\n",
    "x_tr = scale_by_max_pixel(x_tr)\n",
    "x_t = scale_by_max_pixel(x_t)\n",
    "x_v = scale_by_max_pixel(x_v)"
   ]
  },
  {
   "cell_type": "markdown",
   "metadata": {},
   "source": [
    "**c)** Dise˜ne, entrene y eval´ue una red neuronal para el problema partir de la representaci´on original de las\n",
    "im´agenes. Experimente con distintas arquitecturas, pre-procesamientos y m´etodos de entrenamiento, midiendo el error de clasificaci´on sobre el conjunto de validaci´on. En base a esta ´ultima medida de\n",
    "desempe˜no, decida qu´e modelo, de entre todos los evaluados, medir´a finalmente en el conjunto de test.\n",
    "Reporte y discuta los resultados obtenidos. Se espera que logre obtener un error de pruebas menor o\n",
    "igual a 0.2."
   ]
  },
  {
   "cell_type": "markdown",
   "metadata": {},
   "source": [
    "### Network 1"
   ]
  },
  {
   "cell_type": "code",
   "execution_count": 3,
   "metadata": {},
   "outputs": [
    {
     "name": "stderr",
     "output_type": "stream",
     "text": [
      "Using TensorFlow backend.\n",
      "/usr/local/Cellar/python3/3.6.2/Frameworks/Python.framework/Versions/3.6/lib/python3.6/importlib/_bootstrap.py:205: RuntimeWarning: compiletime version 3.5 of module 'tensorflow.python.framework.fast_tensor_util' does not match runtime version 3.6\n",
      "  return f(*args, **kwds)\n",
      "/usr/local/lib/python3.6/site-packages/ipykernel_launcher.py:8: UserWarning: Update your `Dense` call to the Keras 2 API: `Dense(30, input_dim=784, activation=\"relu\", kernel_initializer=\"uniform\")`\n",
      "  \n",
      "/usr/local/lib/python3.6/site-packages/ipykernel_launcher.py:9: UserWarning: Update your `Dense` call to the Keras 2 API: `Dense(30, activation=\"relu\", kernel_initializer=\"uniform\")`\n",
      "  if __name__ == '__main__':\n",
      "/usr/local/lib/python3.6/site-packages/ipykernel_launcher.py:10: UserWarning: Update your `Dense` call to the Keras 2 API: `Dense(25, activation=\"softmax\", kernel_initializer=\"uniform\")`\n",
      "  # Remove the CWD from sys.path while we load stuff.\n",
      "/usr/local/lib/python3.6/site-packages/keras/models.py:939: UserWarning: The `nb_epoch` argument in `fit` has been renamed `epochs`.\n",
      "  warnings.warn('The `nb_epoch` argument in `fit` '\n"
     ]
    },
    {
     "name": "stdout",
     "output_type": "stream",
     "text": [
      "Train on 20455 samples, validate on 7000 samples\n",
      "Epoch 1/100\n",
      "20455/20455 [==============================] - 1s 56us/step - loss: 3.0948 - acc: 0.0777 - val_loss: 2.8797 - val_acc: 0.1133\n",
      "Epoch 2/100\n",
      "20455/20455 [==============================] - 1s 43us/step - loss: 2.7927 - acc: 0.1252 - val_loss: 2.7313 - val_acc: 0.1384\n",
      "Epoch 3/100\n",
      "20455/20455 [==============================] - 1s 42us/step - loss: 2.6680 - acc: 0.1569 - val_loss: 2.5864 - val_acc: 0.1934\n",
      "Epoch 4/100\n",
      "20455/20455 [==============================] - 1s 42us/step - loss: 2.4733 - acc: 0.2086 - val_loss: 2.3807 - val_acc: 0.2271\n",
      "Epoch 5/100\n",
      "20455/20455 [==============================] - 1s 43us/step - loss: 2.3196 - acc: 0.2376 - val_loss: 2.2874 - val_acc: 0.2571\n",
      "Epoch 6/100\n",
      "20455/20455 [==============================] - 1s 43us/step - loss: 2.2344 - acc: 0.2579 - val_loss: 2.2137 - val_acc: 0.2714\n",
      "Epoch 7/100\n",
      "20455/20455 [==============================] - 1s 42us/step - loss: 2.1752 - acc: 0.2752 - val_loss: 2.1532 - val_acc: 0.2784\n",
      "Epoch 8/100\n",
      "20455/20455 [==============================] - 1s 41us/step - loss: 2.1099 - acc: 0.2985 - val_loss: 2.0897 - val_acc: 0.3189\n",
      "Epoch 9/100\n",
      "20455/20455 [==============================] - 1s 42us/step - loss: 2.0331 - acc: 0.3283 - val_loss: 2.0003 - val_acc: 0.3434\n",
      "Epoch 10/100\n",
      "20455/20455 [==============================] - 1s 41us/step - loss: 1.9424 - acc: 0.3616 - val_loss: 1.9061 - val_acc: 0.3711\n",
      "Epoch 11/100\n",
      "20455/20455 [==============================] - 1s 41us/step - loss: 1.8565 - acc: 0.3920 - val_loss: 1.8110 - val_acc: 0.4281\n",
      "Epoch 12/100\n",
      "20455/20455 [==============================] - 1s 42us/step - loss: 1.7793 - acc: 0.4179 - val_loss: 1.7670 - val_acc: 0.4317\n",
      "Epoch 13/100\n",
      "20455/20455 [==============================] - 1s 44us/step - loss: 1.7159 - acc: 0.4357 - val_loss: 1.7241 - val_acc: 0.4249\n",
      "Epoch 14/100\n",
      "20455/20455 [==============================] - 1s 40us/step - loss: 1.6671 - acc: 0.4534 - val_loss: 1.7645 - val_acc: 0.4280\n",
      "Epoch 15/100\n",
      "20455/20455 [==============================] - 1s 40us/step - loss: 1.6207 - acc: 0.4654 - val_loss: 1.6059 - val_acc: 0.4804\n",
      "Epoch 16/100\n",
      "20455/20455 [==============================] - 1s 40us/step - loss: 1.5872 - acc: 0.4724 - val_loss: 1.6512 - val_acc: 0.4667\n",
      "Epoch 17/100\n",
      "20455/20455 [==============================] - 1s 40us/step - loss: 1.5535 - acc: 0.4808 - val_loss: 1.5909 - val_acc: 0.4797\n",
      "Epoch 18/100\n",
      "20455/20455 [==============================] - 1s 40us/step - loss: 1.5200 - acc: 0.4962 - val_loss: 1.6358 - val_acc: 0.4593\n",
      "Epoch 19/100\n",
      "20455/20455 [==============================] - 1s 42us/step - loss: 1.4902 - acc: 0.4978 - val_loss: 1.5564 - val_acc: 0.4964\n",
      "Epoch 20/100\n",
      "20455/20455 [==============================] - 1s 43us/step - loss: 1.4660 - acc: 0.5109 - val_loss: 1.4610 - val_acc: 0.5179\n",
      "Epoch 21/100\n",
      "20455/20455 [==============================] - 1s 44us/step - loss: 1.4333 - acc: 0.5215 - val_loss: 1.4462 - val_acc: 0.5221\n",
      "Epoch 22/100\n",
      "20455/20455 [==============================] - 1s 47us/step - loss: 1.4083 - acc: 0.5295 - val_loss: 1.4896 - val_acc: 0.5056\n",
      "Epoch 23/100\n",
      "20455/20455 [==============================] - 1s 41us/step - loss: 1.3801 - acc: 0.5360 - val_loss: 1.3798 - val_acc: 0.5341\n",
      "Epoch 24/100\n",
      "20455/20455 [==============================] - 1s 39us/step - loss: 1.3487 - acc: 0.5498 - val_loss: 1.3448 - val_acc: 0.5470\n",
      "Epoch 25/100\n",
      "20455/20455 [==============================] - 1s 39us/step - loss: 1.3248 - acc: 0.5540 - val_loss: 1.3564 - val_acc: 0.5381\n",
      "Epoch 26/100\n",
      "20455/20455 [==============================] - 1s 39us/step - loss: 1.2975 - acc: 0.5654 - val_loss: 1.3112 - val_acc: 0.5631\n",
      "Epoch 27/100\n",
      "20455/20455 [==============================] - 1s 42us/step - loss: 1.2702 - acc: 0.5730 - val_loss: 1.2941 - val_acc: 0.5733\n",
      "Epoch 28/100\n",
      "20455/20455 [==============================] - 1s 48us/step - loss: 1.2363 - acc: 0.5839 - val_loss: 1.2270 - val_acc: 0.5959\n",
      "Epoch 29/100\n",
      "20455/20455 [==============================] - 1s 43us/step - loss: 1.2104 - acc: 0.5953 - val_loss: 1.2403 - val_acc: 0.5913\n",
      "Epoch 30/100\n",
      "20455/20455 [==============================] - 1s 39us/step - loss: 1.1781 - acc: 0.5999 - val_loss: 1.3388 - val_acc: 0.5434\n",
      "Epoch 31/100\n",
      "20455/20455 [==============================] - 1s 46us/step - loss: 1.1484 - acc: 0.6131 - val_loss: 1.1568 - val_acc: 0.6040\n",
      "Epoch 32/100\n",
      "20455/20455 [==============================] - 1s 42us/step - loss: 1.1142 - acc: 0.6270 - val_loss: 1.1686 - val_acc: 0.6131\n",
      "Epoch 33/100\n",
      "20455/20455 [==============================] - 1s 40us/step - loss: 1.0855 - acc: 0.6344 - val_loss: 1.0643 - val_acc: 0.6403\n",
      "Epoch 34/100\n",
      "20455/20455 [==============================] - 1s 40us/step - loss: 1.0560 - acc: 0.6435 - val_loss: 1.0835 - val_acc: 0.6321\n",
      "Epoch 35/100\n",
      "20455/20455 [==============================] - 1s 47us/step - loss: 1.0264 - acc: 0.6554 - val_loss: 1.1132 - val_acc: 0.6211\n",
      "Epoch 36/100\n",
      "20455/20455 [==============================] - 1s 39us/step - loss: 1.0005 - acc: 0.6626 - val_loss: 1.1160 - val_acc: 0.6121\n",
      "Epoch 37/100\n",
      "20455/20455 [==============================] - 1s 40us/step - loss: 0.9745 - acc: 0.6690 - val_loss: 1.0267 - val_acc: 0.6510\n",
      "Epoch 38/100\n",
      "20455/20455 [==============================] - 1s 40us/step - loss: 0.9506 - acc: 0.6767 - val_loss: 1.0902 - val_acc: 0.6314\n",
      "Epoch 39/100\n",
      "20455/20455 [==============================] - 1s 40us/step - loss: 0.9264 - acc: 0.6830 - val_loss: 0.9197 - val_acc: 0.6854\n",
      "Epoch 40/100\n",
      "20455/20455 [==============================] - 1s 40us/step - loss: 0.8995 - acc: 0.6966 - val_loss: 0.9398 - val_acc: 0.6740\n",
      "Epoch 41/100\n",
      "20455/20455 [==============================] - 1s 39us/step - loss: 0.8821 - acc: 0.6984 - val_loss: 0.9163 - val_acc: 0.6796\n",
      "Epoch 42/100\n",
      "20455/20455 [==============================] - 1s 38us/step - loss: 0.8555 - acc: 0.7098 - val_loss: 0.8858 - val_acc: 0.6994\n",
      "Epoch 43/100\n",
      "20455/20455 [==============================] - 1s 39us/step - loss: 0.8320 - acc: 0.7181 - val_loss: 0.8538 - val_acc: 0.7157\n",
      "Epoch 44/100\n",
      "20455/20455 [==============================] - 1s 39us/step - loss: 0.8086 - acc: 0.7251 - val_loss: 0.8221 - val_acc: 0.7217\n",
      "Epoch 45/100\n",
      "20455/20455 [==============================] - 1s 39us/step - loss: 0.7868 - acc: 0.7339 - val_loss: 0.9947 - val_acc: 0.6561\n",
      "Epoch 46/100\n",
      "20455/20455 [==============================] - 1s 39us/step - loss: 0.7609 - acc: 0.7434 - val_loss: 0.7367 - val_acc: 0.7607\n",
      "Epoch 47/100\n",
      "20455/20455 [==============================] - 1s 39us/step - loss: 0.7366 - acc: 0.7519 - val_loss: 0.7603 - val_acc: 0.7356\n",
      "Epoch 48/100\n",
      "20455/20455 [==============================] - 1s 40us/step - loss: 0.7185 - acc: 0.7559 - val_loss: 0.6807 - val_acc: 0.7787\n",
      "Epoch 49/100\n",
      "20455/20455 [==============================] - 1s 38us/step - loss: 0.6928 - acc: 0.7663 - val_loss: 0.9222 - val_acc: 0.6851\n",
      "Epoch 50/100\n",
      "20455/20455 [==============================] - 1s 45us/step - loss: 0.6771 - acc: 0.7717 - val_loss: 0.7177 - val_acc: 0.7481\n",
      "Epoch 51/100\n",
      "20455/20455 [==============================] - 1s 38us/step - loss: 0.6587 - acc: 0.7747 - val_loss: 0.6581 - val_acc: 0.7791\n",
      "Epoch 52/100\n",
      "20455/20455 [==============================] - 1s 39us/step - loss: 0.6404 - acc: 0.7848 - val_loss: 0.7308 - val_acc: 0.7433\n",
      "Epoch 53/100\n",
      "20455/20455 [==============================] - 1s 42us/step - loss: 0.6237 - acc: 0.7904 - val_loss: 0.6391 - val_acc: 0.7864\n",
      "Epoch 54/100\n",
      "20455/20455 [==============================] - 1s 45us/step - loss: 0.6066 - acc: 0.7949 - val_loss: 0.5937 - val_acc: 0.8124\n",
      "Epoch 55/100\n",
      "20455/20455 [==============================] - 1s 42us/step - loss: 0.5886 - acc: 0.8021 - val_loss: 0.6544 - val_acc: 0.7637\n",
      "Epoch 56/100\n",
      "20455/20455 [==============================] - 1s 44us/step - loss: 0.5765 - acc: 0.8055 - val_loss: 0.5499 - val_acc: 0.8244\n",
      "Epoch 57/100\n",
      "20455/20455 [==============================] - 1s 43us/step - loss: 0.5613 - acc: 0.8089 - val_loss: 0.5397 - val_acc: 0.8126\n",
      "Epoch 58/100\n",
      "20455/20455 [==============================] - 1s 41us/step - loss: 0.5438 - acc: 0.8150 - val_loss: 0.6361 - val_acc: 0.7674\n",
      "Epoch 59/100\n"
     ]
    },
    {
     "name": "stdout",
     "output_type": "stream",
     "text": [
      "20455/20455 [==============================] - 1s 41us/step - loss: 0.5310 - acc: 0.8212 - val_loss: 0.5325 - val_acc: 0.8156\n",
      "Epoch 60/100\n",
      "20455/20455 [==============================] - 1s 45us/step - loss: 0.5158 - acc: 0.8251 - val_loss: 0.6677 - val_acc: 0.7560\n",
      "Epoch 61/100\n",
      "20455/20455 [==============================] - 1s 44us/step - loss: 0.5000 - acc: 0.8329 - val_loss: 0.4926 - val_acc: 0.8401\n",
      "Epoch 62/100\n",
      "20455/20455 [==============================] - 1s 41us/step - loss: 0.4917 - acc: 0.8327 - val_loss: 0.4671 - val_acc: 0.8479\n",
      "Epoch 63/100\n",
      "20455/20455 [==============================] - 1s 43us/step - loss: 0.4789 - acc: 0.8364 - val_loss: 0.4633 - val_acc: 0.8447\n",
      "Epoch 64/100\n",
      "20455/20455 [==============================] - 1s 42us/step - loss: 0.4674 - acc: 0.8390 - val_loss: 0.5168 - val_acc: 0.8250\n",
      "Epoch 65/100\n",
      "20455/20455 [==============================] - 1s 43us/step - loss: 0.4534 - acc: 0.8458 - val_loss: 0.5164 - val_acc: 0.8253\n",
      "Epoch 66/100\n",
      "20455/20455 [==============================] - 1s 43us/step - loss: 0.4437 - acc: 0.8479 - val_loss: 0.5305 - val_acc: 0.8061\n",
      "Epoch 67/100\n",
      "20455/20455 [==============================] - 1s 44us/step - loss: 0.4298 - acc: 0.8551 - val_loss: 0.4812 - val_acc: 0.8320\n",
      "Epoch 68/100\n",
      "20455/20455 [==============================] - 1s 45us/step - loss: 0.4228 - acc: 0.8552 - val_loss: 0.4668 - val_acc: 0.8280\n",
      "Epoch 69/100\n",
      "20455/20455 [==============================] - 1s 44us/step - loss: 0.4098 - acc: 0.8583 - val_loss: 0.3730 - val_acc: 0.8787\n",
      "Epoch 70/100\n",
      "20455/20455 [==============================] - 1s 41us/step - loss: 0.4022 - acc: 0.8612 - val_loss: 0.3815 - val_acc: 0.8666\n",
      "Epoch 71/100\n",
      "20455/20455 [==============================] - 1s 44us/step - loss: 0.3921 - acc: 0.8651 - val_loss: 0.3679 - val_acc: 0.8753\n",
      "Epoch 72/100\n",
      "20455/20455 [==============================] - 1s 41us/step - loss: 0.3813 - acc: 0.8661 - val_loss: 0.3891 - val_acc: 0.8644\n",
      "Epoch 73/100\n",
      "20455/20455 [==============================] - 1s 41us/step - loss: 0.3706 - acc: 0.8739 - val_loss: 0.4486 - val_acc: 0.8314\n",
      "Epoch 74/100\n",
      "20455/20455 [==============================] - 1s 41us/step - loss: 0.3564 - acc: 0.8801 - val_loss: 0.3942 - val_acc: 0.8646\n",
      "Epoch 75/100\n",
      "20455/20455 [==============================] - 1s 46us/step - loss: 0.3530 - acc: 0.8814 - val_loss: 0.3283 - val_acc: 0.8913\n",
      "Epoch 76/100\n",
      "20455/20455 [==============================] - 1s 39us/step - loss: 0.3454 - acc: 0.8792 - val_loss: 0.3822 - val_acc: 0.8680\n",
      "Epoch 77/100\n",
      "20455/20455 [==============================] - 1s 39us/step - loss: 0.3348 - acc: 0.8879 - val_loss: 0.2933 - val_acc: 0.9054\n",
      "Epoch 78/100\n",
      "20455/20455 [==============================] - 1s 40us/step - loss: 0.3232 - acc: 0.8921 - val_loss: 0.4993 - val_acc: 0.8160\n",
      "Epoch 79/100\n",
      "20455/20455 [==============================] - 1s 39us/step - loss: 0.3191 - acc: 0.8935 - val_loss: 0.3083 - val_acc: 0.8959\n",
      "Epoch 80/100\n",
      "20455/20455 [==============================] - 1s 40us/step - loss: 0.3138 - acc: 0.8937 - val_loss: 0.3068 - val_acc: 0.8873\n",
      "Epoch 81/100\n",
      "20455/20455 [==============================] - 1s 41us/step - loss: 0.3003 - acc: 0.8957 - val_loss: 0.3464 - val_acc: 0.8746\n",
      "Epoch 82/100\n",
      "20455/20455 [==============================] - 1s 40us/step - loss: 0.2900 - acc: 0.8999 - val_loss: 0.2424 - val_acc: 0.9246\n",
      "Epoch 83/100\n",
      "20455/20455 [==============================] - 1s 40us/step - loss: 0.2868 - acc: 0.9033 - val_loss: 0.2303 - val_acc: 0.9307\n",
      "Epoch 84/100\n",
      "20455/20455 [==============================] - 1s 42us/step - loss: 0.2794 - acc: 0.9065 - val_loss: 0.3292 - val_acc: 0.8874\n",
      "Epoch 85/100\n",
      "20455/20455 [==============================] - 1s 42us/step - loss: 0.2737 - acc: 0.9064 - val_loss: 0.2374 - val_acc: 0.9206\n",
      "Epoch 86/100\n",
      "20455/20455 [==============================] - 1s 50us/step - loss: 0.2647 - acc: 0.9122 - val_loss: 0.2826 - val_acc: 0.8954\n",
      "Epoch 87/100\n",
      "20455/20455 [==============================] - 1s 46us/step - loss: 0.2601 - acc: 0.9133 - val_loss: 0.3070 - val_acc: 0.8917\n",
      "Epoch 88/100\n",
      "20455/20455 [==============================] - 1s 42us/step - loss: 0.2479 - acc: 0.9173 - val_loss: 0.2496 - val_acc: 0.9104\n",
      "Epoch 89/100\n",
      "20455/20455 [==============================] - 1s 45us/step - loss: 0.2550 - acc: 0.9154 - val_loss: 0.2333 - val_acc: 0.9229\n",
      "Epoch 90/100\n",
      "20455/20455 [==============================] - 1s 43us/step - loss: 0.2435 - acc: 0.9175 - val_loss: 0.1887 - val_acc: 0.9486\n",
      "Epoch 91/100\n",
      "20455/20455 [==============================] - 1s 45us/step - loss: 0.2280 - acc: 0.9248 - val_loss: 0.1857 - val_acc: 0.9470\n",
      "Epoch 92/100\n",
      "20455/20455 [==============================] - 1s 43us/step - loss: 0.2318 - acc: 0.9254 - val_loss: 0.4310 - val_acc: 0.8413\n",
      "Epoch 93/100\n",
      "20455/20455 [==============================] - 1s 44us/step - loss: 0.2254 - acc: 0.9271 - val_loss: 0.1695 - val_acc: 0.9556\n",
      "Epoch 94/100\n",
      "20455/20455 [==============================] - 1s 41us/step - loss: 0.2157 - acc: 0.9296 - val_loss: 0.3509 - val_acc: 0.8719\n",
      "Epoch 95/100\n",
      "20455/20455 [==============================] - 1s 44us/step - loss: 0.2171 - acc: 0.9312 - val_loss: 0.2620 - val_acc: 0.9066\n",
      "Epoch 96/100\n",
      "20455/20455 [==============================] - 1s 46us/step - loss: 0.1985 - acc: 0.9364 - val_loss: 0.4391 - val_acc: 0.8473\n",
      "Epoch 97/100\n",
      "20455/20455 [==============================] - 1s 42us/step - loss: 0.2037 - acc: 0.9352 - val_loss: 0.2925 - val_acc: 0.8881\n",
      "Epoch 98/100\n",
      "20455/20455 [==============================] - 1s 43us/step - loss: 0.2031 - acc: 0.9353 - val_loss: 0.2665 - val_acc: 0.9029\n",
      "Epoch 99/100\n",
      "20455/20455 [==============================] - 1s 43us/step - loss: 0.1982 - acc: 0.9377 - val_loss: 0.1968 - val_acc: 0.9353\n",
      "Epoch 100/100\n",
      "20455/20455 [==============================] - 1s 41us/step - loss: 0.1983 - acc: 0.9375 - val_loss: 0.1203 - val_acc: 0.9739\n"
     ]
    },
    {
     "data": {
      "text/plain": [
       "<keras.callbacks.History at 0x1249b4080>"
      ]
     },
     "execution_count": 3,
     "metadata": {},
     "output_type": "execute_result"
    }
   ],
   "source": [
    "from keras.models import Sequential\n",
    "from keras.layers import Dense, Activation\n",
    "from keras.optimizers import SGD\n",
    "from keras.utils.np_utils import to_categorical\n",
    "\n",
    "# Creación de red secuencial\n",
    "model = Sequential()\n",
    "model.add(Dense(30, input_dim=x_tr.shape[1], init='uniform', activation='relu'))\n",
    "model.add(Dense(30, init='uniform', activation='relu'))\n",
    "model.add(Dense(25, init='uniform', activation='softmax'))\n",
    "model.compile(optimizer='rmsprop', loss='categorical_crossentropy', metrics=['accuracy'])\n",
    "model.fit(x_tr.values, to_categorical(y_tr), nb_epoch=100, batch_size=128, verbose=1,\n",
    "validation_data=(x_v.values,to_categorical(y_v)))"
   ]
  },
  {
   "cell_type": "code",
   "execution_count": 6,
   "metadata": {},
   "outputs": [
    {
     "name": "stdout",
     "output_type": "stream",
     "text": [
      "[[  0.00000000e+00   3.32073126e-28   4.67418395e-05 ...,   7.46003329e-11\n",
      "    5.98884897e-09   5.29813216e-12]\n",
      " [  2.03693594e-15   2.07727298e-01   1.32686917e-10 ...,   1.88328996e-02\n",
      "    1.08460430e-03   3.81185295e-04]\n",
      " [  4.98152877e-31   1.89220931e-10   4.30337736e-18 ...,   1.77908601e-06\n",
      "    6.94260294e-08   2.06336088e-04]\n",
      " ..., \n",
      " [  0.00000000e+00   0.00000000e+00   9.99354184e-01 ...,   1.12837481e-25\n",
      "    2.87218469e-12   1.83773519e-31]\n",
      " [  2.86806039e-12   5.67856906e-20   4.34892465e-15 ...,   1.47701203e-32\n",
      "    3.09394434e-17   4.15056241e-31]\n",
      " [  0.00000000e+00   0.00000000e+00   9.99555647e-01 ...,   1.73227353e-26\n",
      "    1.60276274e-12   3.30326961e-32]]\n"
     ]
    }
   ],
   "source": [
    "from sklearn.metrics import accuracy_score\n",
    "y_t_pred = model.predict(x_t)\n",
    "\n",
    "print(y_t_pred)\n",
    "#accuracy_score(y_t, y_t_pred)\n"
   ]
  },
  {
   "cell_type": "markdown",
   "metadata": {},
   "source": [
    "### Network 2"
   ]
  },
  {
   "cell_type": "markdown",
   "metadata": {},
   "source": [
    "**d)** Para la mejor red entrenada anteriormente construya la matriz de confusi´on de las distintas clases, para\n",
    "asi visualizar cu´ales son las clases m´as dif´ıciles de clasificar y con cu´ales se confunden. Comente."
   ]
  },
  {
   "cell_type": "code",
   "execution_count": 17,
   "metadata": {},
   "outputs": [
    {
     "data": {
      "image/png": "[encoded data removed]",
      "text/plain": [
       "<matplotlib.figure.Figure at 0x121b039b0>"
      ]
     },
     "metadata": {},
     "output_type": "display_data"
    }
   ],
   "source": [
    "\n",
    "import itertools\n",
    "import numpy as np\n",
    "import matplotlib.pyplot as plt\n",
    "\n",
    "from sklearn import svm, datasets\n",
    "from sklearn.model_selection import train_test_split\n",
    "from sklearn.metrics import confusion_matrix\n",
    "y_t_predict = model.predict_classes(x_t.values)\n",
    "cm = confusion_matrix(y_t, y_t_predict)\n",
    "    \n",
    "plt.figure(figsize=(15, 15))\n",
    "plt.imshow(cm, interpolation='nearest', cmap=plt.cm.Blues)\n",
    "plt.colorbar()\n",
    "plt.show()"
   ]
  },
  {
   "cell_type": "markdown",
   "metadata": {},
   "source": [
    "**e)** Entrene una SVM no lineal sobre los pixeles con y sin pre-procesamiento. Puede utilizar el conjunto de\n",
    "validaci´on para seleccionar hiper-par´ametros, como el nivel de regularizaci´on aplicado y/o la funci´on\n",
    "de kernel a utilizar."
   ]
  },
  {
   "cell_type": "markdown",
   "metadata": {},
   "source": [
    "##### Sin procesamiento"
   ]
  },
  {
   "cell_type": "code",
   "execution_count": null,
   "metadata": {},
   "outputs": [
    {
     "name": "stdout",
     "output_type": "stream",
     "text": [
      "Trying param 0.001000\n"
     ]
    }
   ],
   "source": [
    "from sklearn.svm import SVC as SVM\n",
    "from sklearn.metrics import accuracy_score\n",
    "import numpy as np\n",
    "import matplotlib.pyplot as plt\n",
    "from sklearn.metrics import f1_score\n",
    "\n",
    "def train_svm(param):\n",
    "    model = SVM()\n",
    "    model.set_params(C=param, kernel='rbf')\n",
    "    model.fit(x_tr, y_tr)\n",
    "\n",
    "    y_tr_pred = model.predict(x_tr)\n",
    "    y_v_pred = model.predict(x_v)\n",
    "\n",
    "    train_error = (1-accuracy_score(y_tr, y_tr_pred))\n",
    "    test_error = (1-accuracy_score(y_v, y_v_pred))\n",
    "    \n",
    "    return (train_error, test_error)\n",
    "\n",
    "def graph_svm_range(params):\n",
    "    train_errors = []\n",
    "    test_errors = []\n",
    "\n",
    "    for depth in params:\n",
    "        print('Trying param %f' % depth)\n",
    "        (train, test) = train_svm(depth)\n",
    "        train_errors.append(train)\n",
    "        test_errors.append(test)\n",
    "\n",
    "    plt.figure(figsize=(10, 8))\n",
    "    plt.plot(params, train_errors, label=\"Train Error\")\n",
    "    plt.plot(params, test_errors, label=\"Test Error\")\n",
    "    plt.legend(bbox_to_anchor=(1.05, 1), loc=2, borderaxespad=0.)\n",
    "    plt.xlabel('RBF')\n",
    "    plt.ylabel('Error')\n",
    "    plt.show()\n",
    "    \n",
    "params = np.arange(0.001, 1.0, 0.05)\n",
    "graph_svm_range(params)"
   ]
  },
  {
   "cell_type": "markdown",
   "metadata": {},
   "source": [
    "##### Con procesamiento"
   ]
  },
  {
   "cell_type": "markdown",
   "metadata": {},
   "source": [
    "**f)** Entrene una ´arbol de clasificaci´on sobre los pixeles con y sin pre-procesamiento. Puede utilizar el\n",
    "conjunto de validaci´on para seleccionar hiper-par´ametros, como la profundidad m´axima del ´arbol."
   ]
  },
  {
   "cell_type": "code",
   "execution_count": null,
   "metadata": {},
   "outputs": [],
   "source": [
    "from sklearn.tree import DecisionTreeClassifier as Tree\n",
    "from sklearn.metrics import accuracy_score\n",
    "import numpy as np\n",
    "import matplotlib.pyplot as plt\n",
    "from sklearn.metrics import f1_score\n",
    "\n",
    "def train_tree(depth):\n",
    "    # Entrenar el árbol\n",
    "    model = Tree()\n",
    "    model.set_params(max_depth=depth, criterion='gini', splitter='best')\n",
    "    model.fit(Xtrain, Ytrain)\n",
    "\n",
    "    y_tr_pred = model.predict(x_tr)\n",
    "    y_v_pred = model.predict(x_v)\n",
    "\n",
    "\n",
    "    train_error = (1-accuracy_score(y_tr, Y_tr_pred))\n",
    "    test_error = (1-accuracy_score(y_v, y_v_pred))\n",
    "\n",
    "    return (train_error, test_error)\n",
    "\n",
    "def graph_tree_range(params):\n",
    "    train_errors = []\n",
    "    test_errors = []\n",
    "\n",
    "    for depth in params:\n",
    "        print('Trying depth %d' % depth)\n",
    "        (train, test) = train_tree(depth)\n",
    "        train_errors.append(train)\n",
    "        test_errors.append(test)\n",
    "\n",
    "    plt.figure(figsize=(10, 8))\n",
    "    plt.plot(params, train_errors, label=\"Train Error\")\n",
    "    plt.plot(params, test_errors, label=\"Test Error\")\n",
    "    plt.legend(bbox_to_anchor=(1.05, 1), loc=2, borderaxespad=0.)\n",
    "    plt.xlabel('Profundidad del árbol')\n",
    "    plt.ylabel('Error')\n",
    "    plt.show()\n",
    "    \n",
    "params = np.arange(1, 20, 1)\n",
    "graph_tree_range(params)"
   ]
  },
  {
   "cell_type": "code",
   "execution_count": null,
   "metadata": {},
   "outputs": [],
   "source": []
  }
 ],
 "metadata": {
  "kernelspec": {
   "display_name": "Python 3",
   "language": "python",
   "name": "python3"
  },
  "language_info": {
   "codemirror_mode": {
    "name": "ipython",
    "version": 3
   },
   "file_extension": ".py",
   "mimetype": "text/x-python",
   "name": "python",
   "nbconvert_exporter": "python",
   "pygments_lexer": "ipython3",
   "version": "3.6.2"
  }
 },
 "nbformat": 4,
 "nbformat_minor": 2
}
