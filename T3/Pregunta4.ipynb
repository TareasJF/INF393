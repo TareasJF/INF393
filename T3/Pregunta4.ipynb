{
 "cells": [
  {
   "cell_type": "markdown",
   "metadata": {},
   "source": [
    "**a)** Construya una funci´on que cargue todos los datos de entrenamiento y pruebas del problema generando\n",
    "como salida: (i) dos matrices Xtr, Ytr, correspondientes a las im´agenes y etiquetas de entrenamiento,\n",
    "(ii) dos matrices Xt, Yt, correspondientes a las im´agenes y etiquetas de pruebas, y finalmente (iii) dos\n",
    "matrices Xv, Yv, correspondientes a im´agenes y etiquetas que se usar´an como conjunto de validaci´on, es\n",
    "decir para tomar decisiones de dise˜no acerca del modelo. Este ´ultimo conjunto debe ser extra´ıdo desde\n",
    "el conjunto de entrenamiento original y no debe superar las 7000 im´agenes."
   ]
  },
  {
   "cell_type": "code",
   "execution_count": 7,
   "metadata": {},
   "outputs": [],
   "source": [
    "import pandas as pd\n",
    "from sklearn.model_selection import train_test_split\n",
    "def load_data():\n",
    "    train = pd.read_csv('data/sign_mnist_train.csv')\n",
    "    test = pd.read_csv('data/sign_mnist_test.csv')\n",
    "    y_tr = train['label']\n",
    "    x_tr = train.iloc[:,1:]\n",
    "    y_t = test['label']\n",
    "    x_t = test.iloc[:,1:]\n",
    "    #you need to add Xval: x_v,y_v\n",
    "    sub = train.sample(n=7000, random_state=5000)\n",
    "    x_v = sub.iloc[:, 1:]\n",
    "    y_v = sub['label']\n",
    "    return(x_tr,x_v,x_t,y_tr,y_v,y_t)\n",
    "x_tr, x_v, x_t, y_tr, y_v , y_t = load_data()"
   ]
  },
  {
   "cell_type": "markdown",
   "metadata": {},
   "source": [
    "**b)** Construya una funci´on que escale apropiadamente las im´agenes antes de trabajar. Experimente s´olo\n",
    "escalando los datos de acuerdo a la intensidad m´axima de pixel (i.e., dividiendo por 255) y luego\n",
    "centrando y escal´andolos como en actividades anteriores"
   ]
  },
  {
   "cell_type": "code",
   "execution_count": 13,
   "metadata": {},
   "outputs": [],
   "source": [
    "def scale_by_max_pixel():\n",
    "    return x_tr/255\n",
    "\n",
    "\n",
    "# Finish this one!\n",
    "def center_and_scale():\n",
    "    return x_tr"
   ]
  },
  {
   "cell_type": "markdown",
   "metadata": {},
   "source": [
    "**c)** Dise˜ne, entrene y eval´ue una red neuronal para el problema partir de la representaci´on original de las\n",
    "im´agenes. Experimente con distintas arquitecturas, pre-procesamientos y m´etodos de entrenamiento, midiendo el error de clasificaci´on sobre el conjunto de validaci´on. En base a esta ´ultima medida de\n",
    "desempe˜no, decida qu´e modelo, de entre todos los evaluados, medir´a finalmente en el conjunto de test.\n",
    "Reporte y discuta los resultados obtenidos. Se espera que logre obtener un error de pruebas menor o\n",
    "igual a 0.2."
   ]
  },
  {
   "cell_type": "markdown",
   "metadata": {},
   "source": [
    "### Network 1"
   ]
  },
  {
   "cell_type": "code",
   "execution_count": 42,
   "metadata": {},
   "outputs": [
    {
     "name": "stderr",
     "output_type": "stream",
     "text": [
      "/usr/local/lib/python3.6/site-packages/ipykernel_launcher.py:8: UserWarning: Update your `Dense` call to the Keras 2 API: `Dense(30, input_dim=784, activation=\"relu\", kernel_initializer=\"uniform\")`\n",
      "  \n",
      "/usr/local/lib/python3.6/site-packages/ipykernel_launcher.py:9: UserWarning: Update your `Dense` call to the Keras 2 API: `Dense(30, activation=\"relu\", kernel_initializer=\"uniform\")`\n",
      "  if __name__ == '__main__':\n",
      "/usr/local/lib/python3.6/site-packages/ipykernel_launcher.py:10: UserWarning: Update your `Dense` call to the Keras 2 API: `Dense(25, activation=\"softmax\", kernel_initializer=\"uniform\")`\n",
      "  # Remove the CWD from sys.path while we load stuff.\n",
      "/usr/local/lib/python3.6/site-packages/keras/models.py:939: UserWarning: The `nb_epoch` argument in `fit` has been renamed `epochs`.\n",
      "  warnings.warn('The `nb_epoch` argument in `fit` '\n"
     ]
    },
    {
     "name": "stdout",
     "output_type": "stream",
     "text": [
      "Train on 27455 samples, validate on 7000 samples\n",
      "Epoch 1/100\n",
      "27455/27455 [==============================] - 2s 63us/step - loss: 2.9728 - acc: 0.1086 - val_loss: 2.5360 - val_acc: 0.1931\n",
      "Epoch 2/100\n",
      "27455/27455 [==============================] - 1s 42us/step - loss: 2.4062 - acc: 0.2136 - val_loss: 2.1477 - val_acc: 0.2757\n",
      "Epoch 3/100\n",
      "27455/27455 [==============================] - 1s 41us/step - loss: 2.1871 - acc: 0.2718 - val_loss: 1.9301 - val_acc: 0.3227\n",
      "Epoch 4/100\n",
      "27455/27455 [==============================] - 1s 43us/step - loss: 1.9954 - acc: 0.3289 - val_loss: 1.9166 - val_acc: 0.3254\n",
      "Epoch 5/100\n",
      "27455/27455 [==============================] - 1s 43us/step - loss: 1.8565 - acc: 0.3718 - val_loss: 2.6272 - val_acc: 0.2320\n",
      "Epoch 6/100\n",
      "27455/27455 [==============================] - 1s 44us/step - loss: 1.7447 - acc: 0.4047 - val_loss: 1.8100 - val_acc: 0.3583\n",
      "Epoch 7/100\n",
      "27455/27455 [==============================] - 1s 42us/step - loss: 1.6238 - acc: 0.4450 - val_loss: 1.3143 - val_acc: 0.5341\n",
      "Epoch 8/100\n",
      "27455/27455 [==============================] - 1s 41us/step - loss: 1.5393 - acc: 0.4663 - val_loss: 1.4282 - val_acc: 0.5057\n",
      "Epoch 9/100\n",
      "27455/27455 [==============================] - 1s 43us/step - loss: 1.4804 - acc: 0.4908 - val_loss: 1.2836 - val_acc: 0.5383\n",
      "Epoch 10/100\n",
      "27455/27455 [==============================] - 1s 42us/step - loss: 1.4002 - acc: 0.5143 - val_loss: 1.2500 - val_acc: 0.5467\n",
      "Epoch 11/100\n",
      "27455/27455 [==============================] - 1s 42us/step - loss: 1.3468 - acc: 0.5327 - val_loss: 1.5794 - val_acc: 0.4697\n",
      "Epoch 12/100\n",
      "27455/27455 [==============================] - 1s 43us/step - loss: 1.3113 - acc: 0.5473 - val_loss: 1.0105 - val_acc: 0.6383\n",
      "Epoch 13/100\n",
      "27455/27455 [==============================] - 1s 43us/step - loss: 1.2616 - acc: 0.5745 - val_loss: 1.4101 - val_acc: 0.5120\n",
      "Epoch 14/100\n",
      "27455/27455 [==============================] - 1s 42us/step - loss: 1.2296 - acc: 0.5745 - val_loss: 1.3573 - val_acc: 0.5301\n",
      "Epoch 15/100\n",
      "27455/27455 [==============================] - 1s 46us/step - loss: 1.2138 - acc: 0.5879 - val_loss: 0.8682 - val_acc: 0.6954\n",
      "Epoch 16/100\n",
      "27455/27455 [==============================] - 1s 43us/step - loss: 1.1666 - acc: 0.6012 - val_loss: 2.2123 - val_acc: 0.3866\n",
      "Epoch 17/100\n",
      "27455/27455 [==============================] - 1s 42us/step - loss: 1.1472 - acc: 0.6035 - val_loss: 1.2332 - val_acc: 0.5679\n",
      "Epoch 18/100\n",
      "27455/27455 [==============================] - 1s 42us/step - loss: 1.1210 - acc: 0.6182 - val_loss: 1.0522 - val_acc: 0.6117\n",
      "Epoch 19/100\n",
      "27455/27455 [==============================] - 1s 42us/step - loss: 1.0847 - acc: 0.6277 - val_loss: 0.8345 - val_acc: 0.7023\n",
      "Epoch 20/100\n",
      "27455/27455 [==============================] - 1s 41us/step - loss: 1.0763 - acc: 0.6384 - val_loss: 0.8890 - val_acc: 0.6709\n",
      "Epoch 21/100\n",
      "27455/27455 [==============================] - 1s 44us/step - loss: 1.0492 - acc: 0.6460 - val_loss: 0.7710 - val_acc: 0.7137\n",
      "Epoch 22/100\n",
      "27455/27455 [==============================] - 1s 42us/step - loss: 1.0309 - acc: 0.6528 - val_loss: 1.0086 - val_acc: 0.6416\n",
      "Epoch 23/100\n",
      "27455/27455 [==============================] - 1s 44us/step - loss: 1.0025 - acc: 0.6595 - val_loss: 1.0508 - val_acc: 0.6431\n",
      "Epoch 24/100\n",
      "27455/27455 [==============================] - 1s 41us/step - loss: 0.9791 - acc: 0.6679 - val_loss: 0.8051 - val_acc: 0.7050\n",
      "Epoch 25/100\n",
      "27455/27455 [==============================] - 1s 41us/step - loss: 0.9731 - acc: 0.6755 - val_loss: 0.8359 - val_acc: 0.6946\n",
      "Epoch 26/100\n",
      "27455/27455 [==============================] - 1s 45us/step - loss: 0.9654 - acc: 0.6772 - val_loss: 0.9855 - val_acc: 0.6321\n",
      "Epoch 27/100\n",
      "27455/27455 [==============================] - 1s 44us/step - loss: 0.9269 - acc: 0.6846 - val_loss: 0.6728 - val_acc: 0.7534\n",
      "Epoch 28/100\n",
      "27455/27455 [==============================] - 1s 41us/step - loss: 0.9282 - acc: 0.6882 - val_loss: 0.7747 - val_acc: 0.7187\n",
      "Epoch 29/100\n",
      "27455/27455 [==============================] - 1s 45us/step - loss: 0.9016 - acc: 0.6968 - val_loss: 0.7707 - val_acc: 0.7130\n",
      "Epoch 30/100\n",
      "27455/27455 [==============================] - 1s 46us/step - loss: 0.8913 - acc: 0.6967 - val_loss: 0.6491 - val_acc: 0.7551\n",
      "Epoch 31/100\n",
      "27455/27455 [==============================] - 1s 43us/step - loss: 0.8957 - acc: 0.7046 - val_loss: 0.8598 - val_acc: 0.6967\n",
      "Epoch 32/100\n",
      "27455/27455 [==============================] - 1s 42us/step - loss: 0.8638 - acc: 0.7106 - val_loss: 1.1498 - val_acc: 0.6289\n",
      "Epoch 33/100\n",
      "27455/27455 [==============================] - 1s 44us/step - loss: 0.8491 - acc: 0.7205 - val_loss: 1.4792 - val_acc: 0.5716\n",
      "Epoch 34/100\n",
      "27455/27455 [==============================] - 1s 43us/step - loss: 0.8561 - acc: 0.7187 - val_loss: 0.5870 - val_acc: 0.7869\n",
      "Epoch 35/100\n",
      "27455/27455 [==============================] - 1s 41us/step - loss: 0.8580 - acc: 0.7221 - val_loss: 0.8226 - val_acc: 0.7034\n",
      "Epoch 36/100\n",
      "27455/27455 [==============================] - 1s 41us/step - loss: 0.8216 - acc: 0.7247 - val_loss: 2.3207 - val_acc: 0.4643\n",
      "Epoch 37/100\n",
      "27455/27455 [==============================] - 1s 40us/step - loss: 0.8197 - acc: 0.7249 - val_loss: 0.7874 - val_acc: 0.7196\n",
      "Epoch 38/100\n",
      "27455/27455 [==============================] - 1s 41us/step - loss: 0.7967 - acc: 0.7322 - val_loss: 1.5654 - val_acc: 0.5870\n",
      "Epoch 39/100\n",
      "27455/27455 [==============================] - 1s 44us/step - loss: 0.7933 - acc: 0.7431 - val_loss: 0.8911 - val_acc: 0.6943\n",
      "Epoch 40/100\n",
      "27455/27455 [==============================] - 1s 40us/step - loss: 0.8060 - acc: 0.7418 - val_loss: 1.5840 - val_acc: 0.5656\n",
      "Epoch 41/100\n",
      "27455/27455 [==============================] - 1s 41us/step - loss: 0.7757 - acc: 0.7472 - val_loss: 0.5733 - val_acc: 0.7944\n",
      "Epoch 42/100\n",
      "27455/27455 [==============================] - 1s 40us/step - loss: 0.7713 - acc: 0.7492 - val_loss: 1.6474 - val_acc: 0.5763\n",
      "Epoch 43/100\n",
      "27455/27455 [==============================] - 1s 40us/step - loss: 0.7754 - acc: 0.7445 - val_loss: 0.4376 - val_acc: 0.8406\n",
      "Epoch 44/100\n",
      "27455/27455 [==============================] - 1s 40us/step - loss: 0.7497 - acc: 0.7501 - val_loss: 2.1920 - val_acc: 0.4747\n",
      "Epoch 45/100\n",
      "27455/27455 [==============================] - 1s 42us/step - loss: 0.7359 - acc: 0.7562 - val_loss: 1.3994 - val_acc: 0.6141\n",
      "Epoch 46/100\n",
      "27455/27455 [==============================] - 1s 43us/step - loss: 0.7622 - acc: 0.7573 - val_loss: 0.8105 - val_acc: 0.7297\n",
      "Epoch 47/100\n",
      "27455/27455 [==============================] - 1s 45us/step - loss: 0.7254 - acc: 0.7623 - val_loss: 0.4818 - val_acc: 0.8133\n",
      "Epoch 48/100\n",
      "27455/27455 [==============================] - 1s 36us/step - loss: 0.7335 - acc: 0.7608 - val_loss: 0.9372 - val_acc: 0.6736\n",
      "Epoch 49/100\n",
      "27455/27455 [==============================] - 1s 33us/step - loss: 0.7321 - acc: 0.7621 - val_loss: 1.3232 - val_acc: 0.5934\n",
      "Epoch 50/100\n",
      "27455/27455 [==============================] - 1s 40us/step - loss: 0.7208 - acc: 0.7752 - val_loss: 0.4203 - val_acc: 0.8484\n",
      "Epoch 51/100\n",
      "27455/27455 [==============================] - 1s 47us/step - loss: 0.7015 - acc: 0.7775 - val_loss: 0.6209 - val_acc: 0.7683\n",
      "Epoch 52/100\n",
      "27455/27455 [==============================] - 1s 46us/step - loss: 0.7168 - acc: 0.7782 - val_loss: 0.9469 - val_acc: 0.7270\n",
      "Epoch 53/100\n",
      "27455/27455 [==============================] - 1s 43us/step - loss: 0.7079 - acc: 0.7804 - val_loss: 0.4740 - val_acc: 0.8223\n",
      "Epoch 54/100\n",
      "27455/27455 [==============================] - 1s 43us/step - loss: 0.6936 - acc: 0.7822 - val_loss: 0.5996 - val_acc: 0.7827\n",
      "Epoch 55/100\n",
      "27455/27455 [==============================] - 1s 39us/step - loss: 0.6800 - acc: 0.7851 - val_loss: 0.5211 - val_acc: 0.8057\n",
      "Epoch 56/100\n",
      "27455/27455 [==============================] - 1s 38us/step - loss: 0.6780 - acc: 0.7835 - val_loss: 0.4648 - val_acc: 0.8213\n",
      "Epoch 57/100\n",
      "27455/27455 [==============================] - 1s 38us/step - loss: 0.6732 - acc: 0.7927 - val_loss: 0.5801 - val_acc: 0.7994\n",
      "Epoch 58/100\n",
      "27455/27455 [==============================] - 2s 57us/step - loss: 0.6710 - acc: 0.7862 - val_loss: 0.9791 - val_acc: 0.6976\n",
      "Epoch 59/100\n"
     ]
    },
    {
     "name": "stdout",
     "output_type": "stream",
     "text": [
      "27455/27455 [==============================] - 2s 56us/step - loss: 0.6616 - acc: 0.7934 - val_loss: 0.4053 - val_acc: 0.8453\n",
      "Epoch 60/100\n",
      "27455/27455 [==============================] - 1s 41us/step - loss: 0.6488 - acc: 0.7965 - val_loss: 0.3497 - val_acc: 0.8671\n",
      "Epoch 61/100\n",
      "27455/27455 [==============================] - 1s 39us/step - loss: 0.6526 - acc: 0.7923 - val_loss: 0.3960 - val_acc: 0.8549\n",
      "Epoch 62/100\n",
      "27455/27455 [==============================] - 1s 40us/step - loss: 0.6560 - acc: 0.7958 - val_loss: 0.3502 - val_acc: 0.8699\n",
      "Epoch 63/100\n",
      "27455/27455 [==============================] - 1s 41us/step - loss: 0.6145 - acc: 0.8060 - val_loss: 0.8335 - val_acc: 0.7160\n",
      "Epoch 64/100\n",
      "27455/27455 [==============================] - 1s 46us/step - loss: 0.6469 - acc: 0.8001 - val_loss: 0.7836 - val_acc: 0.7503\n",
      "Epoch 65/100\n",
      "27455/27455 [==============================] - 1s 41us/step - loss: 0.6045 - acc: 0.8123 - val_loss: 2.3916 - val_acc: 0.5730\n",
      "Epoch 66/100\n",
      "27455/27455 [==============================] - 1s 42us/step - loss: 0.6410 - acc: 0.8067 - val_loss: 0.3106 - val_acc: 0.8901\n",
      "Epoch 67/100\n",
      "27455/27455 [==============================] - 1s 47us/step - loss: 0.6250 - acc: 0.8123 - val_loss: 3.2355 - val_acc: 0.4596\n",
      "Epoch 68/100\n",
      "27455/27455 [==============================] - 1s 42us/step - loss: 0.6186 - acc: 0.8169 - val_loss: 0.3258 - val_acc: 0.8687\n",
      "Epoch 69/100\n",
      "27455/27455 [==============================] - 1s 40us/step - loss: 0.5866 - acc: 0.8140 - val_loss: 0.5139 - val_acc: 0.8030\n",
      "Epoch 70/100\n",
      "27455/27455 [==============================] - 1s 39us/step - loss: 0.6056 - acc: 0.8144 - val_loss: 1.4243 - val_acc: 0.6321\n",
      "Epoch 71/100\n",
      "27455/27455 [==============================] - 1s 38us/step - loss: 0.6071 - acc: 0.8228 - val_loss: 0.5871 - val_acc: 0.7973\n",
      "Epoch 72/100\n",
      "27455/27455 [==============================] - 1s 38us/step - loss: 0.6232 - acc: 0.8096 - val_loss: 0.5497 - val_acc: 0.7967\n",
      "Epoch 73/100\n",
      "27455/27455 [==============================] - 1s 38us/step - loss: 0.5973 - acc: 0.8182 - val_loss: 0.3216 - val_acc: 0.8833\n",
      "Epoch 74/100\n",
      "27455/27455 [==============================] - 1s 36us/step - loss: 0.6039 - acc: 0.8231 - val_loss: 1.6335 - val_acc: 0.6150\n",
      "Epoch 75/100\n",
      "27455/27455 [==============================] - 1s 33us/step - loss: 0.5816 - acc: 0.8224 - val_loss: 0.3885 - val_acc: 0.8629\n",
      "Epoch 76/100\n",
      "27455/27455 [==============================] - 1s 33us/step - loss: 0.5901 - acc: 0.8265 - val_loss: 2.2814 - val_acc: 0.5646\n",
      "Epoch 77/100\n",
      "27455/27455 [==============================] - 1s 33us/step - loss: 0.5830 - acc: 0.8280 - val_loss: 0.2503 - val_acc: 0.9096\n",
      "Epoch 78/100\n",
      "27455/27455 [==============================] - 1s 40us/step - loss: 0.5927 - acc: 0.8328 - val_loss: 0.2484 - val_acc: 0.9129\n",
      "Epoch 79/100\n",
      "27455/27455 [==============================] - 1s 40us/step - loss: 0.5856 - acc: 0.8346 - val_loss: 0.2813 - val_acc: 0.8941\n",
      "Epoch 80/100\n",
      "27455/27455 [==============================] - 1s 41us/step - loss: 0.5436 - acc: 0.8392 - val_loss: 0.7406 - val_acc: 0.7453\n",
      "Epoch 81/100\n",
      "27455/27455 [==============================] - 1s 40us/step - loss: 0.5898 - acc: 0.8311 - val_loss: 0.2745 - val_acc: 0.8989\n",
      "Epoch 82/100\n",
      "27455/27455 [==============================] - 1s 41us/step - loss: 0.5680 - acc: 0.8384 - val_loss: 1.3995 - val_acc: 0.6630\n",
      "Epoch 83/100\n",
      "27455/27455 [==============================] - 1s 42us/step - loss: 0.5500 - acc: 0.8432 - val_loss: 0.7309 - val_acc: 0.7649\n",
      "Epoch 84/100\n",
      "27455/27455 [==============================] - 1s 43us/step - loss: 0.5488 - acc: 0.8398 - val_loss: 0.3300 - val_acc: 0.8796\n",
      "Epoch 85/100\n",
      "27455/27455 [==============================] - 1s 44us/step - loss: 0.5686 - acc: 0.8389 - val_loss: 0.3132 - val_acc: 0.8926\n",
      "Epoch 86/100\n",
      "27455/27455 [==============================] - 1s 40us/step - loss: 0.5386 - acc: 0.8467 - val_loss: 0.2371 - val_acc: 0.9143\n",
      "Epoch 87/100\n",
      "27455/27455 [==============================] - 1s 39us/step - loss: 0.5855 - acc: 0.8453 - val_loss: 0.3196 - val_acc: 0.8767\n",
      "Epoch 88/100\n",
      "27455/27455 [==============================] - 1s 40us/step - loss: 0.5607 - acc: 0.8491 - val_loss: 0.2366 - val_acc: 0.9161\n",
      "Epoch 89/100\n",
      "27455/27455 [==============================] - 1s 44us/step - loss: 0.5525 - acc: 0.8416 - val_loss: 0.2149 - val_acc: 0.9219\n",
      "Epoch 90/100\n",
      "27455/27455 [==============================] - 1s 42us/step - loss: 0.5135 - acc: 0.8522 - val_loss: 0.4504 - val_acc: 0.8380\n",
      "Epoch 91/100\n",
      "27455/27455 [==============================] - 1s 33us/step - loss: 0.5956 - acc: 0.8422 - val_loss: 0.2091 - val_acc: 0.9253\n",
      "Epoch 92/100\n",
      "27455/27455 [==============================] - 1s 38us/step - loss: 0.5321 - acc: 0.8557 - val_loss: 0.2175 - val_acc: 0.9180\n",
      "Epoch 93/100\n",
      "27455/27455 [==============================] - 1s 38us/step - loss: 0.5611 - acc: 0.8436 - val_loss: 2.8382 - val_acc: 0.5314\n",
      "Epoch 94/100\n",
      "27455/27455 [==============================] - 1s 38us/step - loss: 0.5372 - acc: 0.8532 - val_loss: 0.3739 - val_acc: 0.8630\n",
      "Epoch 95/100\n",
      "27455/27455 [==============================] - 1s 38us/step - loss: 0.5469 - acc: 0.8467 - val_loss: 0.2150 - val_acc: 0.9246\n",
      "Epoch 96/100\n",
      "27455/27455 [==============================] - 1s 38us/step - loss: 0.5309 - acc: 0.8537 - val_loss: 0.2010 - val_acc: 0.9310\n",
      "Epoch 97/100\n",
      "27455/27455 [==============================] - 1s 38us/step - loss: 0.5122 - acc: 0.8585 - val_loss: 0.9033 - val_acc: 0.7381\n",
      "Epoch 98/100\n",
      "27455/27455 [==============================] - 1s 38us/step - loss: 0.5139 - acc: 0.8525 - val_loss: 0.8669 - val_acc: 0.7696\n",
      "Epoch 99/100\n",
      "27455/27455 [==============================] - 1s 37us/step - loss: 0.5077 - acc: 0.8579 - val_loss: 0.3433 - val_acc: 0.8643\n",
      "Epoch 100/100\n",
      "27455/27455 [==============================] - 1s 38us/step - loss: 0.5511 - acc: 0.8587 - val_loss: 0.2284 - val_acc: 0.9144\n"
     ]
    },
    {
     "data": {
      "text/plain": [
       "<keras.callbacks.History at 0x1200e7b00>"
      ]
     },
     "execution_count": 42,
     "metadata": {},
     "output_type": "execute_result"
    }
   ],
   "source": [
    "from keras.models import Sequential\n",
    "from keras.layers import Dense, Activation\n",
    "from keras.optimizers import SGD\n",
    "from keras.utils.np_utils import to_categorical\n",
    "\n",
    "# Creación de red secuencial\n",
    "model = Sequential()\n",
    "model.add(Dense(30, input_dim=x_tr.shape[1], init='uniform', activation='relu'))\n",
    "model.add(Dense(30, init='uniform', activation='relu'))\n",
    "model.add(Dense(25, init='uniform', activation='softmax'))\n",
    "model.compile(optimizer='rmsprop', loss='categorical_crossentropy', metrics=['accuracy'])\n",
    "model.fit(x_tr.values, to_categorical(y_tr), nb_epoch=100, batch_size=128, verbose=1,\n",
    "validation_data=(x_v.values,to_categorical(y_v)))"
   ]
  },
  {
   "cell_type": "markdown",
   "metadata": {},
   "source": [
    "### Network 2"
   ]
  },
  {
   "cell_type": "code",
   "execution_count": 81,
   "metadata": {},
   "outputs": [
    {
     "name": "stdout",
     "output_type": "stream",
     "text": [
      "(784, 1)\n"
     ]
    },
    {
     "name": "stderr",
     "output_type": "stream",
     "text": [
      "/usr/local/lib/python3.6/site-packages/ipykernel_launcher.py:15: UserWarning: Update your `Dense` call to the Keras 2 API: `Dense(25, activation=\"softmax\", kernel_initializer=\"uniform\")`\n",
      "  from ipykernel import kernelapp as app\n",
      "/usr/local/lib/python3.6/site-packages/keras/models.py:939: UserWarning: The `nb_epoch` argument in `fit` has been renamed `epochs`.\n",
      "  warnings.warn('The `nb_epoch` argument in `fit` '\n"
     ]
    },
    {
     "ename": "ValueError",
     "evalue": "Error when checking input: expected conv1d_19_input to have 3 dimensions, but got array with shape (27455, 784)",
     "output_type": "error",
     "traceback": [
      "\u001b[0;31m---------------------------------------------------------------------------\u001b[0m",
      "\u001b[0;31mValueError\u001b[0m                                Traceback (most recent call last)",
      "\u001b[0;32m<ipython-input-81-ebe04cb03a79>\u001b[0m in \u001b[0;36m<module>\u001b[0;34m()\u001b[0m\n\u001b[1;32m     15\u001b[0m \u001b[0mmodel\u001b[0m\u001b[0;34m.\u001b[0m\u001b[0madd\u001b[0m\u001b[0;34m(\u001b[0m\u001b[0mDense\u001b[0m\u001b[0;34m(\u001b[0m\u001b[0;36m25\u001b[0m\u001b[0;34m,\u001b[0m \u001b[0minit\u001b[0m\u001b[0;34m=\u001b[0m\u001b[0;34m'uniform'\u001b[0m\u001b[0;34m,\u001b[0m \u001b[0mactivation\u001b[0m\u001b[0;34m=\u001b[0m\u001b[0;34m'softmax'\u001b[0m\u001b[0;34m)\u001b[0m\u001b[0;34m)\u001b[0m\u001b[0;34m\u001b[0m\u001b[0m\n\u001b[1;32m     16\u001b[0m \u001b[0mmodel\u001b[0m\u001b[0;34m.\u001b[0m\u001b[0mcompile\u001b[0m\u001b[0;34m(\u001b[0m\u001b[0moptimizer\u001b[0m\u001b[0;34m=\u001b[0m\u001b[0;34m'rmsprop'\u001b[0m\u001b[0;34m,\u001b[0m \u001b[0mloss\u001b[0m\u001b[0;34m=\u001b[0m\u001b[0;34m'categorical_crossentropy'\u001b[0m\u001b[0;34m,\u001b[0m \u001b[0mmetrics\u001b[0m\u001b[0;34m=\u001b[0m\u001b[0;34m[\u001b[0m\u001b[0;34m'accuracy'\u001b[0m\u001b[0;34m]\u001b[0m\u001b[0;34m)\u001b[0m\u001b[0;34m\u001b[0m\u001b[0m\n\u001b[0;32m---> 17\u001b[0;31m \u001b[0mmodel\u001b[0m\u001b[0;34m.\u001b[0m\u001b[0mfit\u001b[0m\u001b[0;34m(\u001b[0m\u001b[0mx_tr\u001b[0m\u001b[0;34m.\u001b[0m\u001b[0mvalues\u001b[0m\u001b[0;34m,\u001b[0m \u001b[0mto_categorical\u001b[0m\u001b[0;34m(\u001b[0m\u001b[0my_tr\u001b[0m\u001b[0;34m)\u001b[0m\u001b[0;34m,\u001b[0m \u001b[0mnb_epoch\u001b[0m\u001b[0;34m=\u001b[0m\u001b[0;36m100\u001b[0m\u001b[0;34m,\u001b[0m \u001b[0mbatch_size\u001b[0m\u001b[0;34m=\u001b[0m\u001b[0;36m128\u001b[0m\u001b[0;34m,\u001b[0m \u001b[0mverbose\u001b[0m\u001b[0;34m=\u001b[0m\u001b[0;36m1\u001b[0m\u001b[0;34m,\u001b[0m \u001b[0mvalidation_data\u001b[0m\u001b[0;34m=\u001b[0m\u001b[0;34m(\u001b[0m\u001b[0mx_v\u001b[0m\u001b[0;34m.\u001b[0m\u001b[0mvalues\u001b[0m\u001b[0;34m,\u001b[0m\u001b[0mto_categorical\u001b[0m\u001b[0;34m(\u001b[0m\u001b[0my_v\u001b[0m\u001b[0;34m)\u001b[0m\u001b[0;34m)\u001b[0m\u001b[0;34m)\u001b[0m\u001b[0;34m\u001b[0m\u001b[0m\n\u001b[0m",
      "\u001b[0;32m/usr/local/lib/python3.6/site-packages/keras/models.py\u001b[0m in \u001b[0;36mfit\u001b[0;34m(self, x, y, batch_size, epochs, verbose, callbacks, validation_split, validation_data, shuffle, class_weight, sample_weight, initial_epoch, steps_per_epoch, validation_steps, **kwargs)\u001b[0m\n\u001b[1;32m    958\u001b[0m                               \u001b[0minitial_epoch\u001b[0m\u001b[0;34m=\u001b[0m\u001b[0minitial_epoch\u001b[0m\u001b[0;34m,\u001b[0m\u001b[0;34m\u001b[0m\u001b[0m\n\u001b[1;32m    959\u001b[0m                               \u001b[0msteps_per_epoch\u001b[0m\u001b[0;34m=\u001b[0m\u001b[0msteps_per_epoch\u001b[0m\u001b[0;34m,\u001b[0m\u001b[0;34m\u001b[0m\u001b[0m\n\u001b[0;32m--> 960\u001b[0;31m                               validation_steps=validation_steps)\n\u001b[0m\u001b[1;32m    961\u001b[0m \u001b[0;34m\u001b[0m\u001b[0m\n\u001b[1;32m    962\u001b[0m     def evaluate(self, x, y, batch_size=32, verbose=1,\n",
      "\u001b[0;32m/usr/local/lib/python3.6/site-packages/keras/engine/training.py\u001b[0m in \u001b[0;36mfit\u001b[0;34m(self, x, y, batch_size, epochs, verbose, callbacks, validation_split, validation_data, shuffle, class_weight, sample_weight, initial_epoch, steps_per_epoch, validation_steps, **kwargs)\u001b[0m\n\u001b[1;32m   1579\u001b[0m             \u001b[0mclass_weight\u001b[0m\u001b[0;34m=\u001b[0m\u001b[0mclass_weight\u001b[0m\u001b[0;34m,\u001b[0m\u001b[0;34m\u001b[0m\u001b[0m\n\u001b[1;32m   1580\u001b[0m             \u001b[0mcheck_batch_axis\u001b[0m\u001b[0;34m=\u001b[0m\u001b[0;32mFalse\u001b[0m\u001b[0;34m,\u001b[0m\u001b[0;34m\u001b[0m\u001b[0m\n\u001b[0;32m-> 1581\u001b[0;31m             batch_size=batch_size)\n\u001b[0m\u001b[1;32m   1582\u001b[0m         \u001b[0;31m# Prepare validation data.\u001b[0m\u001b[0;34m\u001b[0m\u001b[0;34m\u001b[0m\u001b[0m\n\u001b[1;32m   1583\u001b[0m         \u001b[0mdo_validation\u001b[0m \u001b[0;34m=\u001b[0m \u001b[0;32mFalse\u001b[0m\u001b[0;34m\u001b[0m\u001b[0m\n",
      "\u001b[0;32m/usr/local/lib/python3.6/site-packages/keras/engine/training.py\u001b[0m in \u001b[0;36m_standardize_user_data\u001b[0;34m(self, x, y, sample_weight, class_weight, check_batch_axis, batch_size)\u001b[0m\n\u001b[1;32m   1412\u001b[0m                                     \u001b[0mself\u001b[0m\u001b[0;34m.\u001b[0m\u001b[0m_feed_input_shapes\u001b[0m\u001b[0;34m,\u001b[0m\u001b[0;34m\u001b[0m\u001b[0m\n\u001b[1;32m   1413\u001b[0m                                     \u001b[0mcheck_batch_axis\u001b[0m\u001b[0;34m=\u001b[0m\u001b[0;32mFalse\u001b[0m\u001b[0;34m,\u001b[0m\u001b[0;34m\u001b[0m\u001b[0m\n\u001b[0;32m-> 1414\u001b[0;31m                                     exception_prefix='input')\n\u001b[0m\u001b[1;32m   1415\u001b[0m         y = _standardize_input_data(y, self._feed_output_names,\n\u001b[1;32m   1416\u001b[0m                                     \u001b[0moutput_shapes\u001b[0m\u001b[0;34m,\u001b[0m\u001b[0;34m\u001b[0m\u001b[0m\n",
      "\u001b[0;32m/usr/local/lib/python3.6/site-packages/keras/engine/training.py\u001b[0m in \u001b[0;36m_standardize_input_data\u001b[0;34m(data, names, shapes, check_batch_axis, exception_prefix)\u001b[0m\n\u001b[1;32m    139\u001b[0m                                  \u001b[0;34m' to have '\u001b[0m \u001b[0;34m+\u001b[0m \u001b[0mstr\u001b[0m\u001b[0;34m(\u001b[0m\u001b[0mlen\u001b[0m\u001b[0;34m(\u001b[0m\u001b[0mshapes\u001b[0m\u001b[0;34m[\u001b[0m\u001b[0mi\u001b[0m\u001b[0;34m]\u001b[0m\u001b[0;34m)\u001b[0m\u001b[0;34m)\u001b[0m \u001b[0;34m+\u001b[0m\u001b[0;34m\u001b[0m\u001b[0m\n\u001b[1;32m    140\u001b[0m                                  \u001b[0;34m' dimensions, but got array with shape '\u001b[0m \u001b[0;34m+\u001b[0m\u001b[0;34m\u001b[0m\u001b[0m\n\u001b[0;32m--> 141\u001b[0;31m                                  str(array.shape))\n\u001b[0m\u001b[1;32m    142\u001b[0m             \u001b[0;32mfor\u001b[0m \u001b[0mj\u001b[0m\u001b[0;34m,\u001b[0m \u001b[0;34m(\u001b[0m\u001b[0mdim\u001b[0m\u001b[0;34m,\u001b[0m \u001b[0mref_dim\u001b[0m\u001b[0;34m)\u001b[0m \u001b[0;32min\u001b[0m \u001b[0menumerate\u001b[0m\u001b[0;34m(\u001b[0m\u001b[0mzip\u001b[0m\u001b[0;34m(\u001b[0m\u001b[0marray\u001b[0m\u001b[0;34m.\u001b[0m\u001b[0mshape\u001b[0m\u001b[0;34m,\u001b[0m \u001b[0mshapes\u001b[0m\u001b[0;34m[\u001b[0m\u001b[0mi\u001b[0m\u001b[0;34m]\u001b[0m\u001b[0;34m)\u001b[0m\u001b[0;34m)\u001b[0m\u001b[0;34m:\u001b[0m\u001b[0;34m\u001b[0m\u001b[0m\n\u001b[1;32m    143\u001b[0m                 \u001b[0;32mif\u001b[0m \u001b[0;32mnot\u001b[0m \u001b[0mj\u001b[0m \u001b[0;32mand\u001b[0m \u001b[0;32mnot\u001b[0m \u001b[0mcheck_batch_axis\u001b[0m\u001b[0;34m:\u001b[0m\u001b[0;34m\u001b[0m\u001b[0m\n",
      "\u001b[0;31mValueError\u001b[0m: Error when checking input: expected conv1d_19_input to have 3 dimensions, but got array with shape (27455, 784)"
     ]
    }
   ],
   "source": [
    "from keras.models import Sequential\n",
    "from keras.layers import Dense, Activation, Conv1D, MaxPooling1D\n",
    "from keras.optimizers import SGD\n",
    "from keras.utils.np_utils import to_categorical\n",
    "import numpy as np\n",
    "\n",
    "# Creación de red secuencial\n",
    "model = Sequential()\n",
    "\n",
    "# Convolucion\n",
    "print((x_tr.shape[1], 1))\n",
    "model.add(Conv1D(20, 3, input_shape=x_tr.shape, activation='relu'))\n",
    "# pooling\n",
    "model.add(MaxPooling1D(pool_size=25))\n",
    "model.add(Dense(25, init='uniform', activation='softmax'))\n",
    "model.compile(optimizer='rmsprop', loss='categorical_crossentropy', metrics=['accuracy'])\n",
    "model.fit(x_tr.values, to_categorical(y_tr), nb_epoch=100, batch_size=128, verbose=1, validation_data=(x_v.values,to_categorical(y_v)))"
   ]
  },
  {
   "cell_type": "markdown",
   "metadata": {},
   "source": [
    "**d)** Para la mejor red entrenada anteriormente construya la matriz de confusi´on de las distintas clases, para\n",
    "asi visualizar cu´ales son las clases m´as dif´ıciles de clasificar y con cu´ales se confunden. Comente."
   ]
  },
  {
   "cell_type": "markdown",
   "metadata": {},
   "source": [
    "**e)** Entrene una SVM no lineal sobre los pixeles con y sin pre-procesamiento. Puede utilizar el conjunto de\n",
    "validaci´on para seleccionar hiper-par´ametros, como el nivel de regularizaci´on aplicado y/o la funci´on\n",
    "de kernel a utilizar."
   ]
  },
  {
   "cell_type": "markdown",
   "metadata": {},
   "source": [
    "**f)** Entrene una ´arbol de clasificaci´on sobre los pixeles con y sin pre-procesamiento. Puede utilizar el\n",
    "conjunto de validaci´on para seleccionar hiper-par´ametros, como la profundidad m´axima del ´arbol."
   ]
  },
  {
   "cell_type": "code",
   "execution_count": null,
   "metadata": {},
   "outputs": [],
   "source": []
  }
 ],
 "metadata": {
  "kernelspec": {
   "display_name": "Python 3",
   "language": "python",
   "name": "python3"
  },
  "language_info": {
   "codemirror_mode": {
    "name": "ipython",
    "version": 3
   },
   "file_extension": ".py",
   "mimetype": "text/x-python",
   "name": "python",
   "nbconvert_exporter": "python",
   "pygments_lexer": "ipython3",
   "version": "3.6.2"
  }
 },
 "nbformat": 4,
 "nbformat_minor": 2
}
