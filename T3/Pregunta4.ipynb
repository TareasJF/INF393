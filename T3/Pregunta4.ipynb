{
 "cells": [
  {
   "cell_type": "markdown",
   "metadata": {},
   "source": [
    "**a)** Construya una función que cargue todos los datos de entrenamiento y pruebas del problema generando\n",
    "como salida: (i) dos matrices $X_{tr}$, $Y_{tr}$, correspondientes a las imágenes y etiquetas de entrenamiento,\n",
    "(ii) dos matrices $X_t$, $Y_t$, correspondientes a las imágenes y etiquetas de pruebas, y finalmente (iii) dos\n",
    "matrices $X_v$, $Y_v$, correspondientes a imágenes y etiquetas que se usarán como conjunto de validación, es\n",
    "decir para tomar decisiones de diseño acerca del modelo. Este último conjunto debe ser extraído desde\n",
    "el conjunto de entrenamiento original y no debe superar las 7000 imágenes."
   ]
  },
  {
   "cell_type": "code",
   "execution_count": 3,
   "metadata": {},
   "outputs": [],
   "source": [
    "import pandas as pd\n",
    "from sklearn.model_selection import train_test_split\n",
    "def load_data():\n",
    "    train = pd.read_csv('data/sign_mnist_train.csv')\n",
    "    test = pd.read_csv('data/sign_mnist_test.csv')\n",
    "    (train_set, validation_set) = train_test_split(train, test_size=7000, random_state=8500)\n",
    "    \n",
    "    y_tr = train_set['label']\n",
    "    x_tr = train_set.iloc[:, 1:]\n",
    "    \n",
    "    y_t = test['label']\n",
    "    x_t = test.iloc[:, 1:]\n",
    "    \n",
    "    y_v = validation_set['label']\n",
    "    x_v = validation_set.iloc[:, 1:]\n",
    "\n",
    "    return(x_tr,x_v,x_t,y_tr,y_v,y_t)\n",
    "x_tr, x_v, x_t, y_tr, y_v , y_t = load_data()"
   ]
  },
  {
   "cell_type": "markdown",
   "metadata": {},
   "source": [
    "**b)** Construya una función que escale apropiadamente las imágenes antes de trabajar. Experimente sólo\n",
    "escalando los datos de acuerdo a la intensidad máxima de pixel (i.e., dividiendo por 255) y luego\n",
    "centrando y escalándolos como en actividades anteriores"
   ]
  },
  {
   "cell_type": "code",
   "execution_count": 4,
   "metadata": {},
   "outputs": [],
   "source": [
    "def scale_by_max_pixel(x_set):\n",
    "    return x_set/255\n",
    "\n",
    "\n",
    "# Finish this one!\n",
    "def center_and_scale(x_set):\n",
    "    return x_set\n",
    "\n",
    "x_tr_scaled = scale_by_max_pixel(x_tr)\n",
    "x_t_scaled = scale_by_max_pixel(x_t)\n",
    "x_v_scaled = scale_by_max_pixel(x_v)"
   ]
  },
  {
   "cell_type": "markdown",
   "metadata": {},
   "source": [
    "**c)** Diseñe, entrene y evalúe una red neuronal para el problema partir de la representaci´on original de las\n",
    "im´agenes. Experimente con distintas arquitecturas, pre-procesamientos y m´etodos de entrenamiento, midiendo el error de clasificaci´on sobre el conjunto de validaci´on. En base a esta ´ultima medida de\n",
    "desempe˜no, decida qu´e modelo, de entre todos los evaluados, medir´a finalmente en el conjunto de test.\n",
    "Reporte y discuta los resultados obtenidos. Se espera que logre obtener un error de pruebas menor o\n",
    "igual a 0.2."
   ]
  },
  {
   "cell_type": "markdown",
   "metadata": {},
   "source": [
    "### Network 1"
   ]
  },
  {
   "cell_type": "code",
   "execution_count": 5,
   "metadata": {},
   "outputs": [
    {
     "name": "stderr",
     "output_type": "stream",
     "text": [
      "Using TensorFlow backend.\n",
      "/usr/local/Cellar/python3/3.6.2/Frameworks/Python.framework/Versions/3.6/lib/python3.6/importlib/_bootstrap.py:205: RuntimeWarning: compiletime version 3.5 of module 'tensorflow.python.framework.fast_tensor_util' does not match runtime version 3.6\n",
      "  return f(*args, **kwds)\n",
      "/usr/local/lib/python3.6/site-packages/ipykernel_launcher.py:8: UserWarning: Update your `Dense` call to the Keras 2 API: `Dense(30, input_dim=784, activation=\"relu\", kernel_initializer=\"uniform\")`\n",
      "  \n",
      "/usr/local/lib/python3.6/site-packages/ipykernel_launcher.py:9: UserWarning: Update your `Dense` call to the Keras 2 API: `Dense(30, activation=\"relu\", kernel_initializer=\"uniform\")`\n",
      "  if __name__ == '__main__':\n",
      "/usr/local/lib/python3.6/site-packages/ipykernel_launcher.py:10: UserWarning: Update your `Dense` call to the Keras 2 API: `Dense(25, activation=\"softmax\", kernel_initializer=\"uniform\")`\n",
      "  # Remove the CWD from sys.path while we load stuff.\n",
      "/usr/local/lib/python3.6/site-packages/keras/models.py:939: UserWarning: The `nb_epoch` argument in `fit` has been renamed `epochs`.\n",
      "  warnings.warn('The `nb_epoch` argument in `fit` '\n"
     ]
    },
    {
     "name": "stdout",
     "output_type": "stream",
     "text": [
      "Train on 20455 samples, validate on 7000 samples\n",
      "Epoch 1/100\n",
      "20455/20455 [==============================] - 1s 58us/step - loss: 3.0911 - acc: 0.0839 - val_loss: 3.2702 - val_acc: 0.0644\n",
      "Epoch 2/100\n",
      "20455/20455 [==============================] - 1s 42us/step - loss: 2.6169 - acc: 0.1588 - val_loss: 2.6295 - val_acc: 0.1634\n",
      "Epoch 3/100\n",
      "20455/20455 [==============================] - 1s 42us/step - loss: 2.4001 - acc: 0.2069 - val_loss: 2.1223 - val_acc: 0.2790\n",
      "Epoch 4/100\n",
      "20455/20455 [==============================] - 1s 42us/step - loss: 2.2432 - acc: 0.2472 - val_loss: 2.1688 - val_acc: 0.2490\n",
      "Epoch 5/100\n",
      "20455/20455 [==============================] - 1s 43us/step - loss: 2.1558 - acc: 0.2666 - val_loss: 2.6278 - val_acc: 0.2286\n",
      "Epoch 6/100\n",
      "20455/20455 [==============================] - 1s 43us/step - loss: 2.0971 - acc: 0.2856 - val_loss: 2.3579 - val_acc: 0.2613\n",
      "Epoch 7/100\n",
      "20455/20455 [==============================] - 1s 43us/step - loss: 2.0405 - acc: 0.2947 - val_loss: 2.4723 - val_acc: 0.2137\n",
      "Epoch 8/100\n",
      "20455/20455 [==============================] - 1s 42us/step - loss: 1.9906 - acc: 0.3121 - val_loss: 2.0144 - val_acc: 0.2639\n",
      "Epoch 9/100\n",
      "20455/20455 [==============================] - 1s 42us/step - loss: 1.9554 - acc: 0.3196 - val_loss: 1.9065 - val_acc: 0.3079\n",
      "Epoch 10/100\n",
      "20455/20455 [==============================] - 1s 41us/step - loss: 1.9073 - acc: 0.3314 - val_loss: 2.0297 - val_acc: 0.2916\n",
      "Epoch 11/100\n",
      "20455/20455 [==============================] - 1s 42us/step - loss: 1.8865 - acc: 0.3370 - val_loss: 1.6745 - val_acc: 0.4101\n",
      "Epoch 12/100\n",
      "20455/20455 [==============================] - 1s 42us/step - loss: 1.8554 - acc: 0.3414 - val_loss: 1.8310 - val_acc: 0.3359\n",
      "Epoch 13/100\n",
      "20455/20455 [==============================] - 1s 41us/step - loss: 1.8258 - acc: 0.3503 - val_loss: 1.6980 - val_acc: 0.3903\n",
      "Epoch 14/100\n",
      "20455/20455 [==============================] - 1s 41us/step - loss: 1.8040 - acc: 0.3558 - val_loss: 1.8692 - val_acc: 0.3379\n",
      "Epoch 15/100\n",
      "20455/20455 [==============================] - 1s 42us/step - loss: 1.7764 - acc: 0.3732 - val_loss: 1.8237 - val_acc: 0.3329\n",
      "Epoch 16/100\n",
      "20455/20455 [==============================] - 1s 42us/step - loss: 1.7711 - acc: 0.3714 - val_loss: 1.8552 - val_acc: 0.3094\n",
      "Epoch 17/100\n",
      "20455/20455 [==============================] - 1s 41us/step - loss: 1.7475 - acc: 0.3742 - val_loss: 1.6426 - val_acc: 0.3886\n",
      "Epoch 18/100\n",
      "20455/20455 [==============================] - 1s 43us/step - loss: 1.7238 - acc: 0.3855 - val_loss: 2.9823 - val_acc: 0.1856\n",
      "Epoch 19/100\n",
      "20455/20455 [==============================] - 1s 42us/step - loss: 1.7030 - acc: 0.3898 - val_loss: 1.6941 - val_acc: 0.3651\n",
      "Epoch 20/100\n",
      "20455/20455 [==============================] - 1s 41us/step - loss: 1.6976 - acc: 0.3910 - val_loss: 2.0417 - val_acc: 0.3031\n",
      "Epoch 21/100\n",
      "20455/20455 [==============================] - 1s 41us/step - loss: 1.6841 - acc: 0.3931 - val_loss: 1.5088 - val_acc: 0.4414\n",
      "Epoch 22/100\n",
      "20455/20455 [==============================] - 1s 43us/step - loss: 1.6685 - acc: 0.4005 - val_loss: 1.5945 - val_acc: 0.4099\n",
      "Epoch 23/100\n",
      "20455/20455 [==============================] - 1s 44us/step - loss: 1.6529 - acc: 0.4083 - val_loss: 1.5748 - val_acc: 0.4236\n",
      "Epoch 24/100\n",
      "20455/20455 [==============================] - 1s 42us/step - loss: 1.6485 - acc: 0.4126 - val_loss: 1.6170 - val_acc: 0.4211\n",
      "Epoch 25/100\n",
      "20455/20455 [==============================] - 1s 42us/step - loss: 1.6280 - acc: 0.4110 - val_loss: 2.5698 - val_acc: 0.2437\n",
      "Epoch 26/100\n",
      "20455/20455 [==============================] - 1s 42us/step - loss: 1.6145 - acc: 0.4174 - val_loss: 1.5881 - val_acc: 0.4371\n",
      "Epoch 27/100\n",
      "20455/20455 [==============================] - 1s 44us/step - loss: 1.6053 - acc: 0.4173 - val_loss: 1.9085 - val_acc: 0.3820\n",
      "Epoch 28/100\n",
      "20455/20455 [==============================] - 1s 43us/step - loss: 1.6023 - acc: 0.4304 - val_loss: 1.4800 - val_acc: 0.4594\n",
      "Epoch 29/100\n",
      "20455/20455 [==============================] - 1s 41us/step - loss: 1.5875 - acc: 0.4235 - val_loss: 1.5135 - val_acc: 0.4207\n",
      "Epoch 30/100\n",
      "20455/20455 [==============================] - 1s 42us/step - loss: 1.5831 - acc: 0.4321 - val_loss: 1.6472 - val_acc: 0.4023\n",
      "Epoch 31/100\n",
      "20455/20455 [==============================] - 1s 40us/step - loss: 1.5578 - acc: 0.4404 - val_loss: 1.4442 - val_acc: 0.4754\n",
      "Epoch 32/100\n",
      "20455/20455 [==============================] - 1s 41us/step - loss: 1.5564 - acc: 0.4400 - val_loss: 1.7892 - val_acc: 0.4160\n",
      "Epoch 33/100\n",
      "20455/20455 [==============================] - 1s 40us/step - loss: 1.5399 - acc: 0.4467 - val_loss: 1.3675 - val_acc: 0.4860\n",
      "Epoch 34/100\n",
      "20455/20455 [==============================] - 1s 45us/step - loss: 1.5455 - acc: 0.4434 - val_loss: 1.4782 - val_acc: 0.4501\n",
      "Epoch 35/100\n",
      "20455/20455 [==============================] - 1s 43us/step - loss: 1.5409 - acc: 0.4477 - val_loss: 1.7361 - val_acc: 0.3786\n",
      "Epoch 36/100\n",
      "20455/20455 [==============================] - 1s 42us/step - loss: 1.5230 - acc: 0.4537 - val_loss: 1.3533 - val_acc: 0.4784\n",
      "Epoch 37/100\n",
      "20455/20455 [==============================] - 1s 40us/step - loss: 1.5123 - acc: 0.4571 - val_loss: 1.3954 - val_acc: 0.4734\n",
      "Epoch 38/100\n",
      "20455/20455 [==============================] - 1s 42us/step - loss: 1.5170 - acc: 0.4547 - val_loss: 1.5218 - val_acc: 0.4544\n",
      "Epoch 39/100\n",
      "20455/20455 [==============================] - 1s 42us/step - loss: 1.4885 - acc: 0.4593 - val_loss: 1.4004 - val_acc: 0.4831\n",
      "Epoch 40/100\n",
      "20455/20455 [==============================] - 1s 42us/step - loss: 1.4943 - acc: 0.4665 - val_loss: 1.3790 - val_acc: 0.4784\n",
      "Epoch 41/100\n",
      "20455/20455 [==============================] - 1s 40us/step - loss: 1.4783 - acc: 0.4622 - val_loss: 1.2871 - val_acc: 0.5229\n",
      "Epoch 42/100\n",
      "20455/20455 [==============================] - 1s 42us/step - loss: 1.4897 - acc: 0.4646 - val_loss: 1.5929 - val_acc: 0.4226\n",
      "Epoch 43/100\n",
      "20455/20455 [==============================] - 1s 43us/step - loss: 1.4734 - acc: 0.4693 - val_loss: 2.0095 - val_acc: 0.3556\n",
      "Epoch 44/100\n",
      "20455/20455 [==============================] - 1s 42us/step - loss: 1.4654 - acc: 0.4685 - val_loss: 1.2940 - val_acc: 0.5141\n",
      "Epoch 45/100\n",
      "20455/20455 [==============================] - 1s 43us/step - loss: 1.4510 - acc: 0.4726 - val_loss: 1.5039 - val_acc: 0.4680\n",
      "Epoch 46/100\n",
      "20455/20455 [==============================] - 1s 41us/step - loss: 1.4464 - acc: 0.4772 - val_loss: 2.5661 - val_acc: 0.2523\n",
      "Epoch 47/100\n",
      "20455/20455 [==============================] - 1s 42us/step - loss: 1.4447 - acc: 0.4788 - val_loss: 1.5765 - val_acc: 0.4100\n",
      "Epoch 48/100\n",
      "20455/20455 [==============================] - 1s 41us/step - loss: 1.4412 - acc: 0.4837 - val_loss: 1.5835 - val_acc: 0.4363\n",
      "Epoch 49/100\n",
      "20455/20455 [==============================] - 1s 42us/step - loss: 1.4374 - acc: 0.4854 - val_loss: 1.8157 - val_acc: 0.3844\n",
      "Epoch 50/100\n",
      "20455/20455 [==============================] - 1s 41us/step - loss: 1.4292 - acc: 0.4834 - val_loss: 1.3497 - val_acc: 0.5077\n",
      "Epoch 51/100\n",
      "20455/20455 [==============================] - 1s 43us/step - loss: 1.4060 - acc: 0.4913 - val_loss: 1.2849 - val_acc: 0.5201\n",
      "Epoch 52/100\n",
      "20455/20455 [==============================] - 1s 43us/step - loss: 1.4015 - acc: 0.4968 - val_loss: 1.4019 - val_acc: 0.4709\n",
      "Epoch 53/100\n",
      "20455/20455 [==============================] - 1s 45us/step - loss: 1.4032 - acc: 0.4932 - val_loss: 1.4552 - val_acc: 0.4753\n",
      "Epoch 54/100\n",
      "20455/20455 [==============================] - 1s 45us/step - loss: 1.4167 - acc: 0.4918 - val_loss: 2.5014 - val_acc: 0.3623\n",
      "Epoch 55/100\n",
      "20455/20455 [==============================] - 1s 45us/step - loss: 1.3921 - acc: 0.5011 - val_loss: 2.2698 - val_acc: 0.3240\n",
      "Epoch 56/100\n",
      "20455/20455 [==============================] - 1s 44us/step - loss: 1.3929 - acc: 0.5032 - val_loss: 1.7299 - val_acc: 0.4186\n",
      "Epoch 57/100\n",
      "20455/20455 [==============================] - 1s 40us/step - loss: 1.3908 - acc: 0.5042 - val_loss: 1.2031 - val_acc: 0.5483\n",
      "Epoch 58/100\n",
      "20455/20455 [==============================] - 1s 37us/step - loss: 1.3774 - acc: 0.4969 - val_loss: 1.2134 - val_acc: 0.5444\n",
      "Epoch 59/100\n",
      "20455/20455 [==============================] - 1s 35us/step - loss: 1.3745 - acc: 0.5053 - val_loss: 1.8772 - val_acc: 0.4280\n",
      "Epoch 60/100\n",
      "20455/20455 [==============================] - 1s 40us/step - loss: 1.3711 - acc: 0.5058 - val_loss: 1.1896 - val_acc: 0.5539\n",
      "Epoch 61/100\n",
      "20455/20455 [==============================] - 1s 41us/step - loss: 1.3581 - acc: 0.5066 - val_loss: 1.7396 - val_acc: 0.4247\n",
      "Epoch 62/100\n",
      "20455/20455 [==============================] - 1s 41us/step - loss: 1.3751 - acc: 0.5095 - val_loss: 1.5199 - val_acc: 0.4480\n",
      "Epoch 63/100\n",
      "20455/20455 [==============================] - 1s 41us/step - loss: 1.3643 - acc: 0.5147 - val_loss: 1.1487 - val_acc: 0.5783\n",
      "Epoch 64/100\n",
      "20455/20455 [==============================] - 1s 41us/step - loss: 1.3416 - acc: 0.5198 - val_loss: 1.5403 - val_acc: 0.4479\n",
      "Epoch 65/100\n",
      "20455/20455 [==============================] - 1s 41us/step - loss: 1.3595 - acc: 0.5125 - val_loss: 2.4316 - val_acc: 0.3257\n",
      "Epoch 66/100\n",
      "20455/20455 [==============================] - 1s 41us/step - loss: 1.3465 - acc: 0.5154 - val_loss: 1.4661 - val_acc: 0.4423\n",
      "Epoch 67/100\n",
      "20455/20455 [==============================] - 1s 40us/step - loss: 1.3519 - acc: 0.5139 - val_loss: 1.3640 - val_acc: 0.5011\n",
      "Epoch 68/100\n",
      "20455/20455 [==============================] - 1s 41us/step - loss: 1.3277 - acc: 0.5218 - val_loss: 1.3989 - val_acc: 0.4986\n",
      "Epoch 69/100\n",
      "20455/20455 [==============================] - 1s 41us/step - loss: 1.3348 - acc: 0.5215 - val_loss: 1.1714 - val_acc: 0.5650\n",
      "Epoch 70/100\n",
      "20455/20455 [==============================] - 1s 41us/step - loss: 1.3384 - acc: 0.5193 - val_loss: 1.2406 - val_acc: 0.5326\n",
      "Epoch 71/100\n",
      "20455/20455 [==============================] - 1s 41us/step - loss: 1.3155 - acc: 0.5225 - val_loss: 1.3177 - val_acc: 0.5103\n",
      "Epoch 72/100\n",
      "20455/20455 [==============================] - 1s 41us/step - loss: 1.3325 - acc: 0.5218 - val_loss: 1.1204 - val_acc: 0.5810\n",
      "Epoch 73/100\n",
      "20455/20455 [==============================] - 1s 42us/step - loss: 1.3058 - acc: 0.5278 - val_loss: 1.1521 - val_acc: 0.5650\n",
      "Epoch 74/100\n",
      "20455/20455 [==============================] - 1s 41us/step - loss: 1.3130 - acc: 0.5326 - val_loss: 1.2621 - val_acc: 0.5067\n",
      "Epoch 75/100\n",
      "20455/20455 [==============================] - 1s 41us/step - loss: 1.3089 - acc: 0.5282 - val_loss: 1.0944 - val_acc: 0.5916\n",
      "Epoch 76/100\n",
      "20455/20455 [==============================] - 1s 41us/step - loss: 1.3109 - acc: 0.5326 - val_loss: 1.1616 - val_acc: 0.5620\n",
      "Epoch 77/100\n",
      "20455/20455 [==============================] - 1s 41us/step - loss: 1.2930 - acc: 0.5300 - val_loss: 1.4157 - val_acc: 0.4800\n",
      "Epoch 78/100\n",
      "20455/20455 [==============================] - 1s 41us/step - loss: 1.3037 - acc: 0.5305 - val_loss: 1.0846 - val_acc: 0.6007\n",
      "Epoch 79/100\n",
      "20455/20455 [==============================] - 1s 40us/step - loss: 1.3188 - acc: 0.5261 - val_loss: 1.1274 - val_acc: 0.5837\n",
      "Epoch 80/100\n",
      "20455/20455 [==============================] - 1s 41us/step - loss: 1.2749 - acc: 0.5366 - val_loss: 1.6470 - val_acc: 0.4111\n",
      "Epoch 81/100\n",
      "20455/20455 [==============================] - 1s 41us/step - loss: 1.2982 - acc: 0.5312 - val_loss: 1.1691 - val_acc: 0.5703\n",
      "Epoch 82/100\n",
      "20455/20455 [==============================] - 1s 41us/step - loss: 1.2953 - acc: 0.5298 - val_loss: 1.6460 - val_acc: 0.4333\n",
      "Epoch 83/100\n",
      "20455/20455 [==============================] - 1s 41us/step - loss: 1.2889 - acc: 0.5321 - val_loss: 1.1208 - val_acc: 0.5764\n",
      "Epoch 84/100\n",
      "20455/20455 [==============================] - 1s 41us/step - loss: 1.2854 - acc: 0.5353 - val_loss: 1.0872 - val_acc: 0.6020\n",
      "Epoch 85/100\n",
      "20455/20455 [==============================] - 1s 40us/step - loss: 1.2846 - acc: 0.5386 - val_loss: 1.8823 - val_acc: 0.3977\n",
      "Epoch 86/100\n",
      "20455/20455 [==============================] - 1s 40us/step - loss: 1.2952 - acc: 0.5382 - val_loss: 1.1679 - val_acc: 0.5636\n",
      "Epoch 87/100\n",
      "20455/20455 [==============================] - 1s 41us/step - loss: 1.2547 - acc: 0.5457 - val_loss: 1.1554 - val_acc: 0.5584\n",
      "Epoch 88/100\n",
      "20455/20455 [==============================] - 1s 41us/step - loss: 1.2650 - acc: 0.5441 - val_loss: 1.2172 - val_acc: 0.5406\n",
      "Epoch 89/100\n",
      "20455/20455 [==============================] - 1s 41us/step - loss: 1.2726 - acc: 0.5410 - val_loss: 1.0766 - val_acc: 0.6046\n",
      "Epoch 90/100\n",
      "20455/20455 [==============================] - 1s 40us/step - loss: 1.2610 - acc: 0.5469 - val_loss: 1.4181 - val_acc: 0.4937\n",
      "Epoch 91/100\n",
      "20455/20455 [==============================] - 1s 41us/step - loss: 1.2809 - acc: 0.5440 - val_loss: 1.1189 - val_acc: 0.5883\n",
      "Epoch 92/100\n",
      "20455/20455 [==============================] - 1s 40us/step - loss: 1.2826 - acc: 0.5475 - val_loss: 1.1628 - val_acc: 0.5647\n",
      "Epoch 93/100\n",
      "20455/20455 [==============================] - 1s 40us/step - loss: 1.2477 - acc: 0.5477 - val_loss: 1.2848 - val_acc: 0.5227\n",
      "Epoch 94/100\n",
      "20455/20455 [==============================] - 1s 40us/step - loss: 1.2493 - acc: 0.5515 - val_loss: 1.2791 - val_acc: 0.5237\n",
      "Epoch 95/100\n",
      "20455/20455 [==============================] - 1s 40us/step - loss: 1.2569 - acc: 0.5481 - val_loss: 1.9314 - val_acc: 0.3927\n",
      "Epoch 96/100\n",
      "20455/20455 [==============================] - 1s 40us/step - loss: 1.2555 - acc: 0.5501 - val_loss: 1.1176 - val_acc: 0.5830\n",
      "Epoch 97/100\n",
      "20455/20455 [==============================] - 1s 41us/step - loss: 1.2511 - acc: 0.5527 - val_loss: 1.1805 - val_acc: 0.5574\n",
      "Epoch 98/100\n",
      "20455/20455 [==============================] - 1s 41us/step - loss: 1.2455 - acc: 0.5505 - val_loss: 1.0323 - val_acc: 0.6066\n",
      "Epoch 99/100\n",
      "20455/20455 [==============================] - 1s 40us/step - loss: 1.2339 - acc: 0.5516 - val_loss: 1.3986 - val_acc: 0.4867\n",
      "Epoch 100/100\n",
      "20455/20455 [==============================] - 1s 40us/step - loss: 1.2458 - acc: 0.5501 - val_loss: 1.3179 - val_acc: 0.5247\n"
     ]
    },
    {
     "data": {
      "text/plain": [
       "<keras.callbacks.History at 0x11f273e80>"
      ]
     },
     "execution_count": 5,
     "metadata": {},
     "output_type": "execute_result"
    }
   ],
   "source": [
    "from keras.models import Sequential\n",
    "from keras.layers import Dense, Activation\n",
    "from keras.optimizers import SGD\n",
    "from keras.utils.np_utils import to_categorical\n",
    "\n",
    "# Creación de red secuencial\n",
    "model = Sequential()\n",
    "model.add(Dense(30, input_dim=x_tr.shape[1], init='uniform', activation='relu'))\n",
    "model.add(Dense(30, init='uniform', activation='relu'))\n",
    "model.add(Dense(25, init='uniform', activation='softmax'))\n",
    "model.compile(optimizer='rmsprop', loss='categorical_crossentropy', metrics=['accuracy'])\n",
    "model.fit(x_tr.values, to_categorical(y_tr), nb_epoch=100, batch_size=128, verbose=1,\n",
    "validation_data=(x_v.values,to_categorical(y_v)))"
   ]
  },
  {
   "cell_type": "code",
   "execution_count": 6,
   "metadata": {},
   "outputs": [
    {
     "name": "stdout",
     "output_type": "stream",
     "text": [
      "[ 6  1 10 ...,  2  4  2]\n"
     ]
    },
    {
     "data": {
      "text/plain": [
       "0.3930563301728946"
      ]
     },
     "execution_count": 6,
     "metadata": {},
     "output_type": "execute_result"
    }
   ],
   "source": [
    "from sklearn.metrics import accuracy_score\n",
    "y_t_pred = model.predict_classes(x_t.values)\n",
    "accuracy_score(y_t, y_t_pred)\n"
   ]
  },
  {
   "cell_type": "markdown",
   "metadata": {},
   "source": [
    "**d)** Para la mejor red entrenada anteriormente construya la matriz de confusi´on de las distintas clases, para\n",
    "asi visualizar cu´ales son las clases m´as dif´ıciles de clasificar y con cu´ales se confunden. Comente."
   ]
  },
  {
   "cell_type": "code",
   "execution_count": 8,
   "metadata": {},
   "outputs": [
    {
     "data": {
      "image/png": "[encoded data removed]",
      "text/plain": [
       "<matplotlib.figure.Figure at 0x114af1a20>"
      ]
     },
     "metadata": {},
     "output_type": "display_data"
    }
   ],
   "source": [
    "import itertools\n",
    "import numpy as np\n",
    "import matplotlib.pyplot as plt\n",
    "from sklearn import svm, datasets\n",
    "from sklearn.model_selection import train_test_split\n",
    "from sklearn.metrics import confusion_matrix\n",
    "y_t_predict = model.predict_classes(x_t.values)\n",
    "cm = confusion_matrix(y_t, y_t_predict)\n",
    "    \n",
    "plt.figure(figsize=(15, 15))\n",
    "plt.imshow(cm, interpolation='nearest', cmap=plt.cm.Blues)\n",
    "plt.colorbar()\n",
    "plt.show()"
   ]
  },
  {
   "cell_type": "markdown",
   "metadata": {},
   "source": [
    "**e)** Entrene una SVM no lineal sobre los pixeles con y sin pre-procesamiento. Puede utilizar el conjunto de\n",
    "validaci´on para seleccionar hiper-par´ametros, como el nivel de regularizaci´on aplicado y/o la funci´on\n",
    "de kernel a utilizar."
   ]
  },
  {
   "cell_type": "markdown",
   "metadata": {},
   "source": [
    "##### Sin procesamiento"
   ]
  },
  {
   "cell_type": "code",
   "execution_count": null,
   "metadata": {},
   "outputs": [
    {
     "name": "stdout",
     "output_type": "stream",
     "text": [
      "Trying param 0.001000\n"
     ]
    }
   ],
   "source": [
    "from sklearn.svm import SVC as SVM\n",
    "from sklearn.metrics import accuracy_score\n",
    "import numpy as np\n",
    "import matplotlib.pyplot as plt\n",
    "from sklearn.metrics import f1_score\n",
    "\n",
    "def train_svm(param):\n",
    "    model = SVM()\n",
    "    model.set_params(C=param, kernel='rbf')\n",
    "    model.fit(x_tr, y_tr)\n",
    "\n",
    "    y_tr_pred = model.predict(x_tr)\n",
    "    y_v_pred = model.predict(x_v)\n",
    "\n",
    "    train_error = (1-accuracy_score(y_tr, y_tr_pred))\n",
    "    test_error = (1-accuracy_score(y_v, y_v_pred))\n",
    "    \n",
    "    return (train_error, test_error)\n",
    "\n",
    "def graph_svm_range(params):\n",
    "    train_errors = []\n",
    "    test_errors = []\n",
    "\n",
    "    for depth in params:\n",
    "        print('Trying param %f' % depth)\n",
    "        (train, test) = train_svm(depth)\n",
    "        train_errors.append(train)\n",
    "        test_errors.append(test)\n",
    "\n",
    "    plt.figure(figsize=(10, 8))\n",
    "    plt.plot(params, train_errors, label=\"Train Error\")\n",
    "    plt.plot(params, test_errors, label=\"Test Error\")\n",
    "    plt.legend(bbox_to_anchor=(1.05, 1), loc=2, borderaxespad=0.)\n",
    "    plt.xlabel('RBF')\n",
    "    plt.ylabel('Error')\n",
    "    plt.show()\n",
    "    \n",
    "params = np.arange(0.001, 1.0, 0.25)\n",
    "graph_svm_range(params)"
   ]
  },
  {
   "cell_type": "markdown",
   "metadata": {},
   "source": [
    "##### Con procesamiento"
   ]
  },
  {
   "cell_type": "code",
   "execution_count": null,
   "metadata": {},
   "outputs": [],
   "source": []
  },
  {
   "cell_type": "markdown",
   "metadata": {},
   "source": [
    "**f)** Entrene una ´arbol de clasificaci´on sobre los pixeles con y sin pre-procesamiento. Puede utilizar el\n",
    "conjunto de validaci´on para seleccionar hiper-par´ametros, como la profundidad m´axima del ´arbol."
   ]
  },
  {
   "cell_type": "code",
   "execution_count": null,
   "metadata": {},
   "outputs": [],
   "source": [
    "from sklearn.tree import DecisionTreeClassifier as Tree\n",
    "from sklearn.metrics import accuracy_score\n",
    "import numpy as np\n",
    "import matplotlib.pyplot as plt\n",
    "from sklearn.metrics import f1_score\n",
    "\n",
    "def train_tree(depth):\n",
    "    # Entrenar el árbol\n",
    "    model = Tree()\n",
    "    model.set_params(max_depth=depth, criterion='gini', splitter='best')\n",
    "    model.fit(Xtrain, Ytrain)\n",
    "\n",
    "    y_tr_pred = model.predict(x_tr)\n",
    "    y_v_pred = model.predict(x_v)\n",
    "\n",
    "\n",
    "    train_error = (1-accuracy_score(y_tr, Y_tr_pred))\n",
    "    test_error = (1-accuracy_score(y_v, y_v_pred))\n",
    "\n",
    "    return (train_error, test_error)\n",
    "\n",
    "def graph_tree_range(params):\n",
    "    train_errors = []\n",
    "    test_errors = []\n",
    "\n",
    "    for depth in params:\n",
    "        print('Trying depth %d' % depth)\n",
    "        (train, test) = train_tree(depth)\n",
    "        train_errors.append(train)\n",
    "        test_errors.append(test)\n",
    "\n",
    "    plt.figure(figsize=(10, 8))\n",
    "    plt.plot(params, train_errors, label=\"Train Error\")\n",
    "    plt.plot(params, test_errors, label=\"Test Error\")\n",
    "    plt.legend(bbox_to_anchor=(1.05, 1), loc=2, borderaxespad=0.)\n",
    "    plt.xlabel('Profundidad del árbol')\n",
    "    plt.ylabel('Error')\n",
    "    plt.show()\n",
    "    \n",
    "params = np.arange(1, 20, 1)\n",
    "graph_tree_range(params)"
   ]
  },
  {
   "cell_type": "code",
   "execution_count": null,
   "metadata": {},
   "outputs": [],
   "source": []
  }
 ],
 "metadata": {
  "kernelspec": {
   "display_name": "Python 3",
   "language": "python",
   "name": "python3"
  },
  "language_info": {
   "codemirror_mode": {
    "name": "ipython",
    "version": 3
   },
   "file_extension": ".py",
   "mimetype": "text/x-python",
   "name": "python",
   "nbconvert_exporter": "python",
   "pygments_lexer": "ipython3",
   "version": "3.6.2"
  }
 },
 "nbformat": 4,
 "nbformat_minor": 2
}
