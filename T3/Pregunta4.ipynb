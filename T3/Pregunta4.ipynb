{
 "cells": [
  {
   "cell_type": "markdown",
   "metadata": {},
   "source": [
    "**a)** Construya una funci´on que cargue todos los datos de entrenamiento y pruebas del problema generando\n",
    "como salida: (i) dos matrices Xtr, Ytr, correspondientes a las im´agenes y etiquetas de entrenamiento,\n",
    "(ii) dos matrices Xt, Yt, correspondientes a las im´agenes y etiquetas de pruebas, y finalmente (iii) dos\n",
    "matrices Xv, Yv, correspondientes a im´agenes y etiquetas que se usar´an como conjunto de validaci´on, es\n",
    "decir para tomar decisiones de dise˜no acerca del modelo. Este ´ultimo conjunto debe ser extra´ıdo desde\n",
    "el conjunto de entrenamiento original y no debe superar las 7000 im´agenes."
   ]
  },
  {
   "cell_type": "code",
   "execution_count": 2,
   "metadata": {},
   "outputs": [],
   "source": [
    "import pandas as pd\n",
    "from sklearn.model_selection import train_test_split\n",
    "def load_data():\n",
    "    train = pd.read_csv('data/sign_mnist_train.csv')\n",
    "    test = pd.read_csv('data/sign_mnist_test.csv')\n",
    "    (train_set, validation_set) = train_test_split(train, test_size=7000, random_state=8500)\n",
    "    \n",
    "    y_tr = train_set['label']\n",
    "    x_tr = train_set.iloc[:, 1:]\n",
    "    \n",
    "    y_t = test['label']\n",
    "    x_t = test.iloc[:, 1:]\n",
    "    \n",
    "    y_v = validation_set['label']\n",
    "    x_v = validation_set.iloc[:, 1:]\n",
    "\n",
    "    return(x_tr,x_v,x_t,y_tr,y_v,y_t)\n",
    "x_tr, x_v, x_t, y_tr, y_v , y_t = load_data()"
   ]
  },
  {
   "cell_type": "markdown",
   "metadata": {},
   "source": [
    "**b)** Construya una funci´on que escale apropiadamente las im´agenes antes de trabajar. Experimente s´olo\n",
    "escalando los datos de acuerdo a la intensidad m´axima de pixel (i.e., dividiendo por 255) y luego\n",
    "centrando y escal´andolos como en actividades anteriores"
   ]
  },
  {
   "cell_type": "code",
   "execution_count": 3,
   "metadata": {},
   "outputs": [],
   "source": [
    "def scale_by_max_pixel(x_set):\n",
    "    return x_set/255\n",
    "\n",
    "\n",
    "# Finish this one!\n",
    "def center_and_scale(x_set):\n",
    "    return x_set\n",
    "x_tr = scale_by_max_pixel(x_tr)\n",
    "x_t = scale_by_max_pixel(x_t)\n",
    "x_v = scale_by_max_pixel(x_v)"
   ]
  },
  {
   "cell_type": "markdown",
   "metadata": {},
   "source": [
    "**c)** Dise˜ne, entrene y eval´ue una red neuronal para el problema partir de la representaci´on original de las\n",
    "im´agenes. Experimente con distintas arquitecturas, pre-procesamientos y m´etodos de entrenamiento, midiendo el error de clasificaci´on sobre el conjunto de validaci´on. En base a esta ´ultima medida de\n",
    "desempe˜no, decida qu´e modelo, de entre todos los evaluados, medir´a finalmente en el conjunto de test.\n",
    "Reporte y discuta los resultados obtenidos. Se espera que logre obtener un error de pruebas menor o\n",
    "igual a 0.2."
   ]
  },
  {
   "cell_type": "markdown",
   "metadata": {},
   "source": [
    "### Network 1"
   ]
  },
  {
   "cell_type": "code",
   "execution_count": 4,
   "metadata": {},
   "outputs": [
    {
     "name": "stderr",
     "output_type": "stream",
     "text": [
      "Using TensorFlow backend.\n",
      "/usr/local/Cellar/python3/3.6.2/Frameworks/Python.framework/Versions/3.6/lib/python3.6/importlib/_bootstrap.py:205: RuntimeWarning: compiletime version 3.5 of module 'tensorflow.python.framework.fast_tensor_util' does not match runtime version 3.6\n",
      "  return f(*args, **kwds)\n",
      "/usr/local/lib/python3.6/site-packages/ipykernel_launcher.py:8: UserWarning: Update your `Dense` call to the Keras 2 API: `Dense(30, input_dim=784, activation=\"relu\", kernel_initializer=\"uniform\")`\n",
      "  \n",
      "/usr/local/lib/python3.6/site-packages/ipykernel_launcher.py:9: UserWarning: Update your `Dense` call to the Keras 2 API: `Dense(30, activation=\"relu\", kernel_initializer=\"uniform\")`\n",
      "  if __name__ == '__main__':\n",
      "/usr/local/lib/python3.6/site-packages/ipykernel_launcher.py:10: UserWarning: Update your `Dense` call to the Keras 2 API: `Dense(25, activation=\"softmax\", kernel_initializer=\"uniform\")`\n",
      "  # Remove the CWD from sys.path while we load stuff.\n",
      "/usr/local/lib/python3.6/site-packages/keras/models.py:939: UserWarning: The `nb_epoch` argument in `fit` has been renamed `epochs`.\n",
      "  warnings.warn('The `nb_epoch` argument in `fit` '\n"
     ]
    },
    {
     "name": "stdout",
     "output_type": "stream",
     "text": [
      "Train on 20455 samples, validate on 7000 samples\n",
      "Epoch 1/100\n",
      "20455/20455 [==============================] - 1s 53us/step - loss: 3.0655 - acc: 0.0857 - val_loss: 2.8185 - val_acc: 0.1417\n",
      "Epoch 2/100\n",
      "20455/20455 [==============================] - 1s 41us/step - loss: 2.6613 - acc: 0.1768 - val_loss: 2.5034 - val_acc: 0.2154\n",
      "Epoch 3/100\n",
      "20455/20455 [==============================] - 1s 42us/step - loss: 2.4059 - acc: 0.2275 - val_loss: 2.3405 - val_acc: 0.2299\n",
      "Epoch 4/100\n",
      "20455/20455 [==============================] - 1s 42us/step - loss: 2.2743 - acc: 0.2417 - val_loss: 2.3140 - val_acc: 0.2296\n",
      "Epoch 5/100\n",
      "20455/20455 [==============================] - 1s 39us/step - loss: 2.2025 - acc: 0.2582 - val_loss: 2.1759 - val_acc: 0.2569\n",
      "Epoch 6/100\n",
      "20455/20455 [==============================] - 1s 38us/step - loss: 2.1331 - acc: 0.2781 - val_loss: 2.1243 - val_acc: 0.2780\n",
      "Epoch 7/100\n",
      "20455/20455 [==============================] - 1s 40us/step - loss: 2.0518 - acc: 0.3083 - val_loss: 2.0101 - val_acc: 0.3144\n",
      "Epoch 8/100\n",
      "20455/20455 [==============================] - 1s 42us/step - loss: 1.9598 - acc: 0.3404 - val_loss: 1.9041 - val_acc: 0.3634\n",
      "Epoch 9/100\n",
      "20455/20455 [==============================] - 1s 40us/step - loss: 1.8581 - acc: 0.3797 - val_loss: 1.8655 - val_acc: 0.3847\n",
      "Epoch 10/100\n",
      "20455/20455 [==============================] - 1s 40us/step - loss: 1.7728 - acc: 0.4091 - val_loss: 1.7315 - val_acc: 0.4350\n",
      "Epoch 11/100\n",
      "20455/20455 [==============================] - 1s 36us/step - loss: 1.7015 - acc: 0.4304 - val_loss: 1.6441 - val_acc: 0.4647\n",
      "Epoch 12/100\n",
      "20455/20455 [==============================] - 1s 39us/step - loss: 1.6436 - acc: 0.4483 - val_loss: 1.6253 - val_acc: 0.4580\n",
      "Epoch 13/100\n",
      "20455/20455 [==============================] - 1s 40us/step - loss: 1.5880 - acc: 0.4658 - val_loss: 1.7249 - val_acc: 0.4149\n",
      "Epoch 14/100\n",
      "20455/20455 [==============================] - 1s 40us/step - loss: 1.5483 - acc: 0.4810 - val_loss: 1.5253 - val_acc: 0.4964\n",
      "Epoch 15/100\n",
      "20455/20455 [==============================] - 1s 40us/step - loss: 1.5036 - acc: 0.4975 - val_loss: 1.5715 - val_acc: 0.4609\n",
      "Epoch 16/100\n",
      "20455/20455 [==============================] - 1s 40us/step - loss: 1.4706 - acc: 0.5055 - val_loss: 1.5026 - val_acc: 0.4963\n",
      "Epoch 17/100\n",
      "20455/20455 [==============================] - 1s 40us/step - loss: 1.4301 - acc: 0.5198 - val_loss: 1.5824 - val_acc: 0.4569\n",
      "Epoch 18/100\n",
      "20455/20455 [==============================] - 1s 40us/step - loss: 1.3992 - acc: 0.5274 - val_loss: 1.3765 - val_acc: 0.5361\n",
      "Epoch 19/100\n",
      "20455/20455 [==============================] - 1s 39us/step - loss: 1.3572 - acc: 0.5414 - val_loss: 1.3530 - val_acc: 0.5510\n",
      "Epoch 20/100\n",
      "20455/20455 [==============================] - 1s 39us/step - loss: 1.3278 - acc: 0.5497 - val_loss: 1.4835 - val_acc: 0.5003\n",
      "Epoch 21/100\n",
      "20455/20455 [==============================] - 1s 39us/step - loss: 1.2986 - acc: 0.5598 - val_loss: 1.2620 - val_acc: 0.5746\n",
      "Epoch 22/100\n",
      "20455/20455 [==============================] - 1s 39us/step - loss: 1.2635 - acc: 0.5695 - val_loss: 1.3508 - val_acc: 0.5494\n",
      "Epoch 23/100\n",
      "20455/20455 [==============================] - 1s 39us/step - loss: 1.2348 - acc: 0.5752 - val_loss: 1.2311 - val_acc: 0.5744\n",
      "Epoch 24/100\n",
      "20455/20455 [==============================] - 1s 39us/step - loss: 1.2032 - acc: 0.5857 - val_loss: 1.2011 - val_acc: 0.5936\n",
      "Epoch 25/100\n",
      "20455/20455 [==============================] - 1s 39us/step - loss: 1.1772 - acc: 0.5952 - val_loss: 1.2679 - val_acc: 0.5756\n",
      "Epoch 26/100\n",
      "20455/20455 [==============================] - 1s 39us/step - loss: 1.1425 - acc: 0.6055 - val_loss: 1.0959 - val_acc: 0.6294\n",
      "Epoch 27/100\n",
      "20455/20455 [==============================] - 1s 39us/step - loss: 1.1108 - acc: 0.6167 - val_loss: 1.1276 - val_acc: 0.6253\n",
      "Epoch 28/100\n",
      "20455/20455 [==============================] - 1s 39us/step - loss: 1.0820 - acc: 0.6265 - val_loss: 1.1094 - val_acc: 0.6184\n",
      "Epoch 29/100\n",
      "20455/20455 [==============================] - 1s 39us/step - loss: 1.0461 - acc: 0.6388 - val_loss: 1.0463 - val_acc: 0.6429\n",
      "Epoch 30/100\n",
      "20455/20455 [==============================] - 1s 40us/step - loss: 1.0204 - acc: 0.6444 - val_loss: 1.0342 - val_acc: 0.6453\n",
      "Epoch 31/100\n",
      "20455/20455 [==============================] - 1s 39us/step - loss: 0.9878 - acc: 0.6593 - val_loss: 0.9959 - val_acc: 0.6496\n",
      "Epoch 32/100\n",
      "20455/20455 [==============================] - 1s 40us/step - loss: 0.9549 - acc: 0.6698 - val_loss: 0.9389 - val_acc: 0.6849\n",
      "Epoch 33/100\n",
      "20455/20455 [==============================] - 1s 39us/step - loss: 0.9270 - acc: 0.6795 - val_loss: 0.9902 - val_acc: 0.6609\n",
      "Epoch 34/100\n",
      "20455/20455 [==============================] - 1s 39us/step - loss: 0.9004 - acc: 0.6883 - val_loss: 0.8509 - val_acc: 0.7091\n",
      "Epoch 35/100\n",
      "20455/20455 [==============================] - 1s 39us/step - loss: 0.8734 - acc: 0.6958 - val_loss: 0.9674 - val_acc: 0.6586\n",
      "Epoch 36/100\n",
      "20455/20455 [==============================] - 1s 39us/step - loss: 0.8504 - acc: 0.7037 - val_loss: 0.8797 - val_acc: 0.7050\n",
      "Epoch 37/100\n",
      "20455/20455 [==============================] - 1s 39us/step - loss: 0.8220 - acc: 0.7123 - val_loss: 0.9697 - val_acc: 0.6500\n",
      "Epoch 38/100\n",
      "20455/20455 [==============================] - 1s 38us/step - loss: 0.8036 - acc: 0.7240 - val_loss: 0.8362 - val_acc: 0.7053\n",
      "Epoch 39/100\n",
      "20455/20455 [==============================] - 1s 34us/step - loss: 0.7776 - acc: 0.7269 - val_loss: 0.7458 - val_acc: 0.7539\n",
      "Epoch 40/100\n",
      "20455/20455 [==============================] - 1s 34us/step - loss: 0.7582 - acc: 0.7381 - val_loss: 0.7578 - val_acc: 0.7417\n",
      "Epoch 41/100\n",
      "20455/20455 [==============================] - 1s 34us/step - loss: 0.7433 - acc: 0.7421 - val_loss: 0.6988 - val_acc: 0.7573\n",
      "Epoch 42/100\n",
      "20455/20455 [==============================] - 1s 34us/step - loss: 0.7140 - acc: 0.7488 - val_loss: 0.9897 - val_acc: 0.6577\n",
      "Epoch 43/100\n",
      "20455/20455 [==============================] - 1s 34us/step - loss: 0.7020 - acc: 0.7571 - val_loss: 0.6890 - val_acc: 0.7560\n",
      "Epoch 44/100\n",
      "20455/20455 [==============================] - 1s 34us/step - loss: 0.6786 - acc: 0.7633 - val_loss: 0.7947 - val_acc: 0.7204\n",
      "Epoch 45/100\n",
      "20455/20455 [==============================] - 1s 34us/step - loss: 0.6682 - acc: 0.7660 - val_loss: 0.7910 - val_acc: 0.7177\n",
      "Epoch 46/100\n",
      "20455/20455 [==============================] - 1s 34us/step - loss: 0.6390 - acc: 0.7752 - val_loss: 0.6907 - val_acc: 0.7597\n",
      "Epoch 47/100\n",
      "20455/20455 [==============================] - 1s 34us/step - loss: 0.6190 - acc: 0.7828 - val_loss: 0.6516 - val_acc: 0.7711\n",
      "Epoch 48/100\n",
      "20455/20455 [==============================] - 1s 34us/step - loss: 0.6053 - acc: 0.7875 - val_loss: 0.6397 - val_acc: 0.7846\n",
      "Epoch 49/100\n",
      "20455/20455 [==============================] - 1s 34us/step - loss: 0.5878 - acc: 0.7947 - val_loss: 0.5684 - val_acc: 0.8071\n",
      "Epoch 50/100\n",
      "20455/20455 [==============================] - 1s 34us/step - loss: 0.5712 - acc: 0.8004 - val_loss: 0.5507 - val_acc: 0.8054\n",
      "Epoch 51/100\n",
      "20455/20455 [==============================] - 1s 34us/step - loss: 0.5576 - acc: 0.8087 - val_loss: 0.5315 - val_acc: 0.8201\n",
      "Epoch 52/100\n",
      "20455/20455 [==============================] - 1s 34us/step - loss: 0.5348 - acc: 0.8132 - val_loss: 0.4747 - val_acc: 0.8389\n",
      "Epoch 53/100\n",
      "20455/20455 [==============================] - 1s 38us/step - loss: 0.5234 - acc: 0.8172 - val_loss: 0.5303 - val_acc: 0.8141\n",
      "Epoch 54/100\n",
      "20455/20455 [==============================] - 1s 38us/step - loss: 0.5058 - acc: 0.8258 - val_loss: 0.5428 - val_acc: 0.8086\n",
      "Epoch 55/100\n",
      "20455/20455 [==============================] - 1s 38us/step - loss: 0.4945 - acc: 0.8302 - val_loss: 0.4471 - val_acc: 0.8474\n",
      "Epoch 56/100\n",
      "20455/20455 [==============================] - 1s 38us/step - loss: 0.4771 - acc: 0.8330 - val_loss: 0.4109 - val_acc: 0.8671\n",
      "Epoch 57/100\n",
      "20455/20455 [==============================] - 1s 38us/step - loss: 0.4652 - acc: 0.8365 - val_loss: 0.4500 - val_acc: 0.8439\n",
      "Epoch 58/100\n",
      "20455/20455 [==============================] - 1s 38us/step - loss: 0.4479 - acc: 0.8476 - val_loss: 0.4871 - val_acc: 0.8301\n",
      "Epoch 59/100\n"
     ]
    },
    {
     "name": "stdout",
     "output_type": "stream",
     "text": [
      "20455/20455 [==============================] - 1s 42us/step - loss: 0.4369 - acc: 0.8538 - val_loss: 0.4439 - val_acc: 0.8351\n",
      "Epoch 60/100\n",
      "20455/20455 [==============================] - 1s 36us/step - loss: 0.4265 - acc: 0.8520 - val_loss: 0.3531 - val_acc: 0.8853\n",
      "Epoch 61/100\n",
      "20455/20455 [==============================] - 1s 37us/step - loss: 0.4076 - acc: 0.8604 - val_loss: 0.4604 - val_acc: 0.8387\n",
      "Epoch 62/100\n",
      "20455/20455 [==============================] - 1s 40us/step - loss: 0.4040 - acc: 0.8628 - val_loss: 0.4857 - val_acc: 0.8214\n",
      "Epoch 63/100\n",
      "20455/20455 [==============================] - 1s 39us/step - loss: 0.3809 - acc: 0.8698 - val_loss: 0.3882 - val_acc: 0.8650\n",
      "Epoch 64/100\n",
      "20455/20455 [==============================] - 1s 40us/step - loss: 0.3716 - acc: 0.8757 - val_loss: 0.5971 - val_acc: 0.7847\n",
      "Epoch 65/100\n",
      "20455/20455 [==============================] - 1s 40us/step - loss: 0.3667 - acc: 0.8710 - val_loss: 0.3636 - val_acc: 0.8631\n",
      "Epoch 66/100\n",
      "20455/20455 [==============================] - 1s 40us/step - loss: 0.3516 - acc: 0.8792 - val_loss: 0.4464 - val_acc: 0.8473\n",
      "Epoch 67/100\n",
      "20455/20455 [==============================] - 1s 40us/step - loss: 0.3430 - acc: 0.8829 - val_loss: 0.2947 - val_acc: 0.8960\n",
      "Epoch 68/100\n",
      "20455/20455 [==============================] - 1s 39us/step - loss: 0.3248 - acc: 0.8870 - val_loss: 0.4148 - val_acc: 0.8451\n",
      "Epoch 69/100\n",
      "20455/20455 [==============================] - 1s 39us/step - loss: 0.3189 - acc: 0.8938 - val_loss: 0.2977 - val_acc: 0.9009\n",
      "Epoch 70/100\n",
      "20455/20455 [==============================] - 1s 39us/step - loss: 0.3104 - acc: 0.8956 - val_loss: 0.2507 - val_acc: 0.9194\n",
      "Epoch 71/100\n",
      "20455/20455 [==============================] - 1s 39us/step - loss: 0.2955 - acc: 0.9020 - val_loss: 0.2628 - val_acc: 0.9073\n",
      "Epoch 72/100\n",
      "20455/20455 [==============================] - 1s 39us/step - loss: 0.2959 - acc: 0.9015 - val_loss: 0.2098 - val_acc: 0.9347\n",
      "Epoch 73/100\n",
      "20455/20455 [==============================] - 1s 39us/step - loss: 0.2828 - acc: 0.9074 - val_loss: 0.4496 - val_acc: 0.8509\n",
      "Epoch 74/100\n",
      "20455/20455 [==============================] - 1s 39us/step - loss: 0.2685 - acc: 0.9121 - val_loss: 0.4013 - val_acc: 0.8556\n",
      "Epoch 75/100\n",
      "20455/20455 [==============================] - 1s 39us/step - loss: 0.2557 - acc: 0.9140 - val_loss: 0.6245 - val_acc: 0.7810\n",
      "Epoch 76/100\n",
      "20455/20455 [==============================] - 1s 39us/step - loss: 0.2530 - acc: 0.9188 - val_loss: 0.3622 - val_acc: 0.8630\n",
      "Epoch 77/100\n",
      "20455/20455 [==============================] - 1s 39us/step - loss: 0.2376 - acc: 0.9202 - val_loss: 0.2863 - val_acc: 0.8950\n",
      "Epoch 78/100\n",
      "20455/20455 [==============================] - 1s 39us/step - loss: 0.2359 - acc: 0.9227 - val_loss: 0.4208 - val_acc: 0.8424\n",
      "Epoch 79/100\n",
      "20455/20455 [==============================] - 1s 39us/step - loss: 0.2342 - acc: 0.9255 - val_loss: 0.1573 - val_acc: 0.9549\n",
      "Epoch 80/100\n",
      "20455/20455 [==============================] - 1s 40us/step - loss: 0.2192 - acc: 0.9294 - val_loss: 0.1944 - val_acc: 0.9414\n",
      "Epoch 81/100\n",
      "20455/20455 [==============================] - 1s 39us/step - loss: 0.2138 - acc: 0.9312 - val_loss: 0.1365 - val_acc: 0.9647\n",
      "Epoch 82/100\n",
      "20455/20455 [==============================] - 1s 39us/step - loss: 0.2046 - acc: 0.9338 - val_loss: 0.1981 - val_acc: 0.9326\n",
      "Epoch 83/100\n",
      "20455/20455 [==============================] - 1s 39us/step - loss: 0.2018 - acc: 0.9366 - val_loss: 0.1211 - val_acc: 0.9694\n",
      "Epoch 84/100\n",
      "20455/20455 [==============================] - 1s 39us/step - loss: 0.1911 - acc: 0.9376 - val_loss: 0.1364 - val_acc: 0.9593\n",
      "Epoch 85/100\n",
      "20455/20455 [==============================] - 1s 40us/step - loss: 0.1832 - acc: 0.9449 - val_loss: 0.4587 - val_acc: 0.8439\n",
      "Epoch 86/100\n",
      "20455/20455 [==============================] - 1s 39us/step - loss: 0.1773 - acc: 0.9442 - val_loss: 0.1767 - val_acc: 0.9466\n",
      "Epoch 87/100\n",
      "20455/20455 [==============================] - 1s 39us/step - loss: 0.1737 - acc: 0.9487 - val_loss: 0.2745 - val_acc: 0.8974\n",
      "Epoch 88/100\n",
      "20455/20455 [==============================] - 1s 39us/step - loss: 0.1715 - acc: 0.9477 - val_loss: 0.1142 - val_acc: 0.9694\n",
      "Epoch 89/100\n",
      "20455/20455 [==============================] - 1s 39us/step - loss: 0.1647 - acc: 0.9496 - val_loss: 0.1163 - val_acc: 0.9686\n",
      "Epoch 90/100\n",
      "20455/20455 [==============================] - 1s 39us/step - loss: 0.1523 - acc: 0.9559 - val_loss: 0.1824 - val_acc: 0.9320\n",
      "Epoch 91/100\n",
      "20455/20455 [==============================] - 1s 38us/step - loss: 0.1624 - acc: 0.9521 - val_loss: 0.1042 - val_acc: 0.9736\n",
      "Epoch 92/100\n",
      "20455/20455 [==============================] - 1s 38us/step - loss: 0.1468 - acc: 0.9584 - val_loss: 0.0823 - val_acc: 0.9834\n",
      "Epoch 93/100\n",
      "20455/20455 [==============================] - 1s 38us/step - loss: 0.1566 - acc: 0.9557 - val_loss: 0.0899 - val_acc: 0.9766\n",
      "Epoch 94/100\n",
      "20455/20455 [==============================] - 1s 38us/step - loss: 0.1306 - acc: 0.9621 - val_loss: 0.1981 - val_acc: 0.9219\n",
      "Epoch 95/100\n",
      "20455/20455 [==============================] - 1s 38us/step - loss: 0.1342 - acc: 0.9598 - val_loss: 0.3084 - val_acc: 0.8889\n",
      "Epoch 96/100\n",
      "20455/20455 [==============================] - 1s 39us/step - loss: 0.1373 - acc: 0.9599 - val_loss: 0.4721 - val_acc: 0.8437\n",
      "Epoch 97/100\n",
      "20455/20455 [==============================] - 1s 38us/step - loss: 0.1316 - acc: 0.9625 - val_loss: 0.1373 - val_acc: 0.9499\n",
      "Epoch 98/100\n",
      "20455/20455 [==============================] - 1s 38us/step - loss: 0.1280 - acc: 0.9633 - val_loss: 0.0582 - val_acc: 0.9889\n",
      "Epoch 99/100\n",
      "20455/20455 [==============================] - 1s 38us/step - loss: 0.1195 - acc: 0.9674 - val_loss: 0.1850 - val_acc: 0.9273\n",
      "Epoch 100/100\n",
      "20455/20455 [==============================] - 1s 38us/step - loss: 0.1262 - acc: 0.9670 - val_loss: 0.0470 - val_acc: 0.9944\n"
     ]
    },
    {
     "data": {
      "text/plain": [
       "<keras.callbacks.History at 0x121673cf8>"
      ]
     },
     "execution_count": 4,
     "metadata": {},
     "output_type": "execute_result"
    }
   ],
   "source": [
    "from keras.models import Sequential\n",
    "from keras.layers import Dense, Activation\n",
    "from keras.optimizers import SGD\n",
    "from keras.utils.np_utils import to_categorical\n",
    "\n",
    "# Creación de red secuencial\n",
    "model = Sequential()\n",
    "model.add(Dense(30, input_dim=x_tr.shape[1], init='uniform', activation='relu'))\n",
    "model.add(Dense(30, init='uniform', activation='relu'))\n",
    "model.add(Dense(25, init='uniform', activation='softmax'))\n",
    "model.compile(optimizer='rmsprop', loss='categorical_crossentropy', metrics=['accuracy'])\n",
    "model.fit(x_tr.values, to_categorical(y_tr), nb_epoch=100, batch_size=128, verbose=1,\n",
    "validation_data=(x_v.values,to_categorical(y_v)))"
   ]
  },
  {
   "cell_type": "markdown",
   "metadata": {},
   "source": [
    "Error de clasificación: 0.05"
   ]
  },
  {
   "cell_type": "markdown",
   "metadata": {},
   "source": [
    "### Network 2"
   ]
  },
  {
   "cell_type": "markdown",
   "metadata": {},
   "source": [
    "**d)** Para la mejor red entrenada anteriormente construya la matriz de confusi´on de las distintas clases, para\n",
    "asi visualizar cu´ales son las clases m´as dif´ıciles de clasificar y con cu´ales se confunden. Comente."
   ]
  },
  {
   "cell_type": "code",
   "execution_count": 17,
   "metadata": {},
   "outputs": [
    {
     "data": {
      "image/png": "[encoded data removed]",
      "text/plain": [
       "<matplotlib.figure.Figure at 0x121b039b0>"
      ]
     },
     "metadata": {},
     "output_type": "display_data"
    }
   ],
   "source": [
    "\n",
    "import itertools\n",
    "import numpy as np\n",
    "import matplotlib.pyplot as plt\n",
    "\n",
    "from sklearn import svm, datasets\n",
    "from sklearn.model_selection import train_test_split\n",
    "from sklearn.metrics import confusion_matrix\n",
    "y_t_predict = model.predict_classes(x_t.values)\n",
    "cm = confusion_matrix(y_t, y_t_predict)\n",
    "    \n",
    "plt.figure(figsize=(15, 15))\n",
    "plt.imshow(cm, interpolation='nearest', cmap=plt.cm.Blues)\n",
    "plt.colorbar()\n",
    "plt.show()"
   ]
  },
  {
   "cell_type": "markdown",
   "metadata": {},
   "source": [
    "**e)** Entrene una SVM no lineal sobre los pixeles con y sin pre-procesamiento. Puede utilizar el conjunto de\n",
    "validaci´on para seleccionar hiper-par´ametros, como el nivel de regularizaci´on aplicado y/o la funci´on\n",
    "de kernel a utilizar."
   ]
  },
  {
   "cell_type": "code",
   "execution_count": null,
   "metadata": {},
   "outputs": [],
   "source": []
  },
  {
   "cell_type": "markdown",
   "metadata": {},
   "source": [
    "**f)** Entrene una ´arbol de clasificaci´on sobre los pixeles con y sin pre-procesamiento. Puede utilizar el\n",
    "conjunto de validaci´on para seleccionar hiper-par´ametros, como la profundidad m´axima del ´arbol."
   ]
  },
  {
   "cell_type": "code",
   "execution_count": null,
   "metadata": {},
   "outputs": [],
   "source": []
  }
 ],
 "metadata": {
  "kernelspec": {
   "display_name": "Python 3",
   "language": "python",
   "name": "python3"
  },
  "language_info": {
   "codemirror_mode": {
    "name": "ipython",
    "version": 3
   },
   "file_extension": ".py",
   "mimetype": "text/x-python",
   "name": "python",
   "nbconvert_exporter": "python",
   "pygments_lexer": "ipython3",
   "version": "3.6.2"
  }
 },
 "nbformat": 4,
 "nbformat_minor": 2
}
