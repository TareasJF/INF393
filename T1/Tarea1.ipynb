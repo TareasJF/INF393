{
 "cells": [
  {
   "cell_type": "markdown",
   "metadata": {},
   "source": [
    "# 1.- Regresión Lineal Ordinaria (LSS)"
   ]
  },
  {
   "cell_type": "markdown",
   "metadata": {},
   "source": [
    "En esta sección trabajaremos con un dataset conocido como House Sales in King County, USA, presentado\n",
    "en la plataforma de Kaggle [4], el cual es un gran dataset para evaluar simples modelos de regresión. Los\n",
    "registros contienen distintas características asociadas a las ventas de casas en la localidad King County, entre\n",
    "mayo de 2014 y mayo de 2015, las cuales vienen descritas en el dataset, como la cantidad de habitaciones,\n",
    "cantidad de baños, número de pisos, etc. Donde una de las variables a estudiar corresponde al precio en el\n",
    "cual se vendió la casa."
   ]
  },
  {
   "cell_type": "markdown",
   "metadata": {},
   "source": [
    "  **a)** Construya un dataframe con los datos a analizar descargándolos desde la plataforma como se indicó.\n",
    "Explique por qué se realiza la línea 4.\n"
   ]
  },
  {
   "cell_type": "code",
   "execution_count": null,
   "metadata": {},
   "outputs": [],
   "source": [
    "import pandas as pd\n",
    "import numpy as np\n",
    "df = pd.read_csv(\"kc_house_data.csv\")\n",
    "df.drop(['id','date','zipcode',],axis=1,inplace=True)\n",
    "df.head()"
   ]
  },
  {
   "cell_type": "markdown",
   "metadata": {},
   "source": [
    "La línea 4 se encarga de eliminar parámetros que no son importantes para la valoración de la vivienda. La función drop toma un arreglo de atributos y los elimina del dataset."
   ]
  },
  {
   "cell_type": "markdown",
   "metadata": {},
   "source": [
    "**b)** Describa brevemente el dataset a utilizar."
   ]
  },
  {
   "cell_type": "code",
   "execution_count": null,
   "metadata": {},
   "outputs": [],
   "source": [
    "df.shape\n",
    "df.info()\n",
    "df.describe()"
   ]
  },
  {
   "cell_type": "markdown",
   "metadata": {},
   "source": [
    "Como se mustra en la salida anterior, el dataset corresponde a la información de 21613 casas, en donde cada una tiene 18 atributos asociados. Estos atributos corresponden a precio, número de baños, número de dormitorios, superficie del living, superficie total del terreno, número de pisos, entre otros más especificados en las columnas. Además, se presentan la media, la desviaciñon estándar y los cuartiles de cada atributo sobre el dataset total."
   ]
  },
  {
   "cell_type": "markdown",
   "metadata": {},
   "source": [
    "**c)** Normalice los datos antes de trabajar y aplique una transformación adecuada a la variable a predecir.\n",
    "Explique la importancia/conveniencia de realizar estas dos operaciones."
   ]
  },
  {
   "cell_type": "code",
   "execution_count": null,
   "metadata": {},
   "outputs": [],
   "source": [
    "from sklearn.preprocessing import StandardScaler\n",
    "scaler = StandardScaler()\n",
    "df_scaled = pd.DataFrame(scaler.fit_transform(df), columns=df.columns)\n",
    "df_scaled['price'] = np.log(df['price'])"
   ]
  },
  {
   "cell_type": "markdown",
   "metadata": {
    "collapsed": true
   },
   "source": [
    "La normalización es necesaria debido a que la mayoría de los algoritmos clasificadores hacen uso de la distancia euclidiana para calcular la distancia entre dos puntos en el dataset. Cuando existe un atributo con un rango de valores mucho mayor en comparación a los demás, este gobernará el calculo de la distancia. Esto puede producir, por ejemplo, que el algoritmo de gradiente (SGD) converja mucho más lento en comparación a una instancia normalizada.\n",
    "\n",
    "La transformación sobre el precio, por otro lado, es necesaria para utilizar regresión lineal. Las regresiones lineales, tal y como dice su nombre, modelan utilizando rectas. Estas rectas luego son comparadas con los valores del precio para probar que tan bien se ajustan a nuestros valores. No tiene sentido realizar esta comapracion si el precio no sigue una tendencia lineal. Por ejemplo, se estaría intentando ajustar una recta sobre una función cuadratica, lo cual no es correcto. Al aplicar el logaritmo, nos aseguramos que el precio, nuestro ** y **, sea siempre lineal."
   ]
  },
  {
   "cell_type": "markdown",
   "metadata": {},
   "source": [
    "**d)** Realice una regresión lineal de mínimos cuadrados básica. Explique la importancia/conveniencia del\n",
    "paso 4 y los argumentos que se deben entregar a la función que implementa la regresión lineal."
   ]
  },
  {
   "cell_type": "code",
   "execution_count": null,
   "metadata": {},
   "outputs": [],
   "source": [
    "import sklearn.linear_model as lm\n",
    "X = df_scaled.iloc[:,1:] #use .ix instead, in older pandas version\n",
    "N = X.shape[0]\n",
    "X.insert(X.shape[1], 'intercept', np.ones(N))\n",
    "y = df_scaled['price']\n",
    "#mascara estatica con el 70% de los datos\n",
    "mascara = np.zeros(len(X))\n",
    "limit = int(len(X)*0.7)\n",
    "mascara[:limit] = 1\n",
    "istrain = mascara== 1\n",
    "Xtrain = X[istrain]\n",
    "ytrain = y[istrain]\n",
    "Xtest = X[np.logical_not(istrain)]\n",
    "ytest = y[np.logical_not(istrain)]\n",
    "linreg = lm.LinearRegression(fit_intercept = False)\n",
    "linreg.fit(Xtrain, ytrain)"
   ]
  },
  {
   "cell_type": "markdown",
   "metadata": {},
   "source": [
    "En el paso 4, se incorpora una columna de unos para representar a la constante $\\beta_0$ en el modelo de la regresión lineal, que corresponde a nuestro intercepto. Esta constante proviene de la expresión:\n",
    "\n",
    "$H = \\beta^TX + \\beta_0$\n",
    "\n",
    "en donde $\\beta$ es la matriz de los valores libres asociados con cada atributo en la matriz $X$ y $H$ es la estimación actual.\n",
    "\n",
    "Los parámetros que se deben entregar a la función de regresión lineal, es la matriz de atributos $X$ y el vector de los valores verdaderos $Y$."
   ]
  },
  {
   "cell_type": "markdown",
   "metadata": {},
   "source": [
    "**e)** Construya una tabla con los pesos y Z-score correspondientes a cada predictor (variable). ¿Qué variables\n",
    "están más correlacionadas con la respuesta? Si usáramos un nivel de significación del 5%. ¿Qué es lo\n",
    "que observa y cuál puede ser la causa?"
   ]
  },
  {
   "cell_type": "markdown",
   "metadata": {},
   "source": [
    "Los coeficientes corresponden a:"
   ]
  },
  {
   "cell_type": "code",
   "execution_count": null,
   "metadata": {},
   "outputs": [],
   "source": [
    "# Obtención de los coeficientes\n",
    "betas = linreg.coef_\n",
    "col = list(X)\n",
    "bT = pd.DataFrame([betas], columns=col)\n",
    "bT"
   ]
  },
  {
   "cell_type": "markdown",
   "metadata": {},
   "source": [
    "Los z-scores de los coeficientes corresponde a:"
   ]
  },
  {
   "cell_type": "code",
   "execution_count": null,
   "metadata": {
    "scrolled": true
   },
   "outputs": [],
   "source": [
    "# Obtención de los z-score\n",
    "from scipy import stats\n",
    "zscores = stats.zscore(betas)\n",
    "zT = pd.DataFrame([zscores], columns=col)\n",
    "zT"
   ]
  },
  {
   "cell_type": "markdown",
   "metadata": {},
   "source": [
    "Lo anterior se puede resumir en la siguiente tabla:"
   ]
  },
  {
   "cell_type": "code",
   "execution_count": null,
   "metadata": {},
   "outputs": [],
   "source": [
    "table = bT.append(zT).transpose()\n",
    "table.columns = [\"Coeficiente\", \"Z-Score\"]\n",
    "table"
   ]
  },
  {
   "cell_type": "markdown",
   "metadata": {},
   "source": [
    "Usando un nivel de significancia de $5\\%$, tenemos que son relevantes aquellos atributos cuyo $|z|$ sea mayor a las colas de la distribución $\\mathcal{N}(\\mu, \\sigma)$ donde $\\mu$ la media de los betas y $\\sigma$ la desviación estándar. Como queremos un intervalo de confianza cerrado de igual magnitud, el problema se traduce a calcular:\n",
    "\n",
    "$2P(Z \\leq z) = 0.05$\n",
    "\n",
    "Tal y como se explica en el libro guía, se puede testear utilizando la distribución $t_{(N - p - 1)}$ donde $N$ es la cantidad de datos utilizados y $p$ la cantidad de atributos, debido a la marginalidad de la diferencia entre la distribución normal y dicha distribución.\n",
    "\n",
    "Obtenemos entonces:"
   ]
  },
  {
   "cell_type": "code",
   "execution_count": null,
   "metadata": {},
   "outputs": [],
   "source": [
    "stats.t.ppf([1-0.025], len(Xtrain)-len(col)-1)"
   ]
  },
  {
   "cell_type": "markdown",
   "metadata": {},
   "source": [
    "Lo cual indica que son relevantes aquellas variables con z-score $|z| > 1.96$. Esto es, las variables sqft_living y sqft_above.\n",
    "\n",
    "Se puede observar que de todos los atributos existentes, la mayoría tiene z-scores marginales en comparaciñon a los atributos sqft_living, sqft_above y sqft_basement, por lo que su aporte es también marginal en la predicción del precio de la vivienda."
   ]
  },
  {
   "cell_type": "markdown",
   "metadata": {},
   "source": [
    "**f)** Proponga un método para corregir lo observado (Hint: inspírese en los métodos de feature engineering\n",
    "de las siguiente secciones). Verifíquelo mediante los Z-score presentados en la pregunta **e)**."
   ]
  },
  {
   "cell_type": "markdown",
   "metadata": {},
   "source": [
    "Basandonos en la sección anterior, podemos eliminar todos los atributos con z-score irrelevantes para la regresión lineal. Si consideramos a $z \\rel 0.1$ como el umbral de selección, tenemos como resultado:"
   ]
  },
  {
   "cell_type": "code",
   "execution_count": null,
   "metadata": {},
   "outputs": [],
   "source": [
    "import sklearn.linear_model as lm\n",
    "X2 = df_scaled.iloc[:, 1:]\n",
    "X2 = X2.iloc[:,[2, 9, 10]] #use .ix instead, in older pandas version\n",
    "print(list(X2))\n",
    "N = X2.shape[0]\n",
    "X2.insert(X2.shape[1], 'intercept', np.ones(N))\n",
    "y2 = df_scaled['price']\n",
    "#mascara estatica con el 70% de los datos\n",
    "mascara = np.zeros(len(X2))\n",
    "limit = int(len(X2)*0.7)\n",
    "mascara[:limit] = 1\n",
    "istrain2 = mascara== 1\n",
    "Xtrain2 = X2[istrain2]\n",
    "ytrain2 = y2[istrain2]\n",
    "Xtest2 = X2[np.logical_not(istrain2)]\n",
    "ytest2 = y2[np.logical_not(istrain2)]\n",
    "linreg2 = lm.LinearRegression(fit_intercept = False)\n",
    "linreg2.fit(Xtrain2, ytrain2)\n",
    "betas2 = linreg2.coef_\n",
    "col2 = list(X2)\n",
    "pd.DataFrame([betas2], columns=col2)\n",
    "zscores2 = stats.zscore(betas2)\n",
    "pd.DataFrame([zscores2], columns=col2)"
   ]
  },
  {
   "cell_type": "markdown",
   "metadata": {},
   "source": [
    "Considerando la distribución $t_{(N - k - 1)}$ donde $k$ son los atributos filtrados. Tenemos entonces:"
   ]
  },
  {
   "cell_type": "code",
   "execution_count": null,
   "metadata": {},
   "outputs": [],
   "source": [
    "stats.t.ppf([1-0.025], len(Xtrain2)-len(col2)-1)"
   ]
  },
  {
   "cell_type": "markdown",
   "metadata": {},
   "source": [
    "Esto implica que los atributos seleccionados son similarmente importantes en la predicción del precio."
   ]
  },
  {
   "cell_type": "markdown",
   "metadata": {},
   "source": [
    "**g)** Estime el error de predicción del modelo usando validación cruzada con un número de folds igual a K\n",
    "= 5 y K = 10. Recuerde que para que la estimación sea razonable, en cada configuración (fold) deberá\n",
    "reajustar los pesos del modelo. Mida el error real del modelo sobre el conjunto de pruebas, compare y\n",
    "concluya."
   ]
  },
  {
   "cell_type": "markdown",
   "metadata": {},
   "source": [
    "Asumiendo que se debe utilizar el modelo con la selección de atributos seleccionada anteriormente, se tiene:"
   ]
  },
  {
   "cell_type": "code",
   "execution_count": null,
   "metadata": {},
   "outputs": [],
   "source": [
    "# Using the test sample conaining only selected predictors\n",
    "yhat_test = linreg.predict(Xtest) # Predict \n",
    "mse_test = np.mean(np.power(yhat_test - ytest, 2))\n",
    "\n",
    "# Form the matrix from the RAW set\n",
    "Xm = Xtrain.as_matrix()\n",
    "ym = ytrain.as_matrix()\n",
    "\n",
    "from sklearn.model_selection import KFold\n",
    "\n",
    "def doKFold(Xt, yt, K):\n",
    "    # Using K = 5\n",
    "    kf = KFold(n_splits=K)\n",
    "    mse_cv = 0\n",
    "    for train_indeces, test_indeces in kf.split(Xm):\n",
    "        # Select only the most relevant attributes\n",
    "        # In the previous section we chose attributes with index 2, 9 and 10\n",
    "        # as the most relevant.\n",
    "        Xtrain_k = Xtrain.iloc[train_indeces].as_matrix()\n",
    "        Xtest_k = Xtrain.iloc[test_indeces].as_matrix()\n",
    "        ytrain_k = ytrain.iloc[train_indeces].as_matrix()\n",
    "        ytest_k = ytrain.iloc[test_indeces].as_matrix()\n",
    "\n",
    "        # Perform linear regression for this fold\n",
    "        linreg = lm.LinearRegression(fit_intercept = False)\n",
    "        linreg.fit(Xtrain_k, ytrain_k)\n",
    "\n",
    "        # Get the yhat for our test set\n",
    "        yhat_val = linreg.predict(Xtest_k)\n",
    "\n",
    "        # Calculate the MSE for the error\n",
    "        mse_fold = np.mean(np.power(yhat_val - ytest_k, 2))\n",
    "        mse_cv += mse_fold\n",
    "    mse_cv = mse_cv / K\n",
    "    return mse_cv\n",
    "\n",
    "\n",
    "{\"mse5\": doKFold(Xtrain, ytrain, 5), \"mse10\": doKFold(Xtrain, ytrain, 10), \"mse_test\": mse_test}"
   ]
  },
  {
   "cell_type": "markdown",
   "metadata": {},
   "source": [
    "Se puede observar que los errores obtenidos para cross validation con $K = 5$ y $K = 10$ son muy similares y tienen un valor aproximado de $0.0647$. El error obtenido del conjunto de prueba sobre los datos sin realización de selección de atributos corresponde a $0.065$ que es prácticamente el mismo.\n",
    "\n",
    "Esto sucede debido a la gran cantidad de datos disponibles para el entrenamiento. Eligiendo todo el subconjunto de atributos, tenemos que $p$ es al menos 3 ordenes de magnitud menor que $N$, lo que permite tener una gran precisión utilizando cualquier método de validación."
   ]
  },
  {
   "cell_type": "markdown",
   "metadata": {},
   "source": [
    "**h)** Mida los errores de predicción para cada dato de entrenamiento. Utilizando un “quantile-quantile plot”\n",
    "determine si es razonable la hipótesis de normalidad sobre los residuos del modelo."
   ]
  },
  {
   "cell_type": "code",
   "execution_count": null,
   "metadata": {},
   "outputs": [],
   "source": [
    "import scipy.stats as stats\n",
    "import matplotlib.pyplot as plt\n",
    "ypredicted = linreg.predict(Xtrain)\n",
    "error = ypredicted - ytrain.as_matrix()\n",
    "stats.probplot(error, dist='norm', plot=plt)\n",
    "plt.ylabel('Error')\n",
    "plt.title('Quantile-Quantile Plot')\n",
    "plt.show()\n"
   ]
  },
  {
   "cell_type": "markdown",
   "metadata": {},
   "source": [
    "Con el gráfico de Quantile-Quantile se busca analizar las diferencias entre la distribución de una población aleatoria y, en este caso, la distribución normal. Se puede apreciar que los valores están distribuidos en el gráfico de manera lineal, en una recta con un coeficiente de correlación de **FIXME**. Esto es suficiente para respaldar la hIpótesis de que los datos están normalmente distribuidos."
   ]
  },
  {
   "cell_type": "markdown",
   "metadata": {},
   "source": [
    "#  2.- Selección de Atributos"
   ]
  },
  {
   "cell_type": "markdown",
   "metadata": {},
   "source": [
    "Utilizando el dataframe de la actividad anterior,"
   ]
  },
  {
   "cell_type": "markdown",
   "metadata": {},
   "source": [
    "**a)** Construya una función que implemente Forward Step-wise Selection (FSS). Es decir, partiendo con un\n",
    "modelo sin predictores (variables), agregue un predictor a la vez, re-ajustando el modelo de regresión\n",
    "en cada paso. Para seleccionar localmente una variable, proponga/implemente un criterio distinto al\n",
    "utilizado en el código de ejemplo. Construya un gráfico que muestre el error de entrenamiento y el error\n",
    "de pruebas como función del número de variables en el modelo. Ordene el eje x de menor a mayor."
   ]
  },
  {
   "cell_type": "markdown",
   "metadata": {},
   "source": [
    "Para la implementación de FSS, se ha seleccionado el criterio del promedio del valor absoluto dado por:\n",
    "\n",
    "$\\sum_i^N\\frac{|Y - \\hat{f}(X)|}{N}$\n",
    "\n",
    "como una forma alternativa para discriminar a los distintos candidatos.\n",
    "\n",
    "A continuación se presenta el algoritmo y un gráfico entre el número de variables y el error:"
   ]
  },
  {
   "cell_type": "code",
   "execution_count": null,
   "metadata": {},
   "outputs": [],
   "source": [
    "def fss_cuadratic(x, y, names_x, k = 10000):\n",
    "    p = x.shape[1]-1 #p is the total number of attributes\n",
    "    k = min(p, k) #k is the maximum number of parameters to choose\n",
    "    names_x = np.array(names_x) #this is the names of the columns\n",
    "    remaining = list(range(0, p)) #Amount of comparable attributos left\n",
    "    selected = [p] #First, choose the last parameter in the list\n",
    "    current_score = best_new_score = 0.0 #Initialize score\n",
    "    points = []\n",
    "    scores = []\n",
    "    while remaining and len(selected)<=k :\n",
    "        score_candidates = []\n",
    "        for candidate in remaining:\n",
    "            model = lm.LinearRegression(fit_intercept=False) #Init a linear regression model\n",
    "            indexes = selected + [candidate] # Only use the following parameters\n",
    "            x_train = x.iloc[:, indexes]\n",
    "            predictions_train = model.fit(x_train, y).predict(x_train)\n",
    "            residuals_train = predictions_train - y\n",
    "            mse_candidate = np.mean(np.power(residuals_train, 2)) # Promedio del valor absoluto\n",
    "            score_candidates.append((mse_candidate, candidate))\n",
    "        score_candidates.sort()\n",
    "        score_candidates[:] = score_candidates[::-1]\n",
    "        best_new_score, best_candidate = score_candidates.pop()\n",
    "        remaining.remove(best_candidate)\n",
    "        selected.append(best_candidate)\n",
    "        points.append(len(selected))\n",
    "        scores.append(best_new_score)\n",
    "    return selected, points, scores\n",
    "\n",
    "def fss_abs(x, y, names_x, k = 10000):\n",
    "    p = x.shape[1]-1 #p is the total number of attributes\n",
    "    k = min(p, k) #k is the maximum number of parameters to choose\n",
    "    names_x = np.array(names_x) #this is the names of the columns\n",
    "    remaining = list(range(0, p)) #Amount of comparable attributos left\n",
    "    selected = [p] #First, choose the last parameter in the list\n",
    "    current_score = best_new_score = 0.0 #Initialize score\n",
    "    points = []\n",
    "    scores = []\n",
    "    while remaining and len(selected)<=k :\n",
    "        score_candidates = []\n",
    "        for candidate in remaining:\n",
    "            model = lm.LinearRegression(fit_intercept=False) #Init a linear regression model\n",
    "            indexes = selected + [candidate] # Only use the following parameters\n",
    "            x_train = x.iloc[:, indexes]\n",
    "            predictions_train = model.fit(x_train, y).predict(x_train)\n",
    "            residuals_train = predictions_train - y\n",
    "            mse_candidate = np.mean(np.absolute(residuals_train)) # Promedio del valor absoluto\n",
    "            score_candidates.append((mse_candidate, candidate))\n",
    "        score_candidates.sort()\n",
    "        score_candidates[:] = score_candidates[::-1]\n",
    "        best_new_score, best_candidate = score_candidates.pop()\n",
    "        remaining.remove(best_candidate)\n",
    "        selected.append(best_candidate)\n",
    "        points.append(len(selected))\n",
    "        scores.append(best_new_score)\n",
    "    return selected, points, scores\n",
    "\n",
    "\n",
    "names_regressors = X.columns[:-1] #without intercept\n",
    "(selected, points, scores) = fss_abs(X,y,names_regressors)\n",
    "\n",
    "plt.plot(points, scores, 'ro')\n",
    "plt.axis()\n",
    "plt.title('Error en función al número de predictores')\n",
    "plt.show()"
   ]
  },
  {
   "cell_type": "markdown",
   "metadata": {},
   "source": [
    "Como se puede apreciar en el gráfico, a medida que aumenta el número de atributos seleccionados, disminuye el error de la predicción hasta que aproximadamente en $p = 12$ la ganancia de precisión ya no es tan significativa. Esto es relevante al momento de seleccionar atributos cuidando de no caer en overfitting, ya que implica que existe un número ideal o óptimo de atributos a seleccionar.\n",
    "\n",
    "A continuación se presenta una comparación entre la función cuadratica y absoluta para el error:"
   ]
  },
  {
   "cell_type": "code",
   "execution_count": null,
   "metadata": {},
   "outputs": [],
   "source": [
    "\n",
    "\n",
    "(selected, points, scores) = fss_abs(X,y,names_regressors)\n",
    "\n",
    "plt.plot(points, scores, 'ro')\n",
    "plt.axis()\n",
    "plt.title('Absolute error')\n",
    "plt.show()\n",
    "\n",
    "(selected, points, scores) = fss_cuadratic(X,y,names_regressors)\n",
    "\n",
    "plt.plot(points, scores, 'ro')\n",
    "plt.axis()\n",
    "plt.title('Cuadratic error')\n",
    "plt.show()"
   ]
  },
  {
   "cell_type": "markdown",
   "metadata": {},
   "source": [
    "Se puede notar claramente que utilizando un criterio de error cuadratico se obtienen errores de menor magnitud debido a la naturaleza de la distancia euclidiana. Sin embargo, se puede también notar que ambos siguen la misma tendencia."
   ]
  },
  {
   "cell_type": "markdown",
   "metadata": {},
   "source": [
    "#  3.- Regularización"
   ]
  },
  {
   "cell_type": "markdown",
   "metadata": {},
   "source": [
    "Utilizando el dataframe de la actividad anterior,"
   ]
  },
  {
   "cell_type": "markdown",
   "metadata": {},
   "source": [
    "**a)** Ajuste un modelo lineal utilizando “Ridge Regression”, es decir, regularizando con la norma $\\ell_2$. Utilice\n",
    "valores del parámetro de regularización $\\lambda$ en el rango $[10^7, 10^1]$, variando si estima conveniente.\n",
    "Construya un gráfico que muestre los coeficientes obtenidos como función del parámetro de regularización.\n",
    "Describa lo que observa. (WARNING: Note que la línea 3 y el primer argumento en la línea 9\n",
    "son críticos)."
   ]
  },
  {
   "cell_type": "code",
   "execution_count": null,
   "metadata": {},
   "outputs": [],
   "source": [
    "from sklearn.linear_model import Ridge\n",
    "import matplotlib.pylab as plt\n",
    "X2 = X.drop('intercept', axis=1,inplace=False)\n",
    "Xtrain = X2[istrain]\n",
    "ytrain = y[istrain]\n",
    "names_regressors = X2.columns\n",
    "alphas_ = np.logspace(7,1,base=10)\n",
    "coefs = []\n",
    "model = Ridge(fit_intercept=True,solver='svd')\n",
    "for a in alphas_:\n",
    "    model.set_params(alpha=a)\n",
    "    model.fit(Xtrain, ytrain)\n",
    "    coefs.append(model.coef_)\n",
    "ax = plt.gca()\n",
    "for y_arr, label in zip(np.squeeze(coefs).T, names_regressors):\n",
    "    plt.plot(alphas_, y_arr, label=label)\n",
    "plt.legend()\n",
    "ax.set_xscale('log')\n",
    "ax.set_xlim(ax.get_xlim()[::-1]) # reverse axis\n",
    "plt.title('Regularization Path RIDGE')\n",
    "plt.axis('tight')\n",
    "plt.legend(loc=2)\n",
    "plt.show()"
   ]
  },
  {
   "cell_type": "markdown",
   "metadata": {},
   "source": [
    "Para poder entender el gráfico generado, es necesario entender como funciona Ridge Regression. Este algoritmo penaliza los coeficientes de la regresión lineal a través de un coeficiente denominado $\\lambda$. Esto permite \"suavizar\" la diferencia de valor entre los coeficientes al imponer restricciones sobre su valor máximo.\n",
    "\n",
    "Cuando se elije un valor de $\\lambda$ pequeño, se puede estar en presencia de **underfitting**, mientras que si es muy pequeño se sufre de **overfitting**. Por tanto, es importante elegir valores de $\\lambda$ adecuados.\n",
    "\n",
    "Se puede observar en el gráfico que valores de $\\lambda$ cercanos a 0 (o bien, cercanos a $10^1$) generan coeficientes muy dispersos con alta varianza y bias. A medida que se aumenta el valor de $\\lambda$ los valores de los coeficientes van disminuyendo proporcionalmente de forma que se genera una disminución en la varianza y el bias. Alrededor de un coeficiente de $10^6$, se tiene que los coeficientes comienzan a ser muy similares entre sí mismos, produciendo el efecto de **overtfitting** que disminuye la capacidad de generalización del modelo entrenado.\n",
    "\n",
    "Se puede confirmar además que los atributos relevantes corresponden a **sqft_lot** (Metros cuadrados de la vivienda), **grade** y **bathrooms**, debido a que son los que más aportan a la varianza."
   ]
  },
  {
   "cell_type": "markdown",
   "metadata": {},
   "source": [
    "**b)** Ajuste un modelo lineal utilizando el método “Lasso”, es decir, regularizando con la norma $\\ell_1$. Utilice\n",
    "valores del parámetro de regularización $\\lambda$ en el rango $[10^0, 10^{-3}]$. Para obtener el código, modifique\n",
    "las líneas 7 y 9 del ejemplo anterior. Construya un gráfico que muestre los coeficientes obtenidos\n",
    "como función del parámetro de regularización. Describa lo que observa. ¿Es más efectivo Lasso para\n",
    "seleccionar atributos?"
   ]
  },
  {
   "cell_type": "code",
   "execution_count": null,
   "metadata": {},
   "outputs": [],
   "source": [
    "from sklearn.linear_model import Lasso\n",
    "alphas_ = np.logspace(0,-3,base=10)\n",
    "X2 = X.drop('intercept', axis=1,inplace=False)\n",
    "Xtrain = X2[istrain]\n",
    "ytrain = y[istrain]\n",
    "names_regressors = X2.columns\n",
    "coefs = []\n",
    "model = Lasso(fit_intercept=True)\n",
    "for a in alphas_:\n",
    "    model.set_params(alpha=a)\n",
    "    model.fit(Xtrain, ytrain)\n",
    "    coefs.append(model.coef_)\n",
    "ax = plt.gca()\n",
    "for y_arr, label in zip(np.squeeze(coefs).T, names_regressors):\n",
    "    plt.plot(alphas_, y_arr, label=label)\n",
    "plt.legend()\n",
    "ax.set_xscale('log')\n",
    "ax.set_xlim(ax.get_xlim()[::-1]) # reverse axis\n",
    "plt.title('Regularization Path LASSO')\n",
    "plt.axis('tight')\n",
    "plt.legend(loc=2)\n",
    "plt.show()"
   ]
  },
  {
   "cell_type": "markdown",
   "metadata": {},
   "source": [
    "A diferencia de Ride Regression, Lasso permite anular coeficientes para cierto valores de $\\lambda$. A esto se le denomina \"soft thresholding\". Se puede observar que para coeficientes de $\\lambda$ pequeños se tiene una gran varianza entre los coeficientes de la regresión lineal. A medida que se aumenta $\\lambda$, comienza a disminuir la la varianza entre los coeficientes, pero también la gran mayorìa de ellos comienza a desaparecer. Esto permite reducir la cantidad de atributos requeridos para realizar la estimación, disminuyendo las probabilidades de overfitting si se selecciona un valor de $\\lambda$ adecuado."
   ]
  },
  {
   "cell_type": "markdown",
   "metadata": {},
   "source": [
    "**c)** Escogiendo uno de los dos métodos regularizadores anteriores, especificando el porqué, construya un\n",
    "gráfico que muestre el error de entrenamiento y el error de pruebas como función del parámetro de\n",
    "regularización. Discuta lo que observa."
   ]
  },
  {
   "cell_type": "markdown",
   "metadata": {},
   "source": [
    "Se utiliza Lasso para aprovechar la oportunidad de reducir ciertos coeficientes a 0 (los que están más cerca del valor $\\lambda = 10^{-3}$) en lugar del suavizado que realiza Ridge Regression."
   ]
  },
  {
   "cell_type": "code",
   "execution_count": null,
   "metadata": {},
   "outputs": [],
   "source": [
    "Xtest = X2[np.logical_not(istrain)]\n",
    "ytest = y[np.logical_not(istrain)]\n",
    "alphas_ = np.logspace(0,-3,base=10)\n",
    "coefs = []\n",
    "model = Lasso(fit_intercept=True)\n",
    "mse_test = []\n",
    "mse_train = []\n",
    "for a in alphas_:\n",
    "    model.set_params(alpha=a)\n",
    "    model.fit(Xtrain, ytrain)\n",
    "    yhat_train = model.predict(Xtrain)\n",
    "    yhat_test = model.predict(Xtest)\n",
    "    mse_train.append(np.mean(np.power(yhat_train - ytrain, 2)))\n",
    "    mse_test.append(np.mean(np.power(yhat_test - ytest, 2)))\n",
    "ax = plt.gca()\n",
    "ax.plot(alphas_,mse_train,label='train error ridge')\n",
    "ax.plot(alphas_,mse_test,label='test error ridge')\n",
    "plt.legend(loc=1)\n",
    "ax.set_xscale('log')\n",
    "ax.set_xlim(ax.get_xlim()[::-1])\n",
    "plt.show()"
   ]
  },
  {
   "cell_type": "markdown",
   "metadata": {},
   "source": [
    "Se puede notar que a medida que se disminuye el valor del parámetro $\\lambda$, comienzan a aumentar tanto el error de entrenamiento como el error de prueba. Esto ocurre debido a que en Lasso muchos de los coeficientes se anulan, evitando que sus atributos asociados aporten información a la predicción. Entre $10^0$ y $10^{-1}$ se llega a un punto crítico en donde se obtiene un error máximo debido a la elminicación de la mayoría de los atributos."
   ]
  },
  {
   "cell_type": "markdown",
   "metadata": {},
   "source": [
    "**d)** Estime el valor del parámetro de regularización en **alguno** de los modelos anteriores haciendo uso de\n",
    "la técnica validación cruzada."
   ]
  },
  {
   "cell_type": "markdown",
   "metadata": {},
   "source": [
    "Utilizando Lasso, se tiene que:"
   ]
  },
  {
   "cell_type": "code",
   "execution_count": null,
   "metadata": {},
   "outputs": [],
   "source": [
    "def MSE(y,yhat): return np.mean(np.power(y-yhat,2))\n",
    "Xm = Xtrain.as_matrix()\n",
    "ym = ytrain.as_matrix()\n",
    "\n",
    "from sklearn.model_selection import KFold\n",
    "\n",
    "kf = KFold(n_splits=10)\n",
    "best_cv_mse = float(\"inf\")\n",
    "alphas_ = np.logspace(0,-3,base=10)\n",
    "model = Lasso(fit_intercept=True)\n",
    "\n",
    "for a in alphas_:\n",
    "    model.set_params(alpha=a)\n",
    "    mse_list_k10 = [MSE(model.fit(Xm[train], ym[train]).predict(Xm[val]), ym[val]) for train, val in kf.split(Xm)]\n",
    "    if np.mean(mse_list_k10) < best_cv_mse:\n",
    "        best_cv_mse = np.mean(mse_list_k10)\n",
    "        best_alpha = a\n",
    "        print(\"BEST PARAMETER=%f, MSE(CV)=%f\"%(best_alpha,best_cv_mse))"
   ]
  },
  {
   "cell_type": "markdown",
   "metadata": {},
   "source": [
    "Por lo tanto, el parámetro ideal para Lasso corresponde a $10^{-3}$ que corresponde al intercepto entre el error de entrenamiento y el error de testing de menor valor, coincidiendo con el gráfico anterior."
   ]
  },
  {
   "cell_type": "markdown",
   "metadata": {},
   "source": [
    "# 4.- Drift"
   ]
  },
  {
   "cell_type": "markdown",
   "metadata": {},
   "source": [
    "En esta sección se presentarán dos muestras del dataframe utilizado en la actividades anteriores, donde cada\n",
    "una de estas tiene una propiedad distinta ya que son muestreadas en función del valor a predecir (logaritmo\n",
    "del precio de la casa). Por una parte se tiene una pequeña muestra A, la cual es extraída directamente de\n",
    "los datos con los que se trabaja (manteniendo la distribución de esta) y la muestra B, es generada con el\n",
    "propósito de que en cada intervalo del rango de valores haya la misma cantidad de datos aproximadamente\n",
    "(simulando una distribución uniforme). El objetivo es familiarizarse con el concepto de Transfer Learning."
   ]
  },
  {
   "cell_type": "markdown",
   "metadata": {},
   "source": [
    "En el siguiente código se generan las dos muestras con las que se trabajará."
   ]
  },
  {
   "cell_type": "code",
   "execution_count": null,
   "metadata": {},
   "outputs": [],
   "source": [
    "df_A = df_scaled.sample(1000,random_state=11)\n",
    "frames = []\n",
    "valor = df_scaled.price\n",
    "length = 0.3\n",
    "for z in np.arange(int(np.min(valor)),int(np.max(valor))+1,length):\n",
    "    #un maximo de 100 datos por intervalo\n",
    "    aux = df_scaled[(df_scaled.price >= z) & (df_scaled.price < z+length)].head(100)\n",
    "    frames.append(aux)\n",
    "df_B = pd.concat(frames).sample(1000,random_state=11) #crea el dataframe"
   ]
  },
  {
   "cell_type": "markdown",
   "metadata": {},
   "source": [
    "**a)** Cree el conjunto de entrenamiento y otro de validación para trabajar cada muestra mediante la técnica\n",
    "de hold out validation."
   ]
  },
  {
   "cell_type": "code",
   "execution_count": null,
   "metadata": {},
   "outputs": [],
   "source": [
    "X_A = df_A.iloc[:,1:].values\n",
    "y_A = df_A.price\n",
    "X_B = df_B.iloc[:,1:].values\n",
    "y_B = df_B.price\n",
    "from sklearn.model_selection import train_test_split\n",
    "Xtrain_A,Xval_A,ytrain_A,yval_A = train_test_split(X_A, y_A, test_size=0.3, random_state=42)\n",
    "Xtrain_B,Xval_B,ytrain_B,yval_B = train_test_split(X_B, y_B, test_size=0.3, random_state=42)"
   ]
  },
  {
   "cell_type": "markdown",
   "metadata": {},
   "source": [
    "**b)** Evalúe los dos modelo de regresión lineal que se generan al entrenar con cada muestra. Mida el error\n",
    "de cada modelo sobre ambos conjuntos de validación (A y B). Explique lo que observa."
   ]
  },
  {
   "cell_type": "markdown",
   "metadata": {},
   "source": [
    "**c)** Si tuviera que elegir uno de los dos modelos anteriores para trabajar con data futura, ¿Cuál eligiría y\n",
    "por qué?"
   ]
  },
  {
   "cell_type": "markdown",
   "metadata": {},
   "source": [
    "# 5.- Detectar enfermedades cardiacas"
   ]
  },
  {
   "cell_type": "markdown",
   "metadata": {},
   "source": [
    "En el área de la salud, diagnosticar a una persona de una enfermedad de forma rápida y correcta puede llegar\n",
    "a salvarle la vida. Los encargados de realizar estos diagnósticos, son médicos que, observando exámenes y\n",
    "ciertos indicadores, pueden concluir qué enfermedad presenta el paciente. Si el medico se llegase a equivocar,\n",
    "aparte de que el paciente pueda perder la vida, el medico podría ser demandado por negligencia arriesgando\n",
    "años de cárcel o pagar sumas de dinero considerable, es por estas razones que es importante no cometer\n",
    "errores.\n",
    "Pongámonos en el contexto de que usted es contratado para generar un modelo que prediga si es que un\n",
    "paciente presenta una enfermedad cardiaca a partir de ciertos indicadores, tales como la edad, sexo, presión\n",
    "6 sanguínea, nivel de glicemia, etc."
   ]
  },
  {
   "cell_type": "markdown",
   "metadata": {},
   "source": [
    "Como ayuda se le indica que la variable de máximo ritmo cardíaco alcanzado (maximum heart rate achieved)\n",
    "es un buen indicador de detección de enfermedades cardíacas. Por lo que el objetivo es predecir el comportamiento\n",
    "de esta variable en función de las otras, y con esto detectar qué tan distante es el valor real al valor\n",
    "predecido para así luego detectar los posibles outliers (enfermos), que en sí corresponden a pacientes que\n",
    "tienen un comportamiento anormal al resto."
   ]
  },
  {
   "cell_type": "markdown",
   "metadata": {},
   "source": [
    "**a)** Lea el archivo de datos, cárguelos en un dataframe o matriz, luego divida el dataframe en dos, un\n",
    "dataframe de entrenamiento (70% Datos) y un dataframe de prueba (30% Datos)."
   ]
  },
  {
   "cell_type": "code",
   "execution_count": null,
   "metadata": {},
   "outputs": [],
   "source": [
    "headers = ['age','sex','chest_pain','blood_p','serum','blood_s','electro','max_heart','angina','oldpeak','slope','vessel','thal','normal']\n",
    "df = pd.read_csv(dataset, header=None, names=headers, sep=' ')\n",
    "#create your matrix"
   ]
  },
  {
   "cell_type": "markdown",
   "metadata": {},
   "source": [
    "**b)** Realice una regresión lineal y defina usted una frontera de decisión (umbral) para poder determinar si\n",
    "es que estamos en presencia o no de una enfermedad cardíaca. Mida su desempeño con ambos conjuntos\n",
    "de datos."
   ]
  },
  {
   "cell_type": "code",
   "execution_count": null,
   "metadata": {},
   "outputs": [],
   "source": [
    "from sklearn.metrics import accuracy_score\n",
    "print \"Score: \"%(accuracy_score(y_outlier,y_predict_outlier)"
   ]
  },
  {
   "cell_type": "code",
   "execution_count": null,
   "metadata": {},
   "outputs": [],
   "source": []
  }
 ],
 "metadata": {
  "kernelspec": {
   "display_name": "Python 3",
   "language": "python",
   "name": "python3"
  },
  "language_info": {
   "codemirror_mode": {
    "name": "ipython",
    "version": 3
   },
   "file_extension": ".py",
   "mimetype": "text/x-python",
   "name": "python",
   "nbconvert_exporter": "python",
   "pygments_lexer": "ipython3",
   "version": "3.5.4"
  }
 },
 "nbformat": 4,
 "nbformat_minor": 2
}
